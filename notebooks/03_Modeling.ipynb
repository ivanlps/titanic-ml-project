{
  "cells": [
    {
      "cell_type": "markdown",
      "id": "8cd385f8",
      "metadata": {
        "id": "8cd385f8"
      },
      "source": [
        "# 03_Modelading\n",
        "\n",
        "## Equipo 1"
      ]
    },
    {
      "cell_type": "markdown",
      "id": "a494c94a",
      "metadata": {
        "id": "a494c94a"
      },
      "source": [
        "### Librerías necesarias"
      ]
    },
    {
      "cell_type": "code",
      "execution_count": 1,
      "id": "b298cd7a",
      "metadata": {
        "id": "b298cd7a"
      },
      "outputs": [],
      "source": [
        "import numpy as np\n",
        "import pandas as pd\n",
        "import seaborn as sns\n",
        "import matplotlib.pyplot as plt\n",
        "from sklearn.ensemble import RandomForestClassifier\n",
        "from sklearn.model_selection import train_test_split, cross_validate\n",
        "from sklearn.model_selection import GridSearchCV, StratifiedKFold, cross_val_score\n",
        "from sklearn.metrics import classification_report, confusion_matrix, roc_auc_score,roc_curve, auc, precision_recall_curve\n",
        "from sklearn.linear_model import LogisticRegression\n",
        "import joblib\n",
        "import warnings\n",
        "from sklearn.exceptions import ConvergenceWarning\n",
        "from sklearn.ensemble import RandomForestClassifier\n",
        "from xgboost import XGBClassifier\n",
        "from sklearn.svm import SVC\n",
        "from sklearn.metrics import accuracy_score, precision_score, recall_score, f1_score, roc_auc_score, average_precision_score, matthews_corrcoef, balanced_accuracy_score, confusion_matrix, classification_report, brier_score_loss, make_scorer\n",
        "from sklearn.calibration import calibration_curve\n",
        "from sklearn.manifold import TSNE\n",
        "import time\n",
        "from statsmodels.stats.contingency_tables import mcnemar\n",
        "from scipy.stats import f_oneway\n",
        "from math import pi\n",
        "\n",
        "warnings.filterwarnings(\"ignore\", category=ConvergenceWarning)"
      ]
    },
    {
      "cell_type": "markdown",
      "id": "0a1c76a4",
      "metadata": {
        "id": "0a1c76a4"
      },
      "source": [
        "### Cargar datos"
      ]
    },
    {
      "cell_type": "code",
      "execution_count": 2,
      "id": "c93251ed",
      "metadata": {
        "id": "c93251ed"
      },
      "outputs": [],
      "source": [
        "df = pd.read_csv('../data/processed.csv')\n",
        "df_num = df.select_dtypes(include=['int64', 'float64'])\n",
        "X_train,X_test,y_train,y_test=train_test_split(df_num.drop(columns='Survived'),df['Survived'],test_size=0.2,random_state=42,stratify=df['Survived'])"
      ]
    },
    {
      "cell_type": "markdown",
      "id": "6dd02831",
      "metadata": {},
      "source": [
        "## Protocolo de Experimentación"
      ]
    },
    {
      "cell_type": "code",
      "execution_count": 7,
      "id": "4dac78d2",
      "metadata": {
        "id": "4dac78d2"
      },
      "outputs": [],
      "source": [
        "class ModelExperiment:\n",
        "    def __init__(self, model_name, model, param_grid, scoring='f1', random_state=42,refit_metric='f1'):\n",
        "        self.model_name = model_name\n",
        "        self.model = model\n",
        "        self.param_grid = param_grid\n",
        "        self.random_state = random_state\n",
        "        self.results = {}\n",
        "        self.best_estimator_ = None\n",
        "        self.scoring = scoring\n",
        "        self.refit_metric = refit_metric\n",
        "\n",
        "    def run_experiment(self, X_train, y_train, X_test, y_test, cv_splits=5):\n",
        "        print(f\"=== {self.model_name} ===\")\n",
        "\n",
        "        # 1. GridSearch con validación cruzada estratificada\n",
        "        cv = StratifiedKFold(n_splits=cv_splits, shuffle=True, random_state=self.random_state)\n",
        "        grid = GridSearchCV(\n",
        "            estimator=self.model,\n",
        "            param_grid=self.param_grid,\n",
        "            scoring=self.scoring,\n",
        "            cv=cv,\n",
        "            n_jobs=-1,\n",
        "            verbose=1,\n",
        "            refit=self.refit_metric\n",
        "        )\n",
        "        grid.fit(X_train, y_train)\n",
        "        self.best_estimator_ = grid.best_estimator_\n",
        "\n",
        "        # 2. Evaluación en conjunto de validación\n",
        "        y_pred = self.best_estimator_.predict(X_test)\n",
        "        y_proba = self.best_estimator_.predict_proba(X_test)[:, 1] if hasattr(self.best_estimator_, \"predict_proba\") else None\n",
        "\n",
        "        # 3. Guardar resultados\n",
        "        self.results['best_params'] = grid.best_params_\n",
        "        self.results['classification_report'] = classification_report(y_test, y_pred, output_dict=True)\n",
        "        self.results['confusion_matrix'] = confusion_matrix(y_test, y_pred)\n",
        "        self.results['roc_auc'] = roc_auc_score(y_test, y_proba) if y_proba is not None else None\n",
        "\n",
        "        # 4. Persistencia del modelo\n",
        "        joblib.dump(self.best_estimator_, f\"../models/{self.model_name}_final.pkl\")\n",
        "\n",
        "        return self.results"
      ]
    },
    {
      "cell_type": "markdown",
      "id": "d11599c9",
      "metadata": {},
      "source": [
        "## Regresión Logística"
      ]
    },
    {
      "cell_type": "code",
      "execution_count": 4,
      "id": "e3fd6cbc",
      "metadata": {},
      "outputs": [],
      "source": [
        "drop_svm = [\n",
        "    # Identificadores y texto\n",
        "\n",
        "    # Variables categóricas originales\n",
        "    'Pclass',\n",
        "\n",
        "    # Codificación redundante (label/ordinal)\n",
        "    'Sex_LE','Embarked_LE','Deck_LE','TitleGroup_LE','AgeGroup_LE',\n",
        "    'Pclass_ordinal','AgeGroup_ordinal','FareLevel_ordinal',\n",
        "\n",
        "    # Dummies de referencia (una por grupo para evitar colinealidad)\n",
        "    'Sex_male',          # dejamos solo Sex_female\n",
        "    'Pclass_3',          # dejamos Pclass_1 y Pclass_2\n",
        "    'Embarked_S',        # dejamos C, Q, O\n",
        "    'TitleGroup_Common', # dejamos Military, Noble, Professional\n",
        "    'AgeGroup_Adulto',   # dejamos Niño, Adolescente, Adulto Joven, Mayor\n",
        "    'FareLevel_Medio',   # dejamos Muy bajo, Bajo, Alto, Muy alto\n",
        "    'Deck_UK'            # dejamos A, B, C, D, E, F, G, T\n",
        "]\n",
        "\n",
        "X = df_num.drop(columns=drop_svm + ['Survived'])\n",
        "y = df['Survived']\n",
        "\n",
        "X_train_svm,X_test_svm,y_train_svm,y_test_svm=train_test_split(X,y,test_size=0.2,random_state=42,stratify=y)"
      ]
    },
    {
      "cell_type": "code",
      "execution_count": 5,
      "id": "f07a0b27",
      "metadata": {
        "id": "f07a0b27"
      },
      "outputs": [],
      "source": [
        "log_reg_exp = ModelExperiment(\n",
        "    model_name=\"LogisticRegression\",\n",
        "    model=LogisticRegression(max_iter=1000, solver='saga'),\n",
        "    param_grid={\n",
        "        'penalty': ['l1', 'l2', 'elasticnet', 'none'],\n",
        "        'C': [0.001, 0.01, 0.1, 1, 10, 100],\n",
        "        'solver': ['saga','liblinear', 'lbfgs', 'newton-cg', 'sag'],\n",
        "        'class_weight': [None, 'balanced', {0:1, 1:2}, {0:1, 1:3}],\n",
        "        'max_iter': [500, 1000, 2000]\n",
        "    }\n",
        ")"
      ]
    },
    {
      "cell_type": "code",
      "execution_count": 8,
      "id": "d3ee26df",
      "metadata": {
        "colab": {
          "base_uri": "https://localhost:8080/"
        },
        "id": "d3ee26df",
        "outputId": "af130b6f-bc0f-4e8d-8000-9a476813fcc0"
      },
      "outputs": [
        {
          "name": "stdout",
          "output_type": "stream",
          "text": [
            "=== LogisticRegression ===\n",
            "Fitting 5 folds for each of 1440 candidates, totalling 7200 fits\n"
          ]
        },
        {
          "name": "stderr",
          "output_type": "stream",
          "text": [
            "c:\\Users\\ivanl\\OneDrive\\Documentos\\dataFootIL\\.conda\\Lib\\site-packages\\sklearn\\model_selection\\_validation.py:516: FitFailedWarning: \n",
            "4680 fits failed out of a total of 7200.\n",
            "The score on these train-test partitions for these parameters will be set to nan.\n",
            "If these failures are not expected, you can try to debug them by setting error_score='raise'.\n",
            "\n",
            "Below are more details about the failures:\n",
            "--------------------------------------------------------------------------------\n",
            "360 fits failed with the following error:\n",
            "Traceback (most recent call last):\n",
            "  File \"c:\\Users\\ivanl\\OneDrive\\Documentos\\dataFootIL\\.conda\\Lib\\site-packages\\sklearn\\model_selection\\_validation.py\", line 859, in _fit_and_score\n",
            "    estimator.fit(X_train, y_train, **fit_params)\n",
            "  File \"c:\\Users\\ivanl\\OneDrive\\Documentos\\dataFootIL\\.conda\\Lib\\site-packages\\sklearn\\base.py\", line 1365, in wrapper\n",
            "    return fit_method(estimator, *args, **kwargs)\n",
            "           ^^^^^^^^^^^^^^^^^^^^^^^^^^^^^^^^^^^^^^\n",
            "  File \"c:\\Users\\ivanl\\OneDrive\\Documentos\\dataFootIL\\.conda\\Lib\\site-packages\\sklearn\\linear_model\\_logistic.py\", line 1218, in fit\n",
            "    solver = _check_solver(self.solver, self.penalty, self.dual)\n",
            "             ^^^^^^^^^^^^^^^^^^^^^^^^^^^^^^^^^^^^^^^^^^^^^^^^^^^\n",
            "  File \"c:\\Users\\ivanl\\OneDrive\\Documentos\\dataFootIL\\.conda\\Lib\\site-packages\\sklearn\\linear_model\\_logistic.py\", line 64, in _check_solver\n",
            "    raise ValueError(\n",
            "ValueError: Solver lbfgs supports only 'l2' or None penalties, got l1 penalty.\n",
            "\n",
            "--------------------------------------------------------------------------------\n",
            "360 fits failed with the following error:\n",
            "Traceback (most recent call last):\n",
            "  File \"c:\\Users\\ivanl\\OneDrive\\Documentos\\dataFootIL\\.conda\\Lib\\site-packages\\sklearn\\model_selection\\_validation.py\", line 859, in _fit_and_score\n",
            "    estimator.fit(X_train, y_train, **fit_params)\n",
            "  File \"c:\\Users\\ivanl\\OneDrive\\Documentos\\dataFootIL\\.conda\\Lib\\site-packages\\sklearn\\base.py\", line 1365, in wrapper\n",
            "    return fit_method(estimator, *args, **kwargs)\n",
            "           ^^^^^^^^^^^^^^^^^^^^^^^^^^^^^^^^^^^^^^\n",
            "  File \"c:\\Users\\ivanl\\OneDrive\\Documentos\\dataFootIL\\.conda\\Lib\\site-packages\\sklearn\\linear_model\\_logistic.py\", line 1218, in fit\n",
            "    solver = _check_solver(self.solver, self.penalty, self.dual)\n",
            "             ^^^^^^^^^^^^^^^^^^^^^^^^^^^^^^^^^^^^^^^^^^^^^^^^^^^\n",
            "  File \"c:\\Users\\ivanl\\OneDrive\\Documentos\\dataFootIL\\.conda\\Lib\\site-packages\\sklearn\\linear_model\\_logistic.py\", line 64, in _check_solver\n",
            "    raise ValueError(\n",
            "ValueError: Solver newton-cg supports only 'l2' or None penalties, got l1 penalty.\n",
            "\n",
            "--------------------------------------------------------------------------------\n",
            "360 fits failed with the following error:\n",
            "Traceback (most recent call last):\n",
            "  File \"c:\\Users\\ivanl\\OneDrive\\Documentos\\dataFootIL\\.conda\\Lib\\site-packages\\sklearn\\model_selection\\_validation.py\", line 859, in _fit_and_score\n",
            "    estimator.fit(X_train, y_train, **fit_params)\n",
            "  File \"c:\\Users\\ivanl\\OneDrive\\Documentos\\dataFootIL\\.conda\\Lib\\site-packages\\sklearn\\base.py\", line 1365, in wrapper\n",
            "    return fit_method(estimator, *args, **kwargs)\n",
            "           ^^^^^^^^^^^^^^^^^^^^^^^^^^^^^^^^^^^^^^\n",
            "  File \"c:\\Users\\ivanl\\OneDrive\\Documentos\\dataFootIL\\.conda\\Lib\\site-packages\\sklearn\\linear_model\\_logistic.py\", line 1218, in fit\n",
            "    solver = _check_solver(self.solver, self.penalty, self.dual)\n",
            "             ^^^^^^^^^^^^^^^^^^^^^^^^^^^^^^^^^^^^^^^^^^^^^^^^^^^\n",
            "  File \"c:\\Users\\ivanl\\OneDrive\\Documentos\\dataFootIL\\.conda\\Lib\\site-packages\\sklearn\\linear_model\\_logistic.py\", line 64, in _check_solver\n",
            "    raise ValueError(\n",
            "ValueError: Solver sag supports only 'l2' or None penalties, got l1 penalty.\n",
            "\n",
            "--------------------------------------------------------------------------------\n",
            "360 fits failed with the following error:\n",
            "Traceback (most recent call last):\n",
            "  File \"c:\\Users\\ivanl\\OneDrive\\Documentos\\dataFootIL\\.conda\\Lib\\site-packages\\sklearn\\model_selection\\_validation.py\", line 859, in _fit_and_score\n",
            "    estimator.fit(X_train, y_train, **fit_params)\n",
            "  File \"c:\\Users\\ivanl\\OneDrive\\Documentos\\dataFootIL\\.conda\\Lib\\site-packages\\sklearn\\base.py\", line 1365, in wrapper\n",
            "    return fit_method(estimator, *args, **kwargs)\n",
            "           ^^^^^^^^^^^^^^^^^^^^^^^^^^^^^^^^^^^^^^\n",
            "  File \"c:\\Users\\ivanl\\OneDrive\\Documentos\\dataFootIL\\.conda\\Lib\\site-packages\\sklearn\\linear_model\\_logistic.py\", line 1228, in fit\n",
            "    raise ValueError(\"l1_ratio must be specified when penalty is elasticnet.\")\n",
            "ValueError: l1_ratio must be specified when penalty is elasticnet.\n",
            "\n",
            "--------------------------------------------------------------------------------\n",
            "360 fits failed with the following error:\n",
            "Traceback (most recent call last):\n",
            "  File \"c:\\Users\\ivanl\\OneDrive\\Documentos\\dataFootIL\\.conda\\Lib\\site-packages\\sklearn\\model_selection\\_validation.py\", line 859, in _fit_and_score\n",
            "    estimator.fit(X_train, y_train, **fit_params)\n",
            "  File \"c:\\Users\\ivanl\\OneDrive\\Documentos\\dataFootIL\\.conda\\Lib\\site-packages\\sklearn\\base.py\", line 1365, in wrapper\n",
            "    return fit_method(estimator, *args, **kwargs)\n",
            "           ^^^^^^^^^^^^^^^^^^^^^^^^^^^^^^^^^^^^^^\n",
            "  File \"c:\\Users\\ivanl\\OneDrive\\Documentos\\dataFootIL\\.conda\\Lib\\site-packages\\sklearn\\linear_model\\_logistic.py\", line 1218, in fit\n",
            "    solver = _check_solver(self.solver, self.penalty, self.dual)\n",
            "             ^^^^^^^^^^^^^^^^^^^^^^^^^^^^^^^^^^^^^^^^^^^^^^^^^^^\n",
            "  File \"c:\\Users\\ivanl\\OneDrive\\Documentos\\dataFootIL\\.conda\\Lib\\site-packages\\sklearn\\linear_model\\_logistic.py\", line 72, in _check_solver\n",
            "    raise ValueError(\n",
            "ValueError: Only 'saga' solver supports elasticnet penalty, got solver=liblinear.\n",
            "\n",
            "--------------------------------------------------------------------------------\n",
            "360 fits failed with the following error:\n",
            "Traceback (most recent call last):\n",
            "  File \"c:\\Users\\ivanl\\OneDrive\\Documentos\\dataFootIL\\.conda\\Lib\\site-packages\\sklearn\\model_selection\\_validation.py\", line 859, in _fit_and_score\n",
            "    estimator.fit(X_train, y_train, **fit_params)\n",
            "  File \"c:\\Users\\ivanl\\OneDrive\\Documentos\\dataFootIL\\.conda\\Lib\\site-packages\\sklearn\\base.py\", line 1365, in wrapper\n",
            "    return fit_method(estimator, *args, **kwargs)\n",
            "           ^^^^^^^^^^^^^^^^^^^^^^^^^^^^^^^^^^^^^^\n",
            "  File \"c:\\Users\\ivanl\\OneDrive\\Documentos\\dataFootIL\\.conda\\Lib\\site-packages\\sklearn\\linear_model\\_logistic.py\", line 1218, in fit\n",
            "    solver = _check_solver(self.solver, self.penalty, self.dual)\n",
            "             ^^^^^^^^^^^^^^^^^^^^^^^^^^^^^^^^^^^^^^^^^^^^^^^^^^^\n",
            "  File \"c:\\Users\\ivanl\\OneDrive\\Documentos\\dataFootIL\\.conda\\Lib\\site-packages\\sklearn\\linear_model\\_logistic.py\", line 64, in _check_solver\n",
            "    raise ValueError(\n",
            "ValueError: Solver lbfgs supports only 'l2' or None penalties, got elasticnet penalty.\n",
            "\n",
            "--------------------------------------------------------------------------------\n",
            "360 fits failed with the following error:\n",
            "Traceback (most recent call last):\n",
            "  File \"c:\\Users\\ivanl\\OneDrive\\Documentos\\dataFootIL\\.conda\\Lib\\site-packages\\sklearn\\model_selection\\_validation.py\", line 859, in _fit_and_score\n",
            "    estimator.fit(X_train, y_train, **fit_params)\n",
            "  File \"c:\\Users\\ivanl\\OneDrive\\Documentos\\dataFootIL\\.conda\\Lib\\site-packages\\sklearn\\base.py\", line 1365, in wrapper\n",
            "    return fit_method(estimator, *args, **kwargs)\n",
            "           ^^^^^^^^^^^^^^^^^^^^^^^^^^^^^^^^^^^^^^\n",
            "  File \"c:\\Users\\ivanl\\OneDrive\\Documentos\\dataFootIL\\.conda\\Lib\\site-packages\\sklearn\\linear_model\\_logistic.py\", line 1218, in fit\n",
            "    solver = _check_solver(self.solver, self.penalty, self.dual)\n",
            "             ^^^^^^^^^^^^^^^^^^^^^^^^^^^^^^^^^^^^^^^^^^^^^^^^^^^\n",
            "  File \"c:\\Users\\ivanl\\OneDrive\\Documentos\\dataFootIL\\.conda\\Lib\\site-packages\\sklearn\\linear_model\\_logistic.py\", line 64, in _check_solver\n",
            "    raise ValueError(\n",
            "ValueError: Solver newton-cg supports only 'l2' or None penalties, got elasticnet penalty.\n",
            "\n",
            "--------------------------------------------------------------------------------\n",
            "360 fits failed with the following error:\n",
            "Traceback (most recent call last):\n",
            "  File \"c:\\Users\\ivanl\\OneDrive\\Documentos\\dataFootIL\\.conda\\Lib\\site-packages\\sklearn\\model_selection\\_validation.py\", line 859, in _fit_and_score\n",
            "    estimator.fit(X_train, y_train, **fit_params)\n",
            "  File \"c:\\Users\\ivanl\\OneDrive\\Documentos\\dataFootIL\\.conda\\Lib\\site-packages\\sklearn\\base.py\", line 1365, in wrapper\n",
            "    return fit_method(estimator, *args, **kwargs)\n",
            "           ^^^^^^^^^^^^^^^^^^^^^^^^^^^^^^^^^^^^^^\n",
            "  File \"c:\\Users\\ivanl\\OneDrive\\Documentos\\dataFootIL\\.conda\\Lib\\site-packages\\sklearn\\linear_model\\_logistic.py\", line 1218, in fit\n",
            "    solver = _check_solver(self.solver, self.penalty, self.dual)\n",
            "             ^^^^^^^^^^^^^^^^^^^^^^^^^^^^^^^^^^^^^^^^^^^^^^^^^^^\n",
            "  File \"c:\\Users\\ivanl\\OneDrive\\Documentos\\dataFootIL\\.conda\\Lib\\site-packages\\sklearn\\linear_model\\_logistic.py\", line 64, in _check_solver\n",
            "    raise ValueError(\n",
            "ValueError: Solver sag supports only 'l2' or None penalties, got elasticnet penalty.\n",
            "\n",
            "--------------------------------------------------------------------------------\n",
            "133 fits failed with the following error:\n",
            "Traceback (most recent call last):\n",
            "  File \"c:\\Users\\ivanl\\OneDrive\\Documentos\\dataFootIL\\.conda\\Lib\\site-packages\\sklearn\\model_selection\\_validation.py\", line 859, in _fit_and_score\n",
            "    estimator.fit(X_train, y_train, **fit_params)\n",
            "  File \"c:\\Users\\ivanl\\OneDrive\\Documentos\\dataFootIL\\.conda\\Lib\\site-packages\\sklearn\\base.py\", line 1358, in wrapper\n",
            "    estimator._validate_params()\n",
            "  File \"c:\\Users\\ivanl\\OneDrive\\Documentos\\dataFootIL\\.conda\\Lib\\site-packages\\sklearn\\base.py\", line 471, in _validate_params\n",
            "    validate_parameter_constraints(\n",
            "  File \"c:\\Users\\ivanl\\OneDrive\\Documentos\\dataFootIL\\.conda\\Lib\\site-packages\\sklearn\\utils\\_param_validation.py\", line 98, in validate_parameter_constraints\n",
            "    raise InvalidParameterError(\n",
            "sklearn.utils._param_validation.InvalidParameterError: The 'penalty' parameter of LogisticRegression must be a str among {'elasticnet', 'l2', 'l1'} or None. Got 'none' instead.\n",
            "\n",
            "--------------------------------------------------------------------------------\n",
            "617 fits failed with the following error:\n",
            "Traceback (most recent call last):\n",
            "  File \"c:\\Users\\ivanl\\OneDrive\\Documentos\\dataFootIL\\.conda\\Lib\\site-packages\\sklearn\\model_selection\\_validation.py\", line 859, in _fit_and_score\n",
            "    estimator.fit(X_train, y_train, **fit_params)\n",
            "  File \"c:\\Users\\ivanl\\OneDrive\\Documentos\\dataFootIL\\.conda\\Lib\\site-packages\\sklearn\\base.py\", line 1358, in wrapper\n",
            "    estimator._validate_params()\n",
            "  File \"c:\\Users\\ivanl\\OneDrive\\Documentos\\dataFootIL\\.conda\\Lib\\site-packages\\sklearn\\base.py\", line 471, in _validate_params\n",
            "    validate_parameter_constraints(\n",
            "  File \"c:\\Users\\ivanl\\OneDrive\\Documentos\\dataFootIL\\.conda\\Lib\\site-packages\\sklearn\\utils\\_param_validation.py\", line 98, in validate_parameter_constraints\n",
            "    raise InvalidParameterError(\n",
            "sklearn.utils._param_validation.InvalidParameterError: The 'penalty' parameter of LogisticRegression must be a str among {'elasticnet', 'l1', 'l2'} or None. Got 'none' instead.\n",
            "\n",
            "--------------------------------------------------------------------------------\n",
            "256 fits failed with the following error:\n",
            "Traceback (most recent call last):\n",
            "  File \"c:\\Users\\ivanl\\OneDrive\\Documentos\\dataFootIL\\.conda\\Lib\\site-packages\\sklearn\\model_selection\\_validation.py\", line 859, in _fit_and_score\n",
            "    estimator.fit(X_train, y_train, **fit_params)\n",
            "  File \"c:\\Users\\ivanl\\OneDrive\\Documentos\\dataFootIL\\.conda\\Lib\\site-packages\\sklearn\\base.py\", line 1358, in wrapper\n",
            "    estimator._validate_params()\n",
            "  File \"c:\\Users\\ivanl\\OneDrive\\Documentos\\dataFootIL\\.conda\\Lib\\site-packages\\sklearn\\base.py\", line 471, in _validate_params\n",
            "    validate_parameter_constraints(\n",
            "  File \"c:\\Users\\ivanl\\OneDrive\\Documentos\\dataFootIL\\.conda\\Lib\\site-packages\\sklearn\\utils\\_param_validation.py\", line 98, in validate_parameter_constraints\n",
            "    raise InvalidParameterError(\n",
            "sklearn.utils._param_validation.InvalidParameterError: The 'penalty' parameter of LogisticRegression must be a str among {'l2', 'l1', 'elasticnet'} or None. Got 'none' instead.\n",
            "\n",
            "--------------------------------------------------------------------------------\n",
            "338 fits failed with the following error:\n",
            "Traceback (most recent call last):\n",
            "  File \"c:\\Users\\ivanl\\OneDrive\\Documentos\\dataFootIL\\.conda\\Lib\\site-packages\\sklearn\\model_selection\\_validation.py\", line 859, in _fit_and_score\n",
            "    estimator.fit(X_train, y_train, **fit_params)\n",
            "  File \"c:\\Users\\ivanl\\OneDrive\\Documentos\\dataFootIL\\.conda\\Lib\\site-packages\\sklearn\\base.py\", line 1358, in wrapper\n",
            "    estimator._validate_params()\n",
            "  File \"c:\\Users\\ivanl\\OneDrive\\Documentos\\dataFootIL\\.conda\\Lib\\site-packages\\sklearn\\base.py\", line 471, in _validate_params\n",
            "    validate_parameter_constraints(\n",
            "  File \"c:\\Users\\ivanl\\OneDrive\\Documentos\\dataFootIL\\.conda\\Lib\\site-packages\\sklearn\\utils\\_param_validation.py\", line 98, in validate_parameter_constraints\n",
            "    raise InvalidParameterError(\n",
            "sklearn.utils._param_validation.InvalidParameterError: The 'penalty' parameter of LogisticRegression must be a str among {'l1', 'elasticnet', 'l2'} or None. Got 'none' instead.\n",
            "\n",
            "--------------------------------------------------------------------------------\n",
            "456 fits failed with the following error:\n",
            "Traceback (most recent call last):\n",
            "  File \"c:\\Users\\ivanl\\OneDrive\\Documentos\\dataFootIL\\.conda\\Lib\\site-packages\\sklearn\\model_selection\\_validation.py\", line 859, in _fit_and_score\n",
            "    estimator.fit(X_train, y_train, **fit_params)\n",
            "  File \"c:\\Users\\ivanl\\OneDrive\\Documentos\\dataFootIL\\.conda\\Lib\\site-packages\\sklearn\\base.py\", line 1358, in wrapper\n",
            "    estimator._validate_params()\n",
            "  File \"c:\\Users\\ivanl\\OneDrive\\Documentos\\dataFootIL\\.conda\\Lib\\site-packages\\sklearn\\base.py\", line 471, in _validate_params\n",
            "    validate_parameter_constraints(\n",
            "  File \"c:\\Users\\ivanl\\OneDrive\\Documentos\\dataFootIL\\.conda\\Lib\\site-packages\\sklearn\\utils\\_param_validation.py\", line 98, in validate_parameter_constraints\n",
            "    raise InvalidParameterError(\n",
            "sklearn.utils._param_validation.InvalidParameterError: The 'penalty' parameter of LogisticRegression must be a str among {'l1', 'l2', 'elasticnet'} or None. Got 'none' instead.\n",
            "\n",
            "  warnings.warn(some_fits_failed_message, FitFailedWarning)\n",
            "c:\\Users\\ivanl\\OneDrive\\Documentos\\dataFootIL\\.conda\\Lib\\site-packages\\sklearn\\model_selection\\_search.py:1135: UserWarning: One or more of the test scores are non-finite: [ 0.  0. nan ... nan nan nan]\n",
            "  warnings.warn(\n"
          ]
        }
      ],
      "source": [
        "resultados_log=log_reg_exp.run_experiment(X_train_svm, y_train_svm, X_test_svm, y_test_svm)"
      ]
    },
    {
      "cell_type": "markdown",
      "id": "e3cb0d8b",
      "metadata": {
        "id": "e3cb0d8b"
      },
      "source": [
        "### Mejores parámetros"
      ]
    },
    {
      "cell_type": "code",
      "execution_count": 9,
      "id": "3b135163",
      "metadata": {},
      "outputs": [
        {
          "name": "stdout",
          "output_type": "stream",
          "text": [
            "LogisticRegression(C=100, class_weight='balanced', max_iter=500, penalty='l1',\n",
            "                   solver='liblinear')\n"
          ]
        }
      ],
      "source": [
        "logmodel = joblib.load('../models/LogisticRegression_final.pkl')\n",
        "print(logmodel)"
      ]
    },
    {
      "cell_type": "markdown",
      "id": "abd47911",
      "metadata": {},
      "source": [
        "### Evaluación"
      ]
    },
    {
      "cell_type": "markdown",
      "id": "32ebf2a9",
      "metadata": {
        "id": "32ebf2a9"
      },
      "source": [
        "### Métricas Básicas"
      ]
    },
    {
      "cell_type": "code",
      "execution_count": 10,
      "id": "9bb3e568",
      "metadata": {},
      "outputs": [],
      "source": [
        "def evaluate_model(model, X_train, y_train, X_test, y_test):\n",
        "    \"\"\"\n",
        "    Calcula todas las métricas requeridas\n",
        "    \"\"\"\n",
        "    metrics=[]\n",
        "\n",
        "    ti_tr = time.time()\n",
        "    model.fit(X_train, y_train)\n",
        "    tf_tr = time.time()\n",
        "    t_tr = tf_tr - ti_tr\n",
        "\n",
        "    ti_inf = time.time()\n",
        "    predictions = model.predict(X_test)\n",
        "    probabilities = model.predict_proba(X_test)[:, 1]\n",
        "    tf_inf = time.time()\n",
        "    t_inf = tf_inf - ti_inf\n",
        "\n",
        "    metrics.append({\n",
        "        #\"Modelo\": ,\n",
        "        \"Accuracy\": accuracy_score(y_test, predictions),\n",
        "        \"Precision\": precision_score(y_test, predictions, zero_division=0),\n",
        "        \"Recall\": recall_score(y_test, predictions, zero_division=0),\n",
        "        \"F1-Score\": f1_score(y_test, predictions, zero_division=0),\n",
        "        \"ROC-AUC\": roc_auc_score(y_test, probabilities),\n",
        "        \"PR-AUC\": average_precision_score(y_test, probabilities),\n",
        "        \"MCC\": matthews_corrcoef(y_test, predictions),\n",
        "        \"Balanced Accuracy\": balanced_accuracy_score(y_test, predictions)\n",
        "    })\n",
        "        \n",
        "    return pd.DataFrame(metrics), predictions, probabilities, t_tr, t_inf"
      ]
    },
    {
      "cell_type": "code",
      "execution_count": 11,
      "id": "2a850b4f",
      "metadata": {},
      "outputs": [
        {
          "data": {
            "application/vnd.microsoft.datawrangler.viewer.v0+json": {
              "columns": [
                {
                  "name": "index",
                  "rawType": "object",
                  "type": "string"
                },
                {
                  "name": "0",
                  "rawType": "float64",
                  "type": "float"
                }
              ],
              "ref": "72c8e347-ad06-4632-87eb-881a788e1e90",
              "rows": [
                [
                  "Accuracy",
                  "0.7988826815642458"
                ],
                [
                  "Precision",
                  "0.7088607594936709"
                ],
                [
                  "Recall",
                  "0.8115942028985508"
                ],
                [
                  "F1-Score",
                  "0.7567567567567568"
                ],
                [
                  "ROC-AUC",
                  "0.8638998682476945"
                ],
                [
                  "PR-AUC",
                  "0.7904200797643491"
                ],
                [
                  "MCC",
                  "0.5905637258170618"
                ],
                [
                  "Balanced Accuracy",
                  "0.8012516469038209"
                ]
              ],
              "shape": {
                "columns": 1,
                "rows": 8
              }
            },
            "text/html": [
              "<div>\n",
              "<style scoped>\n",
              "    .dataframe tbody tr th:only-of-type {\n",
              "        vertical-align: middle;\n",
              "    }\n",
              "\n",
              "    .dataframe tbody tr th {\n",
              "        vertical-align: top;\n",
              "    }\n",
              "\n",
              "    .dataframe thead th {\n",
              "        text-align: right;\n",
              "    }\n",
              "</style>\n",
              "<table border=\"1\" class=\"dataframe\">\n",
              "  <thead>\n",
              "    <tr style=\"text-align: right;\">\n",
              "      <th></th>\n",
              "      <th>0</th>\n",
              "    </tr>\n",
              "  </thead>\n",
              "  <tbody>\n",
              "    <tr>\n",
              "      <th>Accuracy</th>\n",
              "      <td>0.798883</td>\n",
              "    </tr>\n",
              "    <tr>\n",
              "      <th>Precision</th>\n",
              "      <td>0.708861</td>\n",
              "    </tr>\n",
              "    <tr>\n",
              "      <th>Recall</th>\n",
              "      <td>0.811594</td>\n",
              "    </tr>\n",
              "    <tr>\n",
              "      <th>F1-Score</th>\n",
              "      <td>0.756757</td>\n",
              "    </tr>\n",
              "    <tr>\n",
              "      <th>ROC-AUC</th>\n",
              "      <td>0.863900</td>\n",
              "    </tr>\n",
              "    <tr>\n",
              "      <th>PR-AUC</th>\n",
              "      <td>0.790420</td>\n",
              "    </tr>\n",
              "    <tr>\n",
              "      <th>MCC</th>\n",
              "      <td>0.590564</td>\n",
              "    </tr>\n",
              "    <tr>\n",
              "      <th>Balanced Accuracy</th>\n",
              "      <td>0.801252</td>\n",
              "    </tr>\n",
              "  </tbody>\n",
              "</table>\n",
              "</div>"
            ],
            "text/plain": [
              "                          0\n",
              "Accuracy           0.798883\n",
              "Precision          0.708861\n",
              "Recall             0.811594\n",
              "F1-Score           0.756757\n",
              "ROC-AUC            0.863900\n",
              "PR-AUC             0.790420\n",
              "MCC                0.590564\n",
              "Balanced Accuracy  0.801252"
            ]
          },
          "execution_count": 11,
          "metadata": {},
          "output_type": "execute_result"
        }
      ],
      "source": [
        "log_best = joblib.load('../models/LogisticRegression_final.pkl')\n",
        "\n",
        "metrics_log, y_pred, y_proba, t_tr_log, t_inf_log = evaluate_model(log_best, X_train_svm, y_train_svm, X_test_svm, y_test_svm)\n",
        "\n",
        "metrics_log.T"
      ]
    },
    {
      "cell_type": "markdown",
      "id": "aaeadc7e",
      "metadata": {},
      "source": [
        "### Métricas por Clase/Grupo"
      ]
    },
    {
      "cell_type": "markdown",
      "id": "674eb1a5",
      "metadata": {
        "id": "674eb1a5"
      },
      "source": [
        "### Confusion Matrix"
      ]
    },
    {
      "cell_type": "code",
      "execution_count": 12,
      "id": "ab10ddc6",
      "metadata": {
        "colab": {
          "base_uri": "https://localhost:8080/",
          "height": 410
        },
        "id": "ab10ddc6",
        "outputId": "5a16dedd-3f37-4f83-a372-83f807750f49"
      },
      "outputs": [
        {
          "data": {
            "image/png": "[encoded data removed]",
            "text/plain": [
              "<Figure size 500x400 with 1 Axes>"
            ]
          },
          "metadata": {},
          "output_type": "display_data"
        }
      ],
      "source": [
        "cm = confusion_matrix(y_test_svm, y_pred)\n",
        "plt.figure(figsize=(5,4))\n",
        "sns.heatmap(cm, annot=True, fmt='d', cmap='Blues', cbar=False)\n",
        "plt.xlabel('Predicted')\n",
        "plt.ylabel('Actual')\n",
        "plt.title('Confusion Matrix (Survived)')\n",
        "plt.show()"
      ]
    },
    {
      "cell_type": "markdown",
      "id": "35e82a45",
      "metadata": {},
      "source": [
        "### Métricas desagregadas por:"
      ]
    },
    {
      "cell_type": "code",
      "execution_count": 13,
      "id": "6affc6fd",
      "metadata": {},
      "outputs": [],
      "source": [
        "#función de métricas por grupo\n",
        "def metrics_by_group(y_true, y_pred, y_proba, group):\n",
        "    results = []\n",
        "    for g in np.unique(group.dropna()):\n",
        "        mask = (group == g)\n",
        "        yt, yp = y_true[mask], y_pred[mask]\n",
        "        ytr, ypr = y_true[mask], y_proba[mask]\n",
        "        if len(np.unique(yt)) == 1:  #evita errores si solo hay una clase\n",
        "            continue\n",
        "        results.append({\n",
        "            \"Grupo\": g,\n",
        "            \"Accuracy\": accuracy_score(yt, yp),\n",
        "            \"Precision\": precision_score(yt, yp, zero_division=0),\n",
        "            \"Recall\": recall_score(yt, yp, zero_division=0),\n",
        "            \"F1-Score\": f1_score(yt, yp, zero_division=0),\n",
        "            \"ROC-AUC\": roc_auc_score(ytr, ypr),\n",
        "            \"PR-AUC\": average_precision_score(ytr, ypr),\n",
        "            \"MCC\": matthews_corrcoef(yt, yp),\n",
        "            \"Balanced Accuracy\": balanced_accuracy_score(yt, yp)\n",
        "        })\n",
        "    return pd.DataFrame(results)"
      ]
    },
    {
      "cell_type": "markdown",
      "id": "c53db636",
      "metadata": {},
      "source": [
        "Género"
      ]
    },
    {
      "cell_type": "code",
      "execution_count": 14,
      "id": "2cd90516",
      "metadata": {},
      "outputs": [
        {
          "name": "stdout",
          "output_type": "stream",
          "text": [
            "Métricas por Género\n",
            "(Hombre=0, Mujer=1)\n"
          ]
        },
        {
          "data": {
            "application/vnd.microsoft.datawrangler.viewer.v0+json": {
              "columns": [
                {
                  "name": "index",
                  "rawType": "int64",
                  "type": "integer"
                },
                {
                  "name": "Grupo",
                  "rawType": "int64",
                  "type": "integer"
                },
                {
                  "name": "Accuracy",
                  "rawType": "float64",
                  "type": "float"
                },
                {
                  "name": "Precision",
                  "rawType": "float64",
                  "type": "float"
                },
                {
                  "name": "Recall",
                  "rawType": "float64",
                  "type": "float"
                },
                {
                  "name": "F1-Score",
                  "rawType": "float64",
                  "type": "float"
                },
                {
                  "name": "ROC-AUC",
                  "rawType": "float64",
                  "type": "float"
                },
                {
                  "name": "PR-AUC",
                  "rawType": "float64",
                  "type": "float"
                },
                {
                  "name": "MCC",
                  "rawType": "float64",
                  "type": "float"
                },
                {
                  "name": "Balanced Accuracy",
                  "rawType": "float64",
                  "type": "float"
                }
              ],
              "ref": "71af8aef-b8a2-4ea0-a9aa-616a0e2f9980",
              "rows": [
                [
                  "0",
                  "0",
                  "0.7966101694915254",
                  "0.5",
                  "0.4583333333333333",
                  "0.4782608695652174",
                  "0.7504432624113475",
                  "0.4843967052815804",
                  "0.35275584665919557",
                  "0.6706560283687943"
                ],
                [
                  "1",
                  "1",
                  "0.8032786885245902",
                  "0.7894736842105263",
                  "1.0",
                  "0.8823529411764706",
                  "0.7736111111111111",
                  "0.865184247818112",
                  "0.44426165831931924",
                  "0.625"
                ]
              ],
              "shape": {
                "columns": 9,
                "rows": 2
              }
            },
            "text/html": [
              "<div>\n",
              "<style scoped>\n",
              "    .dataframe tbody tr th:only-of-type {\n",
              "        vertical-align: middle;\n",
              "    }\n",
              "\n",
              "    .dataframe tbody tr th {\n",
              "        vertical-align: top;\n",
              "    }\n",
              "\n",
              "    .dataframe thead th {\n",
              "        text-align: right;\n",
              "    }\n",
              "</style>\n",
              "<table border=\"1\" class=\"dataframe\">\n",
              "  <thead>\n",
              "    <tr style=\"text-align: right;\">\n",
              "      <th></th>\n",
              "      <th>Grupo</th>\n",
              "      <th>Accuracy</th>\n",
              "      <th>Precision</th>\n",
              "      <th>Recall</th>\n",
              "      <th>F1-Score</th>\n",
              "      <th>ROC-AUC</th>\n",
              "      <th>PR-AUC</th>\n",
              "      <th>MCC</th>\n",
              "      <th>Balanced Accuracy</th>\n",
              "    </tr>\n",
              "  </thead>\n",
              "  <tbody>\n",
              "    <tr>\n",
              "      <th>0</th>\n",
              "      <td>0</td>\n",
              "      <td>0.796610</td>\n",
              "      <td>0.500000</td>\n",
              "      <td>0.458333</td>\n",
              "      <td>0.478261</td>\n",
              "      <td>0.750443</td>\n",
              "      <td>0.484397</td>\n",
              "      <td>0.352756</td>\n",
              "      <td>0.670656</td>\n",
              "    </tr>\n",
              "    <tr>\n",
              "      <th>1</th>\n",
              "      <td>1</td>\n",
              "      <td>0.803279</td>\n",
              "      <td>0.789474</td>\n",
              "      <td>1.000000</td>\n",
              "      <td>0.882353</td>\n",
              "      <td>0.773611</td>\n",
              "      <td>0.865184</td>\n",
              "      <td>0.444262</td>\n",
              "      <td>0.625000</td>\n",
              "    </tr>\n",
              "  </tbody>\n",
              "</table>\n",
              "</div>"
            ],
            "text/plain": [
              "   Grupo  Accuracy  Precision    Recall  F1-Score   ROC-AUC    PR-AUC  \\\n",
              "0      0  0.796610   0.500000  0.458333  0.478261  0.750443  0.484397   \n",
              "1      1  0.803279   0.789474  1.000000  0.882353  0.773611  0.865184   \n",
              "\n",
              "        MCC  Balanced Accuracy  \n",
              "0  0.352756           0.670656  \n",
              "1  0.444262           0.625000  "
            ]
          },
          "execution_count": 14,
          "metadata": {},
          "output_type": "execute_result"
        }
      ],
      "source": [
        "print(\"Métricas por Género\\n(Hombre=0, Mujer=1)\")\n",
        "metrics_by_group(y_test_svm, y_pred, y_proba, X_test_svm['Sex_female'])"
      ]
    },
    {
      "cell_type": "markdown",
      "id": "d56275dd",
      "metadata": {},
      "source": [
        "Clase Socioeconómica"
      ]
    },
    {
      "cell_type": "code",
      "execution_count": 15,
      "id": "44fb9ee8",
      "metadata": {},
      "outputs": [
        {
          "name": "stdout",
          "output_type": "stream",
          "text": [
            "Métricas por Clase Socioeconómica\n"
          ]
        },
        {
          "data": {
            "application/vnd.microsoft.datawrangler.viewer.v0+json": {
              "columns": [
                {
                  "name": "index",
                  "rawType": "int64",
                  "type": "integer"
                },
                {
                  "name": "Grupo",
                  "rawType": "int64",
                  "type": "integer"
                },
                {
                  "name": "Accuracy",
                  "rawType": "float64",
                  "type": "float"
                },
                {
                  "name": "Precision",
                  "rawType": "float64",
                  "type": "float"
                },
                {
                  "name": "Recall",
                  "rawType": "float64",
                  "type": "float"
                },
                {
                  "name": "F1-Score",
                  "rawType": "float64",
                  "type": "float"
                },
                {
                  "name": "ROC-AUC",
                  "rawType": "float64",
                  "type": "float"
                },
                {
                  "name": "PR-AUC",
                  "rawType": "float64",
                  "type": "float"
                },
                {
                  "name": "MCC",
                  "rawType": "float64",
                  "type": "float"
                },
                {
                  "name": "Balanced Accuracy",
                  "rawType": "float64",
                  "type": "float"
                }
              ],
              "ref": "0f527b32-f1cf-44b3-baed-0ed4e9586b74",
              "rows": [
                [
                  "0",
                  "1",
                  "0.6444444444444445",
                  "0.6451612903225806",
                  "0.8",
                  "0.7142857142857143",
                  "0.776",
                  "0.7899402325194592",
                  "0.2683367442131824",
                  "0.625"
                ],
                [
                  "1",
                  "2",
                  "0.9117647058823529",
                  "0.9473684210526315",
                  "0.9",
                  "0.9230769230769231",
                  "0.9107142857142857",
                  "0.9272929113227102",
                  "0.821271097469555",
                  "0.9142857142857144"
                ],
                [
                  "2",
                  "3",
                  "0.83",
                  "0.6206896551724138",
                  "0.75",
                  "0.6792452830188679",
                  "0.8053728070175439",
                  "0.5735835174752708",
                  "0.5696767342129573",
                  "0.8026315789473684"
                ]
              ],
              "shape": {
                "columns": 9,
                "rows": 3
              }
            },
            "text/html": [
              "<div>\n",
              "<style scoped>\n",
              "    .dataframe tbody tr th:only-of-type {\n",
              "        vertical-align: middle;\n",
              "    }\n",
              "\n",
              "    .dataframe tbody tr th {\n",
              "        vertical-align: top;\n",
              "    }\n",
              "\n",
              "    .dataframe thead th {\n",
              "        text-align: right;\n",
              "    }\n",
              "</style>\n",
              "<table border=\"1\" class=\"dataframe\">\n",
              "  <thead>\n",
              "    <tr style=\"text-align: right;\">\n",
              "      <th></th>\n",
              "      <th>Grupo</th>\n",
              "      <th>Accuracy</th>\n",
              "      <th>Precision</th>\n",
              "      <th>Recall</th>\n",
              "      <th>F1-Score</th>\n",
              "      <th>ROC-AUC</th>\n",
              "      <th>PR-AUC</th>\n",
              "      <th>MCC</th>\n",
              "      <th>Balanced Accuracy</th>\n",
              "    </tr>\n",
              "  </thead>\n",
              "  <tbody>\n",
              "    <tr>\n",
              "      <th>0</th>\n",
              "      <td>1</td>\n",
              "      <td>0.644444</td>\n",
              "      <td>0.645161</td>\n",
              "      <td>0.80</td>\n",
              "      <td>0.714286</td>\n",
              "      <td>0.776000</td>\n",
              "      <td>0.789940</td>\n",
              "      <td>0.268337</td>\n",
              "      <td>0.625000</td>\n",
              "    </tr>\n",
              "    <tr>\n",
              "      <th>1</th>\n",
              "      <td>2</td>\n",
              "      <td>0.911765</td>\n",
              "      <td>0.947368</td>\n",
              "      <td>0.90</td>\n",
              "      <td>0.923077</td>\n",
              "      <td>0.910714</td>\n",
              "      <td>0.927293</td>\n",
              "      <td>0.821271</td>\n",
              "      <td>0.914286</td>\n",
              "    </tr>\n",
              "    <tr>\n",
              "      <th>2</th>\n",
              "      <td>3</td>\n",
              "      <td>0.830000</td>\n",
              "      <td>0.620690</td>\n",
              "      <td>0.75</td>\n",
              "      <td>0.679245</td>\n",
              "      <td>0.805373</td>\n",
              "      <td>0.573584</td>\n",
              "      <td>0.569677</td>\n",
              "      <td>0.802632</td>\n",
              "    </tr>\n",
              "  </tbody>\n",
              "</table>\n",
              "</div>"
            ],
            "text/plain": [
              "   Grupo  Accuracy  Precision  Recall  F1-Score   ROC-AUC    PR-AUC       MCC  \\\n",
              "0      1  0.644444   0.645161    0.80  0.714286  0.776000  0.789940  0.268337   \n",
              "1      2  0.911765   0.947368    0.90  0.923077  0.910714  0.927293  0.821271   \n",
              "2      3  0.830000   0.620690    0.75  0.679245  0.805373  0.573584  0.569677   \n",
              "\n",
              "   Balanced Accuracy  \n",
              "0           0.625000  \n",
              "1           0.914286  \n",
              "2           0.802632  "
            ]
          },
          "execution_count": 15,
          "metadata": {},
          "output_type": "execute_result"
        }
      ],
      "source": [
        "print(\"Métricas por Clase Socioeconómica\")\n",
        "metrics_by_group(y_test_svm, y_pred, y_proba, X_test['Pclass'])"
      ]
    },
    {
      "cell_type": "markdown",
      "id": "971cb9db",
      "metadata": {},
      "source": [
        "Grupo de Edad"
      ]
    },
    {
      "cell_type": "code",
      "execution_count": 16,
      "id": "99bf0078",
      "metadata": {},
      "outputs": [
        {
          "name": "stdout",
          "output_type": "stream",
          "text": [
            "Métricas por Grupo de Edad\n"
          ]
        },
        {
          "data": {
            "application/vnd.microsoft.datawrangler.viewer.v0+json": {
              "columns": [
                {
                  "name": "index",
                  "rawType": "int64",
                  "type": "integer"
                },
                {
                  "name": "Grupo",
                  "rawType": "int64",
                  "type": "integer"
                },
                {
                  "name": "Accuracy",
                  "rawType": "float64",
                  "type": "float"
                },
                {
                  "name": "Precision",
                  "rawType": "float64",
                  "type": "float"
                },
                {
                  "name": "Recall",
                  "rawType": "float64",
                  "type": "float"
                },
                {
                  "name": "F1-Score",
                  "rawType": "float64",
                  "type": "float"
                },
                {
                  "name": "ROC-AUC",
                  "rawType": "float64",
                  "type": "float"
                },
                {
                  "name": "PR-AUC",
                  "rawType": "float64",
                  "type": "float"
                },
                {
                  "name": "MCC",
                  "rawType": "float64",
                  "type": "float"
                },
                {
                  "name": "Balanced Accuracy",
                  "rawType": "float64",
                  "type": "float"
                }
              ],
              "ref": "049fdcb4-0b6b-4b62-82be-b3ee92b60c3e",
              "rows": [
                [
                  "0",
                  "1",
                  "0.7857142857142857",
                  "0.7272727272727273",
                  "1.0",
                  "0.8421052631578947",
                  "0.6458333333333334",
                  "0.6627840909090909",
                  "0.6030226891555273",
                  "0.75"
                ],
                [
                  "1",
                  "2",
                  "0.8333333333333334",
                  "0.7333333333333333",
                  "1.0",
                  "0.8461538461538461",
                  "0.93006993006993",
                  "0.915997890997891",
                  "0.7125253031944252",
                  "0.8461538461538461"
                ],
                [
                  "2",
                  "3",
                  "0.819047619047619",
                  "0.7631578947368421",
                  "0.7435897435897436",
                  "0.7532467532467533",
                  "0.8531468531468531",
                  "0.8262833061395356",
                  "0.6105560050866511",
                  "0.8036130536130537"
                ],
                [
                  "3",
                  "4",
                  "0.7096774193548387",
                  "0.5384615384615384",
                  "0.7",
                  "0.6086956521739131",
                  "0.819047619047619",
                  "0.7716691203533308",
                  "0.39246567242155594",
                  "0.7071428571428571"
                ],
                [
                  "4",
                  "5",
                  "0.8",
                  "0.5",
                  "1.0",
                  "0.6666666666666666",
                  "1.0",
                  "1.0",
                  "0.6123724356957946",
                  "0.875"
                ]
              ],
              "shape": {
                "columns": 9,
                "rows": 5
              }
            },
            "text/html": [
              "<div>\n",
              "<style scoped>\n",
              "    .dataframe tbody tr th:only-of-type {\n",
              "        vertical-align: middle;\n",
              "    }\n",
              "\n",
              "    .dataframe tbody tr th {\n",
              "        vertical-align: top;\n",
              "    }\n",
              "\n",
              "    .dataframe thead th {\n",
              "        text-align: right;\n",
              "    }\n",
              "</style>\n",
              "<table border=\"1\" class=\"dataframe\">\n",
              "  <thead>\n",
              "    <tr style=\"text-align: right;\">\n",
              "      <th></th>\n",
              "      <th>Grupo</th>\n",
              "      <th>Accuracy</th>\n",
              "      <th>Precision</th>\n",
              "      <th>Recall</th>\n",
              "      <th>F1-Score</th>\n",
              "      <th>ROC-AUC</th>\n",
              "      <th>PR-AUC</th>\n",
              "      <th>MCC</th>\n",
              "      <th>Balanced Accuracy</th>\n",
              "    </tr>\n",
              "  </thead>\n",
              "  <tbody>\n",
              "    <tr>\n",
              "      <th>0</th>\n",
              "      <td>1</td>\n",
              "      <td>0.785714</td>\n",
              "      <td>0.727273</td>\n",
              "      <td>1.00000</td>\n",
              "      <td>0.842105</td>\n",
              "      <td>0.645833</td>\n",
              "      <td>0.662784</td>\n",
              "      <td>0.603023</td>\n",
              "      <td>0.750000</td>\n",
              "    </tr>\n",
              "    <tr>\n",
              "      <th>1</th>\n",
              "      <td>2</td>\n",
              "      <td>0.833333</td>\n",
              "      <td>0.733333</td>\n",
              "      <td>1.00000</td>\n",
              "      <td>0.846154</td>\n",
              "      <td>0.930070</td>\n",
              "      <td>0.915998</td>\n",
              "      <td>0.712525</td>\n",
              "      <td>0.846154</td>\n",
              "    </tr>\n",
              "    <tr>\n",
              "      <th>2</th>\n",
              "      <td>3</td>\n",
              "      <td>0.819048</td>\n",
              "      <td>0.763158</td>\n",
              "      <td>0.74359</td>\n",
              "      <td>0.753247</td>\n",
              "      <td>0.853147</td>\n",
              "      <td>0.826283</td>\n",
              "      <td>0.610556</td>\n",
              "      <td>0.803613</td>\n",
              "    </tr>\n",
              "    <tr>\n",
              "      <th>3</th>\n",
              "      <td>4</td>\n",
              "      <td>0.709677</td>\n",
              "      <td>0.538462</td>\n",
              "      <td>0.70000</td>\n",
              "      <td>0.608696</td>\n",
              "      <td>0.819048</td>\n",
              "      <td>0.771669</td>\n",
              "      <td>0.392466</td>\n",
              "      <td>0.707143</td>\n",
              "    </tr>\n",
              "    <tr>\n",
              "      <th>4</th>\n",
              "      <td>5</td>\n",
              "      <td>0.800000</td>\n",
              "      <td>0.500000</td>\n",
              "      <td>1.00000</td>\n",
              "      <td>0.666667</td>\n",
              "      <td>1.000000</td>\n",
              "      <td>1.000000</td>\n",
              "      <td>0.612372</td>\n",
              "      <td>0.875000</td>\n",
              "    </tr>\n",
              "  </tbody>\n",
              "</table>\n",
              "</div>"
            ],
            "text/plain": [
              "   Grupo  Accuracy  Precision   Recall  F1-Score   ROC-AUC    PR-AUC  \\\n",
              "0      1  0.785714   0.727273  1.00000  0.842105  0.645833  0.662784   \n",
              "1      2  0.833333   0.733333  1.00000  0.846154  0.930070  0.915998   \n",
              "2      3  0.819048   0.763158  0.74359  0.753247  0.853147  0.826283   \n",
              "3      4  0.709677   0.538462  0.70000  0.608696  0.819048  0.771669   \n",
              "4      5  0.800000   0.500000  1.00000  0.666667  1.000000  1.000000   \n",
              "\n",
              "        MCC  Balanced Accuracy  \n",
              "0  0.603023           0.750000  \n",
              "1  0.712525           0.846154  \n",
              "2  0.610556           0.803613  \n",
              "3  0.392466           0.707143  \n",
              "4  0.612372           0.875000  "
            ]
          },
          "execution_count": 16,
          "metadata": {},
          "output_type": "execute_result"
        }
      ],
      "source": [
        "print(\"Métricas por Grupo de Edad\")\n",
        "metrics_by_group(y_test_svm, y_pred, y_proba, X_test['AgeGroup_ordinal'])"
      ]
    },
    {
      "cell_type": "markdown",
      "id": "2ea11456",
      "metadata": {},
      "source": [
        "Tamaño de familia"
      ]
    },
    {
      "cell_type": "code",
      "execution_count": 17,
      "id": "a4f3e71a",
      "metadata": {},
      "outputs": [
        {
          "name": "stdout",
          "output_type": "stream",
          "text": [
            "Métricas por Tamaño de Familia\n",
            "\n"
          ]
        },
        {
          "data": {
            "application/vnd.microsoft.datawrangler.viewer.v0+json": {
              "columns": [
                {
                  "name": "index",
                  "rawType": "int64",
                  "type": "integer"
                },
                {
                  "name": "Grupo",
                  "rawType": "float64",
                  "type": "float"
                },
                {
                  "name": "Accuracy",
                  "rawType": "float64",
                  "type": "float"
                },
                {
                  "name": "Precision",
                  "rawType": "float64",
                  "type": "float"
                },
                {
                  "name": "Recall",
                  "rawType": "float64",
                  "type": "float"
                },
                {
                  "name": "F1-Score",
                  "rawType": "float64",
                  "type": "float"
                },
                {
                  "name": "ROC-AUC",
                  "rawType": "float64",
                  "type": "float"
                },
                {
                  "name": "PR-AUC",
                  "rawType": "float64",
                  "type": "float"
                },
                {
                  "name": "MCC",
                  "rawType": "float64",
                  "type": "float"
                },
                {
                  "name": "Balanced Accuracy",
                  "rawType": "float64",
                  "type": "float"
                }
              ],
              "ref": "e289fa98-986f-4611-995f-e42134c7ce45",
              "rows": [
                [
                  "0",
                  "-0.7910074553829461",
                  "0.8058252427184466",
                  "0.7096774193548387",
                  "0.6666666666666666",
                  "0.6875",
                  "0.8216450216450216",
                  "0.7539798782517038",
                  "0.5474167016355652",
                  "0.769047619047619"
                ],
                [
                  "1",
                  "0.8366964171969096",
                  "0.8125",
                  "0.8",
                  "0.8888888888888888",
                  "0.8421052631578947",
                  "0.9166666666666666",
                  "0.9414604766578452",
                  "0.6180700462007377",
                  "0.8015873015873016"
                ],
                [
                  "2",
                  "1.3430273068253449",
                  "0.72",
                  "0.6111111111111112",
                  "1.0",
                  "0.7586206896551724",
                  "0.8116883116883117",
                  "0.7838818044700399",
                  "0.5527707983925667",
                  "0.75"
                ],
                [
                  "3",
                  "1.5582148359874182",
                  "0.8571428571428571",
                  "0.8333333333333334",
                  "1.0",
                  "0.9090909090909091",
                  "0.5",
                  "0.71",
                  "0.6454972243679028",
                  "0.75"
                ],
                [
                  "4",
                  "1.7298557257357403",
                  "0.6666666666666666",
                  "0.5",
                  "1.0",
                  "0.6666666666666666",
                  "1.0",
                  "1.0",
                  "0.5",
                  "0.75"
                ]
              ],
              "shape": {
                "columns": 9,
                "rows": 5
              }
            },
            "text/html": [
              "<div>\n",
              "<style scoped>\n",
              "    .dataframe tbody tr th:only-of-type {\n",
              "        vertical-align: middle;\n",
              "    }\n",
              "\n",
              "    .dataframe tbody tr th {\n",
              "        vertical-align: top;\n",
              "    }\n",
              "\n",
              "    .dataframe thead th {\n",
              "        text-align: right;\n",
              "    }\n",
              "</style>\n",
              "<table border=\"1\" class=\"dataframe\">\n",
              "  <thead>\n",
              "    <tr style=\"text-align: right;\">\n",
              "      <th></th>\n",
              "      <th>Grupo</th>\n",
              "      <th>Accuracy</th>\n",
              "      <th>Precision</th>\n",
              "      <th>Recall</th>\n",
              "      <th>F1-Score</th>\n",
              "      <th>ROC-AUC</th>\n",
              "      <th>PR-AUC</th>\n",
              "      <th>MCC</th>\n",
              "      <th>Balanced Accuracy</th>\n",
              "    </tr>\n",
              "  </thead>\n",
              "  <tbody>\n",
              "    <tr>\n",
              "      <th>0</th>\n",
              "      <td>-0.791007</td>\n",
              "      <td>0.805825</td>\n",
              "      <td>0.709677</td>\n",
              "      <td>0.666667</td>\n",
              "      <td>0.687500</td>\n",
              "      <td>0.821645</td>\n",
              "      <td>0.753980</td>\n",
              "      <td>0.547417</td>\n",
              "      <td>0.769048</td>\n",
              "    </tr>\n",
              "    <tr>\n",
              "      <th>1</th>\n",
              "      <td>0.836696</td>\n",
              "      <td>0.812500</td>\n",
              "      <td>0.800000</td>\n",
              "      <td>0.888889</td>\n",
              "      <td>0.842105</td>\n",
              "      <td>0.916667</td>\n",
              "      <td>0.941460</td>\n",
              "      <td>0.618070</td>\n",
              "      <td>0.801587</td>\n",
              "    </tr>\n",
              "    <tr>\n",
              "      <th>2</th>\n",
              "      <td>1.343027</td>\n",
              "      <td>0.720000</td>\n",
              "      <td>0.611111</td>\n",
              "      <td>1.000000</td>\n",
              "      <td>0.758621</td>\n",
              "      <td>0.811688</td>\n",
              "      <td>0.783882</td>\n",
              "      <td>0.552771</td>\n",
              "      <td>0.750000</td>\n",
              "    </tr>\n",
              "    <tr>\n",
              "      <th>3</th>\n",
              "      <td>1.558215</td>\n",
              "      <td>0.857143</td>\n",
              "      <td>0.833333</td>\n",
              "      <td>1.000000</td>\n",
              "      <td>0.909091</td>\n",
              "      <td>0.500000</td>\n",
              "      <td>0.710000</td>\n",
              "      <td>0.645497</td>\n",
              "      <td>0.750000</td>\n",
              "    </tr>\n",
              "    <tr>\n",
              "      <th>4</th>\n",
              "      <td>1.729856</td>\n",
              "      <td>0.666667</td>\n",
              "      <td>0.500000</td>\n",
              "      <td>1.000000</td>\n",
              "      <td>0.666667</td>\n",
              "      <td>1.000000</td>\n",
              "      <td>1.000000</td>\n",
              "      <td>0.500000</td>\n",
              "      <td>0.750000</td>\n",
              "    </tr>\n",
              "  </tbody>\n",
              "</table>\n",
              "</div>"
            ],
            "text/plain": [
              "      Grupo  Accuracy  Precision    Recall  F1-Score   ROC-AUC    PR-AUC  \\\n",
              "0 -0.791007  0.805825   0.709677  0.666667  0.687500  0.821645  0.753980   \n",
              "1  0.836696  0.812500   0.800000  0.888889  0.842105  0.916667  0.941460   \n",
              "2  1.343027  0.720000   0.611111  1.000000  0.758621  0.811688  0.783882   \n",
              "3  1.558215  0.857143   0.833333  1.000000  0.909091  0.500000  0.710000   \n",
              "4  1.729856  0.666667   0.500000  1.000000  0.666667  1.000000  1.000000   \n",
              "\n",
              "        MCC  Balanced Accuracy  \n",
              "0  0.547417           0.769048  \n",
              "1  0.618070           0.801587  \n",
              "2  0.552771           0.750000  \n",
              "3  0.645497           0.750000  \n",
              "4  0.500000           0.750000  "
            ]
          },
          "execution_count": 17,
          "metadata": {},
          "output_type": "execute_result"
        }
      ],
      "source": [
        "print(\"Métricas por Tamaño de Familia\\n\")\n",
        "metrics_by_group(y_test_svm, y_pred, y_proba, X_test_svm['FamilySize'])"
      ]
    },
    {
      "cell_type": "markdown",
      "id": "91547f3f",
      "metadata": {},
      "source": [
        "### Análisis de Calibración"
      ]
    },
    {
      "cell_type": "markdown",
      "id": "6885fd98",
      "metadata": {},
      "source": [
        "### Calibration plots (reliability diagrams)"
      ]
    },
    {
      "cell_type": "code",
      "execution_count": 18,
      "id": "17cf0bfc",
      "metadata": {},
      "outputs": [
        {
          "data": {
            "image/png": "[encoded data removed]",
            "text/plain": [
              "<Figure size 640x480 with 1 Axes>"
            ]
          },
          "metadata": {},
          "output_type": "display_data"
        }
      ],
      "source": [
        "prob_true, prob_pred = calibration_curve(y_test_svm, y_proba, n_bins=10)\n",
        "plt.plot(prob_pred, prob_true, marker='o')\n",
        "plt.plot([0,1],[0,1], linestyle='--')\n",
        "plt.show()"
      ]
    },
    {
      "cell_type": "markdown",
      "id": "7160ff19",
      "metadata": {},
      "source": [
        "### Brier Score"
      ]
    },
    {
      "cell_type": "code",
      "execution_count": 19,
      "id": "d6978f35",
      "metadata": {},
      "outputs": [
        {
          "data": {
            "text/plain": [
              "0.14706470630318053"
            ]
          },
          "execution_count": 19,
          "metadata": {},
          "output_type": "execute_result"
        }
      ],
      "source": [
        "brier_score_loss(y_test_svm, y_proba)"
      ]
    },
    {
      "cell_type": "markdown",
      "id": "0be9f8fa",
      "metadata": {},
      "source": [
        "### Expected Calibration Error (ECE)"
      ]
    },
    {
      "cell_type": "code",
      "execution_count": 20,
      "id": "a4031372",
      "metadata": {},
      "outputs": [
        {
          "name": "stdout",
          "output_type": "stream",
          "text": [
            "0.10263673214338231\n"
          ]
        }
      ],
      "source": [
        "print(np.abs(prob_true - prob_pred).mean())"
      ]
    },
    {
      "cell_type": "markdown",
      "id": "43c33549",
      "metadata": {
        "id": "43c33549"
      },
      "source": [
        "## Random Forest"
      ]
    },
    {
      "cell_type": "code",
      "execution_count": 21,
      "id": "4bbd4492",
      "metadata": {
        "id": "4bbd4492"
      },
      "outputs": [],
      "source": [
        "drop_tree = ['PassengerId',\n",
        "             'Sex_LE','Embarked_LE','Deck_LE','TitleGroup_LE',\n",
        "             'Pclass_ordinal','Deck_UK','Parch']\n",
        "X = df_num.drop(columns=drop_tree + ['Survived'])\n",
        "y = df['Survived']\n",
        "\n",
        "X_train_tree,X_test_tree,y_train_tree,y_test_tree=train_test_split(X,y,test_size=0.2,random_state=42,stratify=y)"
      ]
    },
    {
      "cell_type": "code",
      "execution_count": 22,
      "id": "4ea1e6d2",
      "metadata": {
        "id": "4ea1e6d2"
      },
      "outputs": [],
      "source": [
        "rf_exp = ModelExperiment(\n",
        "    model_name=\"RandomForest\",\n",
        "    model=RandomForestClassifier(random_state=42),\n",
        "    param_grid={\n",
        "        'n_estimators': [20,50,100,200,300],\n",
        "        'max_depth': [3,5,10,20,50,None],\n",
        "        'min_samples_split': [2,3,4,5,10],\n",
        "        'min_samples_leaf': [1, 2, 3],\n",
        "        'max_features': ['sqrt', 'log2'],\n",
        "        'class_weight': ['balanced','balanced_subsample']\n",
        "    },\n",
        "    scoring={'f1':'f1','roc_auc':'roc_auc','recall':'recall'},\n",
        "    refit_metric='recall'\n",
        ")"
      ]
    },
    {
      "cell_type": "code",
      "execution_count": 23,
      "id": "5db4ee45",
      "metadata": {
        "colab": {
          "base_uri": "https://localhost:8080/"
        },
        "id": "5db4ee45",
        "outputId": "2c7d39f9-6ccd-49e3-87eb-a0df4c3f6ac7"
      },
      "outputs": [
        {
          "name": "stdout",
          "output_type": "stream",
          "text": [
            "=== RandomForest ===\n",
            "Fitting 5 folds for each of 1800 candidates, totalling 9000 fits\n"
          ]
        }
      ],
      "source": [
        "results = rf_exp.run_experiment(X_train_tree, y_train_tree, X_test_tree, y_test_tree)"
      ]
    },
    {
      "cell_type": "markdown",
      "id": "e4d1dce1",
      "metadata": {
        "id": "e4d1dce1"
      },
      "source": [
        "### Mejores parámetros"
      ]
    },
    {
      "cell_type": "code",
      "execution_count": 24,
      "id": "1fbb7d99",
      "metadata": {
        "colab": {
          "base_uri": "https://localhost:8080/"
        },
        "id": "1fbb7d99",
        "outputId": "4449185a-cebd-4baa-ebf0-d83f9a7bc314"
      },
      "outputs": [
        {
          "name": "stdout",
          "output_type": "stream",
          "text": [
            "RandomForestClassifier(class_weight='balanced_subsample', max_depth=20,\n",
            "                       max_features='log2', min_samples_leaf=3,\n",
            "                       min_samples_split=10, n_estimators=200, random_state=42)\n"
          ]
        }
      ],
      "source": [
        "rfmodel = joblib.load('../models/RandomForest_final.pkl')\n",
        "print(rfmodel)"
      ]
    },
    {
      "cell_type": "markdown",
      "id": "bf1a7c5c",
      "metadata": {},
      "source": [
        "### Evaluación\n",
        "### Métricas básicas"
      ]
    },
    {
      "cell_type": "code",
      "execution_count": 25,
      "id": "411adc66",
      "metadata": {},
      "outputs": [
        {
          "data": {
            "application/vnd.microsoft.datawrangler.viewer.v0+json": {
              "columns": [
                {
                  "name": "index",
                  "rawType": "object",
                  "type": "string"
                },
                {
                  "name": "0",
                  "rawType": "float64",
                  "type": "float"
                }
              ],
              "ref": "024bc794-bd06-485c-8a62-8b6088f200ed",
              "rows": [
                [
                  "Accuracy",
                  "0.8100558659217877"
                ],
                [
                  "Precision",
                  "0.7272727272727273"
                ],
                [
                  "Recall",
                  "0.8115942028985508"
                ],
                [
                  "F1-Score",
                  "0.7671232876712328"
                ],
                [
                  "ROC-AUC",
                  "0.8621870882740449"
                ],
                [
                  "PR-AUC",
                  "0.8321374900832066"
                ],
                [
                  "MCC",
                  "0.6101642632408754"
                ],
                [
                  "Balanced Accuracy",
                  "0.8103425559947299"
                ]
              ],
              "shape": {
                "columns": 1,
                "rows": 8
              }
            },
            "text/html": [
              "<div>\n",
              "<style scoped>\n",
              "    .dataframe tbody tr th:only-of-type {\n",
              "        vertical-align: middle;\n",
              "    }\n",
              "\n",
              "    .dataframe tbody tr th {\n",
              "        vertical-align: top;\n",
              "    }\n",
              "\n",
              "    .dataframe thead th {\n",
              "        text-align: right;\n",
              "    }\n",
              "</style>\n",
              "<table border=\"1\" class=\"dataframe\">\n",
              "  <thead>\n",
              "    <tr style=\"text-align: right;\">\n",
              "      <th></th>\n",
              "      <th>0</th>\n",
              "    </tr>\n",
              "  </thead>\n",
              "  <tbody>\n",
              "    <tr>\n",
              "      <th>Accuracy</th>\n",
              "      <td>0.810056</td>\n",
              "    </tr>\n",
              "    <tr>\n",
              "      <th>Precision</th>\n",
              "      <td>0.727273</td>\n",
              "    </tr>\n",
              "    <tr>\n",
              "      <th>Recall</th>\n",
              "      <td>0.811594</td>\n",
              "    </tr>\n",
              "    <tr>\n",
              "      <th>F1-Score</th>\n",
              "      <td>0.767123</td>\n",
              "    </tr>\n",
              "    <tr>\n",
              "      <th>ROC-AUC</th>\n",
              "      <td>0.862187</td>\n",
              "    </tr>\n",
              "    <tr>\n",
              "      <th>PR-AUC</th>\n",
              "      <td>0.832137</td>\n",
              "    </tr>\n",
              "    <tr>\n",
              "      <th>MCC</th>\n",
              "      <td>0.610164</td>\n",
              "    </tr>\n",
              "    <tr>\n",
              "      <th>Balanced Accuracy</th>\n",
              "      <td>0.810343</td>\n",
              "    </tr>\n",
              "  </tbody>\n",
              "</table>\n",
              "</div>"
            ],
            "text/plain": [
              "                          0\n",
              "Accuracy           0.810056\n",
              "Precision          0.727273\n",
              "Recall             0.811594\n",
              "F1-Score           0.767123\n",
              "ROC-AUC            0.862187\n",
              "PR-AUC             0.832137\n",
              "MCC                0.610164\n",
              "Balanced Accuracy  0.810343"
            ]
          },
          "execution_count": 25,
          "metadata": {},
          "output_type": "execute_result"
        }
      ],
      "source": [
        "rf_best = joblib.load('../models/RandomForest_final.pkl')\n",
        "\n",
        "metrics_rf, y_pred, y_proba, t_tr_rf, t_inf_rf = evaluate_model(rf_best, X_train_tree, y_train_tree, X_test_tree, y_test_tree)\n",
        "\n",
        "metrics_rf.T"
      ]
    },
    {
      "cell_type": "markdown",
      "id": "6e8087aa",
      "metadata": {},
      "source": [
        "### Métricas por Clase/Grupo"
      ]
    },
    {
      "cell_type": "markdown",
      "id": "ee2b40ce",
      "metadata": {},
      "source": [
        "### Confusion Matrix"
      ]
    },
    {
      "cell_type": "code",
      "execution_count": 26,
      "id": "ef5e6692",
      "metadata": {},
      "outputs": [
        {
          "data": {
            "image/png": "[encoded data removed]",
            "text/plain": [
              "<Figure size 500x400 with 1 Axes>"
            ]
          },
          "metadata": {},
          "output_type": "display_data"
        }
      ],
      "source": [
        "cm = confusion_matrix(y_test_tree, y_pred)\n",
        "plt.figure(figsize=(5,4))\n",
        "sns.heatmap(cm, annot=True, fmt='d', cmap='Blues', cbar=False)\n",
        "plt.xlabel('Predicted')\n",
        "plt.ylabel('Actual')\n",
        "plt.title('Confusion Matrix (Survived)')\n",
        "plt.show()"
      ]
    },
    {
      "cell_type": "markdown",
      "id": "5e18d191",
      "metadata": {},
      "source": [
        "### Métricas desagregadas por:"
      ]
    },
    {
      "cell_type": "markdown",
      "id": "0a9668bb",
      "metadata": {},
      "source": [
        "Género"
      ]
    },
    {
      "cell_type": "code",
      "execution_count": 27,
      "id": "37ac286b",
      "metadata": {},
      "outputs": [
        {
          "name": "stdout",
          "output_type": "stream",
          "text": [
            "Métricas por Género\n",
            "(Hombre=0, Mujer=1)\n"
          ]
        },
        {
          "data": {
            "application/vnd.microsoft.datawrangler.viewer.v0+json": {
              "columns": [
                {
                  "name": "index",
                  "rawType": "int64",
                  "type": "integer"
                },
                {
                  "name": "Grupo",
                  "rawType": "int64",
                  "type": "integer"
                },
                {
                  "name": "Accuracy",
                  "rawType": "float64",
                  "type": "float"
                },
                {
                  "name": "Precision",
                  "rawType": "float64",
                  "type": "float"
                },
                {
                  "name": "Recall",
                  "rawType": "float64",
                  "type": "float"
                },
                {
                  "name": "F1-Score",
                  "rawType": "float64",
                  "type": "float"
                },
                {
                  "name": "ROC-AUC",
                  "rawType": "float64",
                  "type": "float"
                },
                {
                  "name": "PR-AUC",
                  "rawType": "float64",
                  "type": "float"
                },
                {
                  "name": "MCC",
                  "rawType": "float64",
                  "type": "float"
                },
                {
                  "name": "Balanced Accuracy",
                  "rawType": "float64",
                  "type": "float"
                }
              ],
              "ref": "0bedbe64-231f-4ddd-9a4e-c336b2603397",
              "rows": [
                [
                  "0",
                  "0",
                  "0.7966101694915254",
                  "0.5",
                  "0.5",
                  "0.5",
                  "0.7180851063829788",
                  "0.5508132861534303",
                  "0.3723404255319149",
                  "0.6861702127659575"
                ],
                [
                  "1",
                  "1",
                  "0.8360655737704918",
                  "0.8301886792452831",
                  "0.9777777777777777",
                  "0.8979591836734694",
                  "0.8402777777777778",
                  "0.9236147568331389",
                  "0.5411554191089906",
                  "0.7076388888888889"
                ]
              ],
              "shape": {
                "columns": 9,
                "rows": 2
              }
            },
            "text/html": [
              "<div>\n",
              "<style scoped>\n",
              "    .dataframe tbody tr th:only-of-type {\n",
              "        vertical-align: middle;\n",
              "    }\n",
              "\n",
              "    .dataframe tbody tr th {\n",
              "        vertical-align: top;\n",
              "    }\n",
              "\n",
              "    .dataframe thead th {\n",
              "        text-align: right;\n",
              "    }\n",
              "</style>\n",
              "<table border=\"1\" class=\"dataframe\">\n",
              "  <thead>\n",
              "    <tr style=\"text-align: right;\">\n",
              "      <th></th>\n",
              "      <th>Grupo</th>\n",
              "      <th>Accuracy</th>\n",
              "      <th>Precision</th>\n",
              "      <th>Recall</th>\n",
              "      <th>F1-Score</th>\n",
              "      <th>ROC-AUC</th>\n",
              "      <th>PR-AUC</th>\n",
              "      <th>MCC</th>\n",
              "      <th>Balanced Accuracy</th>\n",
              "    </tr>\n",
              "  </thead>\n",
              "  <tbody>\n",
              "    <tr>\n",
              "      <th>0</th>\n",
              "      <td>0</td>\n",
              "      <td>0.796610</td>\n",
              "      <td>0.500000</td>\n",
              "      <td>0.500000</td>\n",
              "      <td>0.500000</td>\n",
              "      <td>0.718085</td>\n",
              "      <td>0.550813</td>\n",
              "      <td>0.372340</td>\n",
              "      <td>0.686170</td>\n",
              "    </tr>\n",
              "    <tr>\n",
              "      <th>1</th>\n",
              "      <td>1</td>\n",
              "      <td>0.836066</td>\n",
              "      <td>0.830189</td>\n",
              "      <td>0.977778</td>\n",
              "      <td>0.897959</td>\n",
              "      <td>0.840278</td>\n",
              "      <td>0.923615</td>\n",
              "      <td>0.541155</td>\n",
              "      <td>0.707639</td>\n",
              "    </tr>\n",
              "  </tbody>\n",
              "</table>\n",
              "</div>"
            ],
            "text/plain": [
              "   Grupo  Accuracy  Precision    Recall  F1-Score   ROC-AUC    PR-AUC  \\\n",
              "0      0  0.796610   0.500000  0.500000  0.500000  0.718085  0.550813   \n",
              "1      1  0.836066   0.830189  0.977778  0.897959  0.840278  0.923615   \n",
              "\n",
              "        MCC  Balanced Accuracy  \n",
              "0  0.372340           0.686170  \n",
              "1  0.541155           0.707639  "
            ]
          },
          "execution_count": 27,
          "metadata": {},
          "output_type": "execute_result"
        }
      ],
      "source": [
        "print(\"Métricas por Género\\n(Hombre=0, Mujer=1)\")\n",
        "metrics_by_group(y_test_tree, y_pred, y_proba, X_test_tree['Sex_female'])"
      ]
    },
    {
      "cell_type": "markdown",
      "id": "3ba6a9b7",
      "metadata": {},
      "source": [
        "Clase socioeconómica"
      ]
    },
    {
      "cell_type": "code",
      "execution_count": 28,
      "id": "4985c2f6",
      "metadata": {},
      "outputs": [
        {
          "name": "stdout",
          "output_type": "stream",
          "text": [
            "Métricas por Clase Socioeconómica\n"
          ]
        },
        {
          "data": {
            "application/vnd.microsoft.datawrangler.viewer.v0+json": {
              "columns": [
                {
                  "name": "index",
                  "rawType": "int64",
                  "type": "integer"
                },
                {
                  "name": "Grupo",
                  "rawType": "int64",
                  "type": "integer"
                },
                {
                  "name": "Accuracy",
                  "rawType": "float64",
                  "type": "float"
                },
                {
                  "name": "Precision",
                  "rawType": "float64",
                  "type": "float"
                },
                {
                  "name": "Recall",
                  "rawType": "float64",
                  "type": "float"
                },
                {
                  "name": "F1-Score",
                  "rawType": "float64",
                  "type": "float"
                },
                {
                  "name": "ROC-AUC",
                  "rawType": "float64",
                  "type": "float"
                },
                {
                  "name": "PR-AUC",
                  "rawType": "float64",
                  "type": "float"
                },
                {
                  "name": "MCC",
                  "rawType": "float64",
                  "type": "float"
                },
                {
                  "name": "Balanced Accuracy",
                  "rawType": "float64",
                  "type": "float"
                }
              ],
              "ref": "ff1cb376-6807-429a-976d-02555d0be5be",
              "rows": [
                [
                  "0",
                  "1",
                  "0.6666666666666666",
                  "0.65625",
                  "0.84",
                  "0.7368421052631579",
                  "0.782",
                  "0.8513570770938926",
                  "0.3179335319987981",
                  "0.645"
                ],
                [
                  "1",
                  "2",
                  "0.9117647058823529",
                  "0.9473684210526315",
                  "0.9",
                  "0.9230769230769231",
                  "0.9142857142857144",
                  "0.9445063552861541",
                  "0.821271097469555",
                  "0.9142857142857144"
                ],
                [
                  "2",
                  "3",
                  "0.84",
                  "0.6538461538461539",
                  "0.7083333333333334",
                  "0.68",
                  "0.78125",
                  "0.6484647475328691",
                  "0.5743773696831201",
                  "0.7949561403508771"
                ]
              ],
              "shape": {
                "columns": 9,
                "rows": 3
              }
            },
            "text/html": [
              "<div>\n",
              "<style scoped>\n",
              "    .dataframe tbody tr th:only-of-type {\n",
              "        vertical-align: middle;\n",
              "    }\n",
              "\n",
              "    .dataframe tbody tr th {\n",
              "        vertical-align: top;\n",
              "    }\n",
              "\n",
              "    .dataframe thead th {\n",
              "        text-align: right;\n",
              "    }\n",
              "</style>\n",
              "<table border=\"1\" class=\"dataframe\">\n",
              "  <thead>\n",
              "    <tr style=\"text-align: right;\">\n",
              "      <th></th>\n",
              "      <th>Grupo</th>\n",
              "      <th>Accuracy</th>\n",
              "      <th>Precision</th>\n",
              "      <th>Recall</th>\n",
              "      <th>F1-Score</th>\n",
              "      <th>ROC-AUC</th>\n",
              "      <th>PR-AUC</th>\n",
              "      <th>MCC</th>\n",
              "      <th>Balanced Accuracy</th>\n",
              "    </tr>\n",
              "  </thead>\n",
              "  <tbody>\n",
              "    <tr>\n",
              "      <th>0</th>\n",
              "      <td>1</td>\n",
              "      <td>0.666667</td>\n",
              "      <td>0.656250</td>\n",
              "      <td>0.840000</td>\n",
              "      <td>0.736842</td>\n",
              "      <td>0.782000</td>\n",
              "      <td>0.851357</td>\n",
              "      <td>0.317934</td>\n",
              "      <td>0.645000</td>\n",
              "    </tr>\n",
              "    <tr>\n",
              "      <th>1</th>\n",
              "      <td>2</td>\n",
              "      <td>0.911765</td>\n",
              "      <td>0.947368</td>\n",
              "      <td>0.900000</td>\n",
              "      <td>0.923077</td>\n",
              "      <td>0.914286</td>\n",
              "      <td>0.944506</td>\n",
              "      <td>0.821271</td>\n",
              "      <td>0.914286</td>\n",
              "    </tr>\n",
              "    <tr>\n",
              "      <th>2</th>\n",
              "      <td>3</td>\n",
              "      <td>0.840000</td>\n",
              "      <td>0.653846</td>\n",
              "      <td>0.708333</td>\n",
              "      <td>0.680000</td>\n",
              "      <td>0.781250</td>\n",
              "      <td>0.648465</td>\n",
              "      <td>0.574377</td>\n",
              "      <td>0.794956</td>\n",
              "    </tr>\n",
              "  </tbody>\n",
              "</table>\n",
              "</div>"
            ],
            "text/plain": [
              "   Grupo  Accuracy  Precision    Recall  F1-Score   ROC-AUC    PR-AUC  \\\n",
              "0      1  0.666667   0.656250  0.840000  0.736842  0.782000  0.851357   \n",
              "1      2  0.911765   0.947368  0.900000  0.923077  0.914286  0.944506   \n",
              "2      3  0.840000   0.653846  0.708333  0.680000  0.781250  0.648465   \n",
              "\n",
              "        MCC  Balanced Accuracy  \n",
              "0  0.317934           0.645000  \n",
              "1  0.821271           0.914286  \n",
              "2  0.574377           0.794956  "
            ]
          },
          "execution_count": 28,
          "metadata": {},
          "output_type": "execute_result"
        }
      ],
      "source": [
        "print(\"Métricas por Clase Socioeconómica\")\n",
        "metrics_by_group(y_test_tree, y_pred, y_proba, X_test['Pclass'])"
      ]
    },
    {
      "cell_type": "markdown",
      "id": "b460b2e8",
      "metadata": {},
      "source": [
        "Grupo de Edad"
      ]
    },
    {
      "cell_type": "code",
      "execution_count": 29,
      "id": "c761637e",
      "metadata": {},
      "outputs": [
        {
          "name": "stdout",
          "output_type": "stream",
          "text": [
            "Métricas por Grupo de Edad\n"
          ]
        },
        {
          "data": {
            "application/vnd.microsoft.datawrangler.viewer.v0+json": {
              "columns": [
                {
                  "name": "index",
                  "rawType": "int64",
                  "type": "integer"
                },
                {
                  "name": "Grupo",
                  "rawType": "int64",
                  "type": "integer"
                },
                {
                  "name": "Accuracy",
                  "rawType": "float64",
                  "type": "float"
                },
                {
                  "name": "Precision",
                  "rawType": "float64",
                  "type": "float"
                },
                {
                  "name": "Recall",
                  "rawType": "float64",
                  "type": "float"
                },
                {
                  "name": "F1-Score",
                  "rawType": "float64",
                  "type": "float"
                },
                {
                  "name": "ROC-AUC",
                  "rawType": "float64",
                  "type": "float"
                },
                {
                  "name": "PR-AUC",
                  "rawType": "float64",
                  "type": "float"
                },
                {
                  "name": "MCC",
                  "rawType": "float64",
                  "type": "float"
                },
                {
                  "name": "Balanced Accuracy",
                  "rawType": "float64",
                  "type": "float"
                }
              ],
              "ref": "f7e41b73-2a8f-4116-8369-ff2dd88bdbf6",
              "rows": [
                [
                  "0",
                  "1",
                  "0.8571428571428571",
                  "0.8",
                  "1.0",
                  "0.8888888888888888",
                  "0.8541666666666667",
                  "0.8338789682539683",
                  "0.7302967433402214",
                  "0.8333333333333333"
                ],
                [
                  "1",
                  "2",
                  "0.8333333333333334",
                  "0.7692307692307693",
                  "0.9090909090909091",
                  "0.8333333333333334",
                  "0.951048951048951",
                  "0.9416994621540076",
                  "0.6783216783216783",
                  "0.8391608391608392"
                ],
                [
                  "2",
                  "3",
                  "0.819047619047619",
                  "0.7631578947368421",
                  "0.7435897435897436",
                  "0.7532467532467533",
                  "0.8333333333333334",
                  "0.8191903403422863",
                  "0.6105560050866511",
                  "0.8036130536130537"
                ],
                [
                  "3",
                  "4",
                  "0.7096774193548387",
                  "0.5333333333333333",
                  "0.8",
                  "0.64",
                  "0.8571428571428572",
                  "0.8231801093643197",
                  "0.43652669512362646",
                  "0.7333333333333334"
                ],
                [
                  "4",
                  "5",
                  "1.0",
                  "1.0",
                  "1.0",
                  "1.0",
                  "1.0",
                  "1.0",
                  "1.0",
                  "1.0"
                ]
              ],
              "shape": {
                "columns": 9,
                "rows": 5
              }
            },
            "text/html": [
              "<div>\n",
              "<style scoped>\n",
              "    .dataframe tbody tr th:only-of-type {\n",
              "        vertical-align: middle;\n",
              "    }\n",
              "\n",
              "    .dataframe tbody tr th {\n",
              "        vertical-align: top;\n",
              "    }\n",
              "\n",
              "    .dataframe thead th {\n",
              "        text-align: right;\n",
              "    }\n",
              "</style>\n",
              "<table border=\"1\" class=\"dataframe\">\n",
              "  <thead>\n",
              "    <tr style=\"text-align: right;\">\n",
              "      <th></th>\n",
              "      <th>Grupo</th>\n",
              "      <th>Accuracy</th>\n",
              "      <th>Precision</th>\n",
              "      <th>Recall</th>\n",
              "      <th>F1-Score</th>\n",
              "      <th>ROC-AUC</th>\n",
              "      <th>PR-AUC</th>\n",
              "      <th>MCC</th>\n",
              "      <th>Balanced Accuracy</th>\n",
              "    </tr>\n",
              "  </thead>\n",
              "  <tbody>\n",
              "    <tr>\n",
              "      <th>0</th>\n",
              "      <td>1</td>\n",
              "      <td>0.857143</td>\n",
              "      <td>0.800000</td>\n",
              "      <td>1.000000</td>\n",
              "      <td>0.888889</td>\n",
              "      <td>0.854167</td>\n",
              "      <td>0.833879</td>\n",
              "      <td>0.730297</td>\n",
              "      <td>0.833333</td>\n",
              "    </tr>\n",
              "    <tr>\n",
              "      <th>1</th>\n",
              "      <td>2</td>\n",
              "      <td>0.833333</td>\n",
              "      <td>0.769231</td>\n",
              "      <td>0.909091</td>\n",
              "      <td>0.833333</td>\n",
              "      <td>0.951049</td>\n",
              "      <td>0.941699</td>\n",
              "      <td>0.678322</td>\n",
              "      <td>0.839161</td>\n",
              "    </tr>\n",
              "    <tr>\n",
              "      <th>2</th>\n",
              "      <td>3</td>\n",
              "      <td>0.819048</td>\n",
              "      <td>0.763158</td>\n",
              "      <td>0.743590</td>\n",
              "      <td>0.753247</td>\n",
              "      <td>0.833333</td>\n",
              "      <td>0.819190</td>\n",
              "      <td>0.610556</td>\n",
              "      <td>0.803613</td>\n",
              "    </tr>\n",
              "    <tr>\n",
              "      <th>3</th>\n",
              "      <td>4</td>\n",
              "      <td>0.709677</td>\n",
              "      <td>0.533333</td>\n",
              "      <td>0.800000</td>\n",
              "      <td>0.640000</td>\n",
              "      <td>0.857143</td>\n",
              "      <td>0.823180</td>\n",
              "      <td>0.436527</td>\n",
              "      <td>0.733333</td>\n",
              "    </tr>\n",
              "    <tr>\n",
              "      <th>4</th>\n",
              "      <td>5</td>\n",
              "      <td>1.000000</td>\n",
              "      <td>1.000000</td>\n",
              "      <td>1.000000</td>\n",
              "      <td>1.000000</td>\n",
              "      <td>1.000000</td>\n",
              "      <td>1.000000</td>\n",
              "      <td>1.000000</td>\n",
              "      <td>1.000000</td>\n",
              "    </tr>\n",
              "  </tbody>\n",
              "</table>\n",
              "</div>"
            ],
            "text/plain": [
              "   Grupo  Accuracy  Precision    Recall  F1-Score   ROC-AUC    PR-AUC  \\\n",
              "0      1  0.857143   0.800000  1.000000  0.888889  0.854167  0.833879   \n",
              "1      2  0.833333   0.769231  0.909091  0.833333  0.951049  0.941699   \n",
              "2      3  0.819048   0.763158  0.743590  0.753247  0.833333  0.819190   \n",
              "3      4  0.709677   0.533333  0.800000  0.640000  0.857143  0.823180   \n",
              "4      5  1.000000   1.000000  1.000000  1.000000  1.000000  1.000000   \n",
              "\n",
              "        MCC  Balanced Accuracy  \n",
              "0  0.730297           0.833333  \n",
              "1  0.678322           0.839161  \n",
              "2  0.610556           0.803613  \n",
              "3  0.436527           0.733333  \n",
              "4  1.000000           1.000000  "
            ]
          },
          "execution_count": 29,
          "metadata": {},
          "output_type": "execute_result"
        }
      ],
      "source": [
        "print(\"Métricas por Grupo de Edad\")\n",
        "metrics_by_group(y_test_tree, y_pred, y_proba, X_test['AgeGroup_ordinal'])"
      ]
    },
    {
      "cell_type": "markdown",
      "id": "2b04bf11",
      "metadata": {},
      "source": [
        "Tamaño de familia"
      ]
    },
    {
      "cell_type": "code",
      "execution_count": 30,
      "id": "cb7d35b8",
      "metadata": {},
      "outputs": [
        {
          "name": "stdout",
          "output_type": "stream",
          "text": [
            "Métricas por Tamaño de Familia\n"
          ]
        },
        {
          "data": {
            "application/vnd.microsoft.datawrangler.viewer.v0+json": {
              "columns": [
                {
                  "name": "index",
                  "rawType": "int64",
                  "type": "integer"
                },
                {
                  "name": "Grupo",
                  "rawType": "float64",
                  "type": "float"
                },
                {
                  "name": "Accuracy",
                  "rawType": "float64",
                  "type": "float"
                },
                {
                  "name": "Precision",
                  "rawType": "float64",
                  "type": "float"
                },
                {
                  "name": "Recall",
                  "rawType": "float64",
                  "type": "float"
                },
                {
                  "name": "F1-Score",
                  "rawType": "float64",
                  "type": "float"
                },
                {
                  "name": "ROC-AUC",
                  "rawType": "float64",
                  "type": "float"
                },
                {
                  "name": "PR-AUC",
                  "rawType": "float64",
                  "type": "float"
                },
                {
                  "name": "MCC",
                  "rawType": "float64",
                  "type": "float"
                },
                {
                  "name": "Balanced Accuracy",
                  "rawType": "float64",
                  "type": "float"
                }
              ],
              "ref": "29587983-c750-40aa-bddc-52ff2008d979",
              "rows": [
                [
                  "0",
                  "-0.7910074553829461",
                  "0.8058252427184466",
                  "0.7096774193548387",
                  "0.6666666666666666",
                  "0.6875",
                  "0.8051948051948052",
                  "0.7741414062175331",
                  "0.5474167016355652",
                  "0.769047619047619"
                ],
                [
                  "1",
                  "0.8366964171969096",
                  "0.78125",
                  "0.7619047619047619",
                  "0.8888888888888888",
                  "0.8205128205128205",
                  "0.888888888888889",
                  "0.9224006696491217",
                  "0.5553906166205598",
                  "0.7658730158730158"
                ],
                [
                  "2",
                  "1.3430273068253449",
                  "0.8",
                  "0.6875",
                  "1.0",
                  "0.8148148148148148",
                  "0.9610389610389609",
                  "0.9633264462809917",
                  "0.6648039453209387",
                  "0.8214285714285714"
                ],
                [
                  "3",
                  "1.5582148359874182",
                  "0.8571428571428571",
                  "0.8333333333333334",
                  "1.0",
                  "0.9090909090909091",
                  "0.5",
                  "0.71",
                  "0.6454972243679028",
                  "0.75"
                ],
                [
                  "4",
                  "1.7298557257357403",
                  "0.8333333333333334",
                  "0.6666666666666666",
                  "1.0",
                  "0.8",
                  "1.0",
                  "1.0",
                  "0.7071067811865476",
                  "0.875"
                ]
              ],
              "shape": {
                "columns": 9,
                "rows": 5
              }
            },
            "text/html": [
              "<div>\n",
              "<style scoped>\n",
              "    .dataframe tbody tr th:only-of-type {\n",
              "        vertical-align: middle;\n",
              "    }\n",
              "\n",
              "    .dataframe tbody tr th {\n",
              "        vertical-align: top;\n",
              "    }\n",
              "\n",
              "    .dataframe thead th {\n",
              "        text-align: right;\n",
              "    }\n",
              "</style>\n",
              "<table border=\"1\" class=\"dataframe\">\n",
              "  <thead>\n",
              "    <tr style=\"text-align: right;\">\n",
              "      <th></th>\n",
              "      <th>Grupo</th>\n",
              "      <th>Accuracy</th>\n",
              "      <th>Precision</th>\n",
              "      <th>Recall</th>\n",
              "      <th>F1-Score</th>\n",
              "      <th>ROC-AUC</th>\n",
              "      <th>PR-AUC</th>\n",
              "      <th>MCC</th>\n",
              "      <th>Balanced Accuracy</th>\n",
              "    </tr>\n",
              "  </thead>\n",
              "  <tbody>\n",
              "    <tr>\n",
              "      <th>0</th>\n",
              "      <td>-0.791007</td>\n",
              "      <td>0.805825</td>\n",
              "      <td>0.709677</td>\n",
              "      <td>0.666667</td>\n",
              "      <td>0.687500</td>\n",
              "      <td>0.805195</td>\n",
              "      <td>0.774141</td>\n",
              "      <td>0.547417</td>\n",
              "      <td>0.769048</td>\n",
              "    </tr>\n",
              "    <tr>\n",
              "      <th>1</th>\n",
              "      <td>0.836696</td>\n",
              "      <td>0.781250</td>\n",
              "      <td>0.761905</td>\n",
              "      <td>0.888889</td>\n",
              "      <td>0.820513</td>\n",
              "      <td>0.888889</td>\n",
              "      <td>0.922401</td>\n",
              "      <td>0.555391</td>\n",
              "      <td>0.765873</td>\n",
              "    </tr>\n",
              "    <tr>\n",
              "      <th>2</th>\n",
              "      <td>1.343027</td>\n",
              "      <td>0.800000</td>\n",
              "      <td>0.687500</td>\n",
              "      <td>1.000000</td>\n",
              "      <td>0.814815</td>\n",
              "      <td>0.961039</td>\n",
              "      <td>0.963326</td>\n",
              "      <td>0.664804</td>\n",
              "      <td>0.821429</td>\n",
              "    </tr>\n",
              "    <tr>\n",
              "      <th>3</th>\n",
              "      <td>1.558215</td>\n",
              "      <td>0.857143</td>\n",
              "      <td>0.833333</td>\n",
              "      <td>1.000000</td>\n",
              "      <td>0.909091</td>\n",
              "      <td>0.500000</td>\n",
              "      <td>0.710000</td>\n",
              "      <td>0.645497</td>\n",
              "      <td>0.750000</td>\n",
              "    </tr>\n",
              "    <tr>\n",
              "      <th>4</th>\n",
              "      <td>1.729856</td>\n",
              "      <td>0.833333</td>\n",
              "      <td>0.666667</td>\n",
              "      <td>1.000000</td>\n",
              "      <td>0.800000</td>\n",
              "      <td>1.000000</td>\n",
              "      <td>1.000000</td>\n",
              "      <td>0.707107</td>\n",
              "      <td>0.875000</td>\n",
              "    </tr>\n",
              "  </tbody>\n",
              "</table>\n",
              "</div>"
            ],
            "text/plain": [
              "      Grupo  Accuracy  Precision    Recall  F1-Score   ROC-AUC    PR-AUC  \\\n",
              "0 -0.791007  0.805825   0.709677  0.666667  0.687500  0.805195  0.774141   \n",
              "1  0.836696  0.781250   0.761905  0.888889  0.820513  0.888889  0.922401   \n",
              "2  1.343027  0.800000   0.687500  1.000000  0.814815  0.961039  0.963326   \n",
              "3  1.558215  0.857143   0.833333  1.000000  0.909091  0.500000  0.710000   \n",
              "4  1.729856  0.833333   0.666667  1.000000  0.800000  1.000000  1.000000   \n",
              "\n",
              "        MCC  Balanced Accuracy  \n",
              "0  0.547417           0.769048  \n",
              "1  0.555391           0.765873  \n",
              "2  0.664804           0.821429  \n",
              "3  0.645497           0.750000  \n",
              "4  0.707107           0.875000  "
            ]
          },
          "execution_count": 30,
          "metadata": {},
          "output_type": "execute_result"
        }
      ],
      "source": [
        "print(\"Métricas por Tamaño de Familia\")\n",
        "metrics_by_group(y_test_tree, y_pred, y_proba, X_test_tree['FamilySize'])"
      ]
    },
    {
      "cell_type": "markdown",
      "id": "60ba9f68",
      "metadata": {},
      "source": [
        "### Análisis de calibración"
      ]
    },
    {
      "cell_type": "markdown",
      "id": "6ea3f689",
      "metadata": {},
      "source": [
        "### Calibration plots (reliability diagrams)"
      ]
    },
    {
      "cell_type": "code",
      "execution_count": 31,
      "id": "bb0bac6c",
      "metadata": {},
      "outputs": [
        {
          "data": {
            "image/png": "[encoded data removed]",
            "text/plain": [
              "<Figure size 640x480 with 1 Axes>"
            ]
          },
          "metadata": {},
          "output_type": "display_data"
        }
      ],
      "source": [
        "prob_true, prob_pred = calibration_curve(y_test_tree, y_proba, n_bins=10)\n",
        "plt.plot(prob_pred, prob_true, marker='o')\n",
        "plt.plot([0,1],[0,1], linestyle='--')\n",
        "plt.show()"
      ]
    },
    {
      "cell_type": "markdown",
      "id": "117cff1e",
      "metadata": {},
      "source": [
        "### Brier Score"
      ]
    },
    {
      "cell_type": "code",
      "execution_count": 32,
      "id": "e9886e46",
      "metadata": {},
      "outputs": [
        {
          "data": {
            "text/plain": [
              "0.13922288149296988"
            ]
          },
          "execution_count": 32,
          "metadata": {},
          "output_type": "execute_result"
        }
      ],
      "source": [
        "brier_score_loss(y_test_tree, y_proba)"
      ]
    },
    {
      "cell_type": "markdown",
      "id": "7457096c",
      "metadata": {},
      "source": [
        "### Expected Calibration Error (ECE)"
      ]
    },
    {
      "cell_type": "code",
      "execution_count": 33,
      "id": "24997143",
      "metadata": {},
      "outputs": [
        {
          "name": "stdout",
          "output_type": "stream",
          "text": [
            "0.0907915906898428\n"
          ]
        }
      ],
      "source": [
        "print(np.abs(prob_true - prob_pred).mean())"
      ]
    },
    {
      "cell_type": "markdown",
      "id": "c18e1448",
      "metadata": {
        "id": "c18e1448"
      },
      "source": [
        "## XGBOOST"
      ]
    },
    {
      "cell_type": "code",
      "execution_count": 34,
      "id": "3d4c4478",
      "metadata": {
        "id": "3d4c4478"
      },
      "outputs": [],
      "source": [
        "neg = (y_train_tree == 0).sum()\n",
        "pos = (y_train_tree == 1).sum()\n",
        "spw = neg / pos\n",
        "\n",
        "xgb_exp = ModelExperiment(\n",
        "    model_name=\"XGBoost\",\n",
        "    model=XGBClassifier(eval_metric='logloss', random_state=42,tree_method='hist',scale_pos_weight=spw),\n",
        "    param_grid={\n",
        "        'learning_rate': [0.001,0.01, 0.05, 0.1],\n",
        "        'n_estimators': [100,200,300],\n",
        "        'max_depth': [2,3,4,5],\n",
        "        'subsample': [0.6,0.7, 0.8, 0.9, 1.0],\n",
        "        'colsample_bytree': [0.7, 0.8, 0.9, 1.0],\n",
        "        'gamma': [0, 0.1, 0.3, 0.5]\n",
        "    }\n",
        ")"
      ]
    },
    {
      "cell_type": "code",
      "execution_count": 35,
      "id": "3d87873d",
      "metadata": {
        "colab": {
          "base_uri": "https://localhost:8080/",
          "height": 335
        },
        "id": "3d87873d",
        "outputId": "98f89c7e-ffa0-42d0-cc13-ec959bf89b83"
      },
      "outputs": [
        {
          "name": "stdout",
          "output_type": "stream",
          "text": [
            "=== XGBoost ===\n",
            "Fitting 5 folds for each of 3840 candidates, totalling 19200 fits\n"
          ]
        }
      ],
      "source": [
        "results = xgb_exp.run_experiment(X_train_tree, y_train_tree, X_test_tree, y_test_tree)"
      ]
    },
    {
      "cell_type": "markdown",
      "id": "872c85f6",
      "metadata": {
        "id": "872c85f6"
      },
      "source": [
        "### Mejores parámetros"
      ]
    },
    {
      "cell_type": "code",
      "execution_count": 36,
      "id": "47b29047",
      "metadata": {
        "id": "47b29047"
      },
      "outputs": [
        {
          "name": "stdout",
          "output_type": "stream",
          "text": [
            "XGBClassifier(base_score=None, booster=None, callbacks=None,\n",
            "              colsample_bylevel=None, colsample_bynode=None,\n",
            "              colsample_bytree=0.7, device=None, early_stopping_rounds=None,\n",
            "              enable_categorical=False, eval_metric='logloss',\n",
            "              feature_types=None, feature_weights=None, gamma=0,\n",
            "              grow_policy=None, importance_type=None,\n",
            "              interaction_constraints=None, learning_rate=0.05, max_bin=None,\n",
            "              max_cat_threshold=None, max_cat_to_onehot=None,\n",
            "              max_delta_step=None, max_depth=4, max_leaves=None,\n",
            "              min_child_weight=None, missing=nan, monotone_constraints=None,\n",
            "              multi_strategy=None, n_estimators=200, n_jobs=None,\n",
            "              num_parallel_tree=None, ...)\n"
          ]
        }
      ],
      "source": [
        "xgbmodel = joblib.load('../models/XGBoost_final.pkl')\n",
        "print(xgbmodel)"
      ]
    },
    {
      "cell_type": "markdown",
      "id": "84a66c1d",
      "metadata": {},
      "source": [
        "### Evaluación"
      ]
    },
    {
      "cell_type": "markdown",
      "id": "ed61d8ca",
      "metadata": {},
      "source": [
        "### Métricas básicas"
      ]
    },
    {
      "cell_type": "code",
      "execution_count": 37,
      "id": "d9086228",
      "metadata": {},
      "outputs": [
        {
          "data": {
            "application/vnd.microsoft.datawrangler.viewer.v0+json": {
              "columns": [
                {
                  "name": "index",
                  "rawType": "object",
                  "type": "string"
                },
                {
                  "name": "0",
                  "rawType": "float64",
                  "type": "float"
                }
              ],
              "ref": "9b2d68d7-f4cb-49e8-b63c-204a4bdb44f8",
              "rows": [
                [
                  "Accuracy",
                  "0.7988826815642458"
                ],
                [
                  "Precision",
                  "0.72"
                ],
                [
                  "Recall",
                  "0.782608695652174"
                ],
                [
                  "F1-Score",
                  "0.75"
                ],
                [
                  "ROC-AUC",
                  "0.8581027667984191"
                ],
                [
                  "PR-AUC",
                  "0.8231837637415691"
                ],
                [
                  "MCC",
                  "0.5836800718453413"
                ],
                [
                  "Balanced Accuracy",
                  "0.7958498023715415"
                ]
              ],
              "shape": {
                "columns": 1,
                "rows": 8
              }
            },
            "text/html": [
              "<div>\n",
              "<style scoped>\n",
              "    .dataframe tbody tr th:only-of-type {\n",
              "        vertical-align: middle;\n",
              "    }\n",
              "\n",
              "    .dataframe tbody tr th {\n",
              "        vertical-align: top;\n",
              "    }\n",
              "\n",
              "    .dataframe thead th {\n",
              "        text-align: right;\n",
              "    }\n",
              "</style>\n",
              "<table border=\"1\" class=\"dataframe\">\n",
              "  <thead>\n",
              "    <tr style=\"text-align: right;\">\n",
              "      <th></th>\n",
              "      <th>0</th>\n",
              "    </tr>\n",
              "  </thead>\n",
              "  <tbody>\n",
              "    <tr>\n",
              "      <th>Accuracy</th>\n",
              "      <td>0.798883</td>\n",
              "    </tr>\n",
              "    <tr>\n",
              "      <th>Precision</th>\n",
              "      <td>0.720000</td>\n",
              "    </tr>\n",
              "    <tr>\n",
              "      <th>Recall</th>\n",
              "      <td>0.782609</td>\n",
              "    </tr>\n",
              "    <tr>\n",
              "      <th>F1-Score</th>\n",
              "      <td>0.750000</td>\n",
              "    </tr>\n",
              "    <tr>\n",
              "      <th>ROC-AUC</th>\n",
              "      <td>0.858103</td>\n",
              "    </tr>\n",
              "    <tr>\n",
              "      <th>PR-AUC</th>\n",
              "      <td>0.823184</td>\n",
              "    </tr>\n",
              "    <tr>\n",
              "      <th>MCC</th>\n",
              "      <td>0.583680</td>\n",
              "    </tr>\n",
              "    <tr>\n",
              "      <th>Balanced Accuracy</th>\n",
              "      <td>0.795850</td>\n",
              "    </tr>\n",
              "  </tbody>\n",
              "</table>\n",
              "</div>"
            ],
            "text/plain": [
              "                          0\n",
              "Accuracy           0.798883\n",
              "Precision          0.720000\n",
              "Recall             0.782609\n",
              "F1-Score           0.750000\n",
              "ROC-AUC            0.858103\n",
              "PR-AUC             0.823184\n",
              "MCC                0.583680\n",
              "Balanced Accuracy  0.795850"
            ]
          },
          "execution_count": 37,
          "metadata": {},
          "output_type": "execute_result"
        }
      ],
      "source": [
        "xgb_best = joblib.load('../models/XGBoost_final.pkl')\n",
        "\n",
        "metrics_xgb, y_pred, y_proba, t_tr_xgb, t_inf_xgb = evaluate_model(xgb_best, X_train_tree, y_train_tree, X_test_tree, y_test_tree)\n",
        "\n",
        "metrics_xgb.T"
      ]
    },
    {
      "cell_type": "markdown",
      "id": "cb97980b",
      "metadata": {},
      "source": [
        "### Métricas por Clase/Grupo"
      ]
    },
    {
      "cell_type": "markdown",
      "id": "6fdd8afe",
      "metadata": {},
      "source": [
        "### Confusion Matrix"
      ]
    },
    {
      "cell_type": "code",
      "execution_count": 38,
      "id": "dcc65634",
      "metadata": {},
      "outputs": [
        {
          "data": {
            "image/png": "[encoded data removed]",
            "text/plain": [
              "<Figure size 500x400 with 1 Axes>"
            ]
          },
          "metadata": {},
          "output_type": "display_data"
        }
      ],
      "source": [
        "cm = confusion_matrix(y_test_tree, y_pred)\n",
        "plt.figure(figsize=(5,4))\n",
        "sns.heatmap(cm, annot=True, fmt='d', cmap='Blues', cbar=False)\n",
        "plt.xlabel('Predicted')\n",
        "plt.ylabel('Actual')\n",
        "plt.title('Confusion Matrix (Survived)')\n",
        "plt.show()"
      ]
    },
    {
      "cell_type": "markdown",
      "id": "f82d3ef9",
      "metadata": {},
      "source": [
        "### Métricas desagregadas por: "
      ]
    },
    {
      "cell_type": "markdown",
      "id": "c4f3b71d",
      "metadata": {},
      "source": [
        "Género"
      ]
    },
    {
      "cell_type": "code",
      "execution_count": 39,
      "id": "c7260646",
      "metadata": {},
      "outputs": [
        {
          "name": "stdout",
          "output_type": "stream",
          "text": [
            "Métricas por Género\n",
            "(Hombre=0, Mujer=1)\n"
          ]
        },
        {
          "data": {
            "application/vnd.microsoft.datawrangler.viewer.v0+json": {
              "columns": [
                {
                  "name": "index",
                  "rawType": "int64",
                  "type": "integer"
                },
                {
                  "name": "Grupo",
                  "rawType": "int64",
                  "type": "integer"
                },
                {
                  "name": "Accuracy",
                  "rawType": "float64",
                  "type": "float"
                },
                {
                  "name": "Precision",
                  "rawType": "float64",
                  "type": "float"
                },
                {
                  "name": "Recall",
                  "rawType": "float64",
                  "type": "float"
                },
                {
                  "name": "F1-Score",
                  "rawType": "float64",
                  "type": "float"
                },
                {
                  "name": "ROC-AUC",
                  "rawType": "float64",
                  "type": "float"
                },
                {
                  "name": "PR-AUC",
                  "rawType": "float64",
                  "type": "float"
                },
                {
                  "name": "MCC",
                  "rawType": "float64",
                  "type": "float"
                },
                {
                  "name": "Balanced Accuracy",
                  "rawType": "float64",
                  "type": "float"
                }
              ],
              "ref": "fdadfa94-b40d-4220-a772-e09c960cf1ea",
              "rows": [
                [
                  "0",
                  "0",
                  "0.7711864406779662",
                  "0.44",
                  "0.4583333333333333",
                  "0.4489795918367347",
                  "0.7078900709219857",
                  "0.5207522863598092",
                  "0.3047715307578731",
                  "0.6546985815602837"
                ],
                [
                  "1",
                  "1",
                  "0.8524590163934426",
                  "0.86",
                  "0.9555555555555556",
                  "0.9052631578947369",
                  "0.8486111111111111",
                  "0.9294652661289158",
                  "0.5927359096476765",
                  "0.7590277777777779"
                ]
              ],
              "shape": {
                "columns": 9,
                "rows": 2
              }
            },
            "text/html": [
              "<div>\n",
              "<style scoped>\n",
              "    .dataframe tbody tr th:only-of-type {\n",
              "        vertical-align: middle;\n",
              "    }\n",
              "\n",
              "    .dataframe tbody tr th {\n",
              "        vertical-align: top;\n",
              "    }\n",
              "\n",
              "    .dataframe thead th {\n",
              "        text-align: right;\n",
              "    }\n",
              "</style>\n",
              "<table border=\"1\" class=\"dataframe\">\n",
              "  <thead>\n",
              "    <tr style=\"text-align: right;\">\n",
              "      <th></th>\n",
              "      <th>Grupo</th>\n",
              "      <th>Accuracy</th>\n",
              "      <th>Precision</th>\n",
              "      <th>Recall</th>\n",
              "      <th>F1-Score</th>\n",
              "      <th>ROC-AUC</th>\n",
              "      <th>PR-AUC</th>\n",
              "      <th>MCC</th>\n",
              "      <th>Balanced Accuracy</th>\n",
              "    </tr>\n",
              "  </thead>\n",
              "  <tbody>\n",
              "    <tr>\n",
              "      <th>0</th>\n",
              "      <td>0</td>\n",
              "      <td>0.771186</td>\n",
              "      <td>0.44</td>\n",
              "      <td>0.458333</td>\n",
              "      <td>0.448980</td>\n",
              "      <td>0.707890</td>\n",
              "      <td>0.520752</td>\n",
              "      <td>0.304772</td>\n",
              "      <td>0.654699</td>\n",
              "    </tr>\n",
              "    <tr>\n",
              "      <th>1</th>\n",
              "      <td>1</td>\n",
              "      <td>0.852459</td>\n",
              "      <td>0.86</td>\n",
              "      <td>0.955556</td>\n",
              "      <td>0.905263</td>\n",
              "      <td>0.848611</td>\n",
              "      <td>0.929465</td>\n",
              "      <td>0.592736</td>\n",
              "      <td>0.759028</td>\n",
              "    </tr>\n",
              "  </tbody>\n",
              "</table>\n",
              "</div>"
            ],
            "text/plain": [
              "   Grupo  Accuracy  Precision    Recall  F1-Score   ROC-AUC    PR-AUC  \\\n",
              "0      0  0.771186       0.44  0.458333  0.448980  0.707890  0.520752   \n",
              "1      1  0.852459       0.86  0.955556  0.905263  0.848611  0.929465   \n",
              "\n",
              "        MCC  Balanced Accuracy  \n",
              "0  0.304772           0.654699  \n",
              "1  0.592736           0.759028  "
            ]
          },
          "execution_count": 39,
          "metadata": {},
          "output_type": "execute_result"
        }
      ],
      "source": [
        "print(\"Métricas por Género\\n(Hombre=0, Mujer=1)\")\n",
        "metrics_by_group(y_test_tree, y_pred, y_proba, X_test_tree['Sex_female'])"
      ]
    },
    {
      "cell_type": "markdown",
      "id": "5a1d7b76",
      "metadata": {},
      "source": [
        "Clase socioeconómica"
      ]
    },
    {
      "cell_type": "code",
      "execution_count": 40,
      "id": "34a4848b",
      "metadata": {},
      "outputs": [
        {
          "name": "stdout",
          "output_type": "stream",
          "text": [
            "Métricas por Clase Socioeconómica\n"
          ]
        },
        {
          "data": {
            "application/vnd.microsoft.datawrangler.viewer.v0+json": {
              "columns": [
                {
                  "name": "index",
                  "rawType": "int64",
                  "type": "integer"
                },
                {
                  "name": "Grupo",
                  "rawType": "int64",
                  "type": "integer"
                },
                {
                  "name": "Accuracy",
                  "rawType": "float64",
                  "type": "float"
                },
                {
                  "name": "Precision",
                  "rawType": "float64",
                  "type": "float"
                },
                {
                  "name": "Recall",
                  "rawType": "float64",
                  "type": "float"
                },
                {
                  "name": "F1-Score",
                  "rawType": "float64",
                  "type": "float"
                },
                {
                  "name": "ROC-AUC",
                  "rawType": "float64",
                  "type": "float"
                },
                {
                  "name": "PR-AUC",
                  "rawType": "float64",
                  "type": "float"
                },
                {
                  "name": "MCC",
                  "rawType": "float64",
                  "type": "float"
                },
                {
                  "name": "Balanced Accuracy",
                  "rawType": "float64",
                  "type": "float"
                }
              ],
              "ref": "e5405765-9ff8-40d0-a106-15164d04c10d",
              "rows": [
                [
                  "0",
                  "1",
                  "0.6666666666666666",
                  "0.6666666666666666",
                  "0.8",
                  "0.7272727272727273",
                  "0.784",
                  "0.8517282577477407",
                  "0.31622776601683794",
                  "0.65"
                ],
                [
                  "1",
                  "2",
                  "0.9117647058823529",
                  "0.9473684210526315",
                  "0.9",
                  "0.9230769230769231",
                  "0.932142857142857",
                  "0.9542350895148883",
                  "0.821271097469555",
                  "0.9142857142857144"
                ],
                [
                  "2",
                  "3",
                  "0.82",
                  "0.6153846153846154",
                  "0.6666666666666666",
                  "0.64",
                  "0.7900219298245614",
                  "0.6733662978656524",
                  "0.5209965732441684",
                  "0.7675438596491229"
                ]
              ],
              "shape": {
                "columns": 9,
                "rows": 3
              }
            },
            "text/html": [
              "<div>\n",
              "<style scoped>\n",
              "    .dataframe tbody tr th:only-of-type {\n",
              "        vertical-align: middle;\n",
              "    }\n",
              "\n",
              "    .dataframe tbody tr th {\n",
              "        vertical-align: top;\n",
              "    }\n",
              "\n",
              "    .dataframe thead th {\n",
              "        text-align: right;\n",
              "    }\n",
              "</style>\n",
              "<table border=\"1\" class=\"dataframe\">\n",
              "  <thead>\n",
              "    <tr style=\"text-align: right;\">\n",
              "      <th></th>\n",
              "      <th>Grupo</th>\n",
              "      <th>Accuracy</th>\n",
              "      <th>Precision</th>\n",
              "      <th>Recall</th>\n",
              "      <th>F1-Score</th>\n",
              "      <th>ROC-AUC</th>\n",
              "      <th>PR-AUC</th>\n",
              "      <th>MCC</th>\n",
              "      <th>Balanced Accuracy</th>\n",
              "    </tr>\n",
              "  </thead>\n",
              "  <tbody>\n",
              "    <tr>\n",
              "      <th>0</th>\n",
              "      <td>1</td>\n",
              "      <td>0.666667</td>\n",
              "      <td>0.666667</td>\n",
              "      <td>0.800000</td>\n",
              "      <td>0.727273</td>\n",
              "      <td>0.784000</td>\n",
              "      <td>0.851728</td>\n",
              "      <td>0.316228</td>\n",
              "      <td>0.650000</td>\n",
              "    </tr>\n",
              "    <tr>\n",
              "      <th>1</th>\n",
              "      <td>2</td>\n",
              "      <td>0.911765</td>\n",
              "      <td>0.947368</td>\n",
              "      <td>0.900000</td>\n",
              "      <td>0.923077</td>\n",
              "      <td>0.932143</td>\n",
              "      <td>0.954235</td>\n",
              "      <td>0.821271</td>\n",
              "      <td>0.914286</td>\n",
              "    </tr>\n",
              "    <tr>\n",
              "      <th>2</th>\n",
              "      <td>3</td>\n",
              "      <td>0.820000</td>\n",
              "      <td>0.615385</td>\n",
              "      <td>0.666667</td>\n",
              "      <td>0.640000</td>\n",
              "      <td>0.790022</td>\n",
              "      <td>0.673366</td>\n",
              "      <td>0.520997</td>\n",
              "      <td>0.767544</td>\n",
              "    </tr>\n",
              "  </tbody>\n",
              "</table>\n",
              "</div>"
            ],
            "text/plain": [
              "   Grupo  Accuracy  Precision    Recall  F1-Score   ROC-AUC    PR-AUC  \\\n",
              "0      1  0.666667   0.666667  0.800000  0.727273  0.784000  0.851728   \n",
              "1      2  0.911765   0.947368  0.900000  0.923077  0.932143  0.954235   \n",
              "2      3  0.820000   0.615385  0.666667  0.640000  0.790022  0.673366   \n",
              "\n",
              "        MCC  Balanced Accuracy  \n",
              "0  0.316228           0.650000  \n",
              "1  0.821271           0.914286  \n",
              "2  0.520997           0.767544  "
            ]
          },
          "execution_count": 40,
          "metadata": {},
          "output_type": "execute_result"
        }
      ],
      "source": [
        "print(\"Métricas por Clase Socioeconómica\")\n",
        "metrics_by_group(y_test_tree, y_pred, y_proba, X_test['Pclass'])"
      ]
    },
    {
      "cell_type": "markdown",
      "id": "1755dee2",
      "metadata": {},
      "source": [
        "Grupo de Edad"
      ]
    },
    {
      "cell_type": "code",
      "execution_count": 41,
      "id": "7eb50447",
      "metadata": {},
      "outputs": [
        {
          "name": "stdout",
          "output_type": "stream",
          "text": [
            "Métricas por Grupo de Edad\n"
          ]
        },
        {
          "data": {
            "application/vnd.microsoft.datawrangler.viewer.v0+json": {
              "columns": [
                {
                  "name": "index",
                  "rawType": "int64",
                  "type": "integer"
                },
                {
                  "name": "Grupo",
                  "rawType": "int64",
                  "type": "integer"
                },
                {
                  "name": "Accuracy",
                  "rawType": "float64",
                  "type": "float"
                },
                {
                  "name": "Precision",
                  "rawType": "float64",
                  "type": "float"
                },
                {
                  "name": "Recall",
                  "rawType": "float64",
                  "type": "float"
                },
                {
                  "name": "F1-Score",
                  "rawType": "float64",
                  "type": "float"
                },
                {
                  "name": "ROC-AUC",
                  "rawType": "float64",
                  "type": "float"
                },
                {
                  "name": "PR-AUC",
                  "rawType": "float64",
                  "type": "float"
                },
                {
                  "name": "MCC",
                  "rawType": "float64",
                  "type": "float"
                },
                {
                  "name": "Balanced Accuracy",
                  "rawType": "float64",
                  "type": "float"
                }
              ],
              "ref": "565cc573-0a61-4216-a12c-338fb03b087f",
              "rows": [
                [
                  "0",
                  "1",
                  "0.8571428571428571",
                  "0.8",
                  "1.0",
                  "0.8888888888888888",
                  "0.8541666666666667",
                  "0.8338789682539683",
                  "0.7302967433402214",
                  "0.8333333333333333"
                ],
                [
                  "1",
                  "2",
                  "0.9166666666666666",
                  "0.9090909090909091",
                  "0.9090909090909091",
                  "0.9090909090909091",
                  "0.9510489510489512",
                  "0.9254656959202414",
                  "0.8321678321678322",
                  "0.916083916083916"
                ],
                [
                  "2",
                  "3",
                  "0.7904761904761904",
                  "0.717948717948718",
                  "0.717948717948718",
                  "0.717948717948718",
                  "0.820901320901321",
                  "0.7931405566123205",
                  "0.5512820512820513",
                  "0.7756410256410257"
                ],
                [
                  "3",
                  "4",
                  "0.6774193548387096",
                  "0.5",
                  "0.7",
                  "0.5833333333333334",
                  "0.8142857142857143",
                  "0.7619270343183386",
                  "0.3444233600968322",
                  "0.6833333333333333"
                ],
                [
                  "4",
                  "5",
                  "1.0",
                  "1.0",
                  "1.0",
                  "1.0",
                  "1.0",
                  "1.0",
                  "1.0",
                  "1.0"
                ]
              ],
              "shape": {
                "columns": 9,
                "rows": 5
              }
            },
            "text/html": [
              "<div>\n",
              "<style scoped>\n",
              "    .dataframe tbody tr th:only-of-type {\n",
              "        vertical-align: middle;\n",
              "    }\n",
              "\n",
              "    .dataframe tbody tr th {\n",
              "        vertical-align: top;\n",
              "    }\n",
              "\n",
              "    .dataframe thead th {\n",
              "        text-align: right;\n",
              "    }\n",
              "</style>\n",
              "<table border=\"1\" class=\"dataframe\">\n",
              "  <thead>\n",
              "    <tr style=\"text-align: right;\">\n",
              "      <th></th>\n",
              "      <th>Grupo</th>\n",
              "      <th>Accuracy</th>\n",
              "      <th>Precision</th>\n",
              "      <th>Recall</th>\n",
              "      <th>F1-Score</th>\n",
              "      <th>ROC-AUC</th>\n",
              "      <th>PR-AUC</th>\n",
              "      <th>MCC</th>\n",
              "      <th>Balanced Accuracy</th>\n",
              "    </tr>\n",
              "  </thead>\n",
              "  <tbody>\n",
              "    <tr>\n",
              "      <th>0</th>\n",
              "      <td>1</td>\n",
              "      <td>0.857143</td>\n",
              "      <td>0.800000</td>\n",
              "      <td>1.000000</td>\n",
              "      <td>0.888889</td>\n",
              "      <td>0.854167</td>\n",
              "      <td>0.833879</td>\n",
              "      <td>0.730297</td>\n",
              "      <td>0.833333</td>\n",
              "    </tr>\n",
              "    <tr>\n",
              "      <th>1</th>\n",
              "      <td>2</td>\n",
              "      <td>0.916667</td>\n",
              "      <td>0.909091</td>\n",
              "      <td>0.909091</td>\n",
              "      <td>0.909091</td>\n",
              "      <td>0.951049</td>\n",
              "      <td>0.925466</td>\n",
              "      <td>0.832168</td>\n",
              "      <td>0.916084</td>\n",
              "    </tr>\n",
              "    <tr>\n",
              "      <th>2</th>\n",
              "      <td>3</td>\n",
              "      <td>0.790476</td>\n",
              "      <td>0.717949</td>\n",
              "      <td>0.717949</td>\n",
              "      <td>0.717949</td>\n",
              "      <td>0.820901</td>\n",
              "      <td>0.793141</td>\n",
              "      <td>0.551282</td>\n",
              "      <td>0.775641</td>\n",
              "    </tr>\n",
              "    <tr>\n",
              "      <th>3</th>\n",
              "      <td>4</td>\n",
              "      <td>0.677419</td>\n",
              "      <td>0.500000</td>\n",
              "      <td>0.700000</td>\n",
              "      <td>0.583333</td>\n",
              "      <td>0.814286</td>\n",
              "      <td>0.761927</td>\n",
              "      <td>0.344423</td>\n",
              "      <td>0.683333</td>\n",
              "    </tr>\n",
              "    <tr>\n",
              "      <th>4</th>\n",
              "      <td>5</td>\n",
              "      <td>1.000000</td>\n",
              "      <td>1.000000</td>\n",
              "      <td>1.000000</td>\n",
              "      <td>1.000000</td>\n",
              "      <td>1.000000</td>\n",
              "      <td>1.000000</td>\n",
              "      <td>1.000000</td>\n",
              "      <td>1.000000</td>\n",
              "    </tr>\n",
              "  </tbody>\n",
              "</table>\n",
              "</div>"
            ],
            "text/plain": [
              "   Grupo  Accuracy  Precision    Recall  F1-Score   ROC-AUC    PR-AUC  \\\n",
              "0      1  0.857143   0.800000  1.000000  0.888889  0.854167  0.833879   \n",
              "1      2  0.916667   0.909091  0.909091  0.909091  0.951049  0.925466   \n",
              "2      3  0.790476   0.717949  0.717949  0.717949  0.820901  0.793141   \n",
              "3      4  0.677419   0.500000  0.700000  0.583333  0.814286  0.761927   \n",
              "4      5  1.000000   1.000000  1.000000  1.000000  1.000000  1.000000   \n",
              "\n",
              "        MCC  Balanced Accuracy  \n",
              "0  0.730297           0.833333  \n",
              "1  0.832168           0.916084  \n",
              "2  0.551282           0.775641  \n",
              "3  0.344423           0.683333  \n",
              "4  1.000000           1.000000  "
            ]
          },
          "execution_count": 41,
          "metadata": {},
          "output_type": "execute_result"
        }
      ],
      "source": [
        "print(\"Métricas por Grupo de Edad\")\n",
        "metrics_by_group(y_test_tree, y_pred, y_proba, X_test['AgeGroup_ordinal'])"
      ]
    },
    {
      "cell_type": "markdown",
      "id": "5e52a830",
      "metadata": {},
      "source": [
        "Tamaño de familia"
      ]
    },
    {
      "cell_type": "code",
      "execution_count": 42,
      "id": "aca6f7da",
      "metadata": {},
      "outputs": [
        {
          "name": "stdout",
          "output_type": "stream",
          "text": [
            "Métricas por Tamaño de Familia\n"
          ]
        },
        {
          "data": {
            "application/vnd.microsoft.datawrangler.viewer.v0+json": {
              "columns": [
                {
                  "name": "index",
                  "rawType": "int64",
                  "type": "integer"
                },
                {
                  "name": "Grupo",
                  "rawType": "float64",
                  "type": "float"
                },
                {
                  "name": "Accuracy",
                  "rawType": "float64",
                  "type": "float"
                },
                {
                  "name": "Precision",
                  "rawType": "float64",
                  "type": "float"
                },
                {
                  "name": "Recall",
                  "rawType": "float64",
                  "type": "float"
                },
                {
                  "name": "F1-Score",
                  "rawType": "float64",
                  "type": "float"
                },
                {
                  "name": "ROC-AUC",
                  "rawType": "float64",
                  "type": "float"
                },
                {
                  "name": "PR-AUC",
                  "rawType": "float64",
                  "type": "float"
                },
                {
                  "name": "MCC",
                  "rawType": "float64",
                  "type": "float"
                },
                {
                  "name": "Balanced Accuracy",
                  "rawType": "float64",
                  "type": "float"
                }
              ],
              "ref": "e31af18c-b56b-434d-b939-f12088db5922",
              "rows": [
                [
                  "0",
                  "-0.7910074553829461",
                  "0.7961165048543689",
                  "0.6764705882352942",
                  "0.696969696969697",
                  "0.6865671641791045",
                  "0.787012987012987",
                  "0.7471140142067574",
                  "0.5356689331993357",
                  "0.7699134199134199"
                ],
                [
                  "1",
                  "0.8366964171969096",
                  "0.71875",
                  "0.7368421052631579",
                  "0.7777777777777778",
                  "0.7567567567567568",
                  "0.8293650793650793",
                  "0.8805321508365884",
                  "0.4248710287154289",
                  "0.7103174603174603"
                ],
                [
                  "2",
                  "1.3430273068253449",
                  "0.8",
                  "0.7142857142857143",
                  "0.9090909090909091",
                  "0.8",
                  "0.9415584415584415",
                  "0.9327708907254362",
                  "0.6233766233766234",
                  "0.8116883116883117"
                ],
                [
                  "3",
                  "1.5582148359874182",
                  "0.8571428571428571",
                  "0.8333333333333334",
                  "1.0",
                  "0.9090909090909091",
                  "0.6",
                  "0.81",
                  "0.6454972243679028",
                  "0.75"
                ],
                [
                  "4",
                  "1.7298557257357403",
                  "1.0",
                  "1.0",
                  "1.0",
                  "1.0",
                  "1.0",
                  "1.0",
                  "1.0",
                  "1.0"
                ]
              ],
              "shape": {
                "columns": 9,
                "rows": 5
              }
            },
            "text/html": [
              "<div>\n",
              "<style scoped>\n",
              "    .dataframe tbody tr th:only-of-type {\n",
              "        vertical-align: middle;\n",
              "    }\n",
              "\n",
              "    .dataframe tbody tr th {\n",
              "        vertical-align: top;\n",
              "    }\n",
              "\n",
              "    .dataframe thead th {\n",
              "        text-align: right;\n",
              "    }\n",
              "</style>\n",
              "<table border=\"1\" class=\"dataframe\">\n",
              "  <thead>\n",
              "    <tr style=\"text-align: right;\">\n",
              "      <th></th>\n",
              "      <th>Grupo</th>\n",
              "      <th>Accuracy</th>\n",
              "      <th>Precision</th>\n",
              "      <th>Recall</th>\n",
              "      <th>F1-Score</th>\n",
              "      <th>ROC-AUC</th>\n",
              "      <th>PR-AUC</th>\n",
              "      <th>MCC</th>\n",
              "      <th>Balanced Accuracy</th>\n",
              "    </tr>\n",
              "  </thead>\n",
              "  <tbody>\n",
              "    <tr>\n",
              "      <th>0</th>\n",
              "      <td>-0.791007</td>\n",
              "      <td>0.796117</td>\n",
              "      <td>0.676471</td>\n",
              "      <td>0.696970</td>\n",
              "      <td>0.686567</td>\n",
              "      <td>0.787013</td>\n",
              "      <td>0.747114</td>\n",
              "      <td>0.535669</td>\n",
              "      <td>0.769913</td>\n",
              "    </tr>\n",
              "    <tr>\n",
              "      <th>1</th>\n",
              "      <td>0.836696</td>\n",
              "      <td>0.718750</td>\n",
              "      <td>0.736842</td>\n",
              "      <td>0.777778</td>\n",
              "      <td>0.756757</td>\n",
              "      <td>0.829365</td>\n",
              "      <td>0.880532</td>\n",
              "      <td>0.424871</td>\n",
              "      <td>0.710317</td>\n",
              "    </tr>\n",
              "    <tr>\n",
              "      <th>2</th>\n",
              "      <td>1.343027</td>\n",
              "      <td>0.800000</td>\n",
              "      <td>0.714286</td>\n",
              "      <td>0.909091</td>\n",
              "      <td>0.800000</td>\n",
              "      <td>0.941558</td>\n",
              "      <td>0.932771</td>\n",
              "      <td>0.623377</td>\n",
              "      <td>0.811688</td>\n",
              "    </tr>\n",
              "    <tr>\n",
              "      <th>3</th>\n",
              "      <td>1.558215</td>\n",
              "      <td>0.857143</td>\n",
              "      <td>0.833333</td>\n",
              "      <td>1.000000</td>\n",
              "      <td>0.909091</td>\n",
              "      <td>0.600000</td>\n",
              "      <td>0.810000</td>\n",
              "      <td>0.645497</td>\n",
              "      <td>0.750000</td>\n",
              "    </tr>\n",
              "    <tr>\n",
              "      <th>4</th>\n",
              "      <td>1.729856</td>\n",
              "      <td>1.000000</td>\n",
              "      <td>1.000000</td>\n",
              "      <td>1.000000</td>\n",
              "      <td>1.000000</td>\n",
              "      <td>1.000000</td>\n",
              "      <td>1.000000</td>\n",
              "      <td>1.000000</td>\n",
              "      <td>1.000000</td>\n",
              "    </tr>\n",
              "  </tbody>\n",
              "</table>\n",
              "</div>"
            ],
            "text/plain": [
              "      Grupo  Accuracy  Precision    Recall  F1-Score   ROC-AUC    PR-AUC  \\\n",
              "0 -0.791007  0.796117   0.676471  0.696970  0.686567  0.787013  0.747114   \n",
              "1  0.836696  0.718750   0.736842  0.777778  0.756757  0.829365  0.880532   \n",
              "2  1.343027  0.800000   0.714286  0.909091  0.800000  0.941558  0.932771   \n",
              "3  1.558215  0.857143   0.833333  1.000000  0.909091  0.600000  0.810000   \n",
              "4  1.729856  1.000000   1.000000  1.000000  1.000000  1.000000  1.000000   \n",
              "\n",
              "        MCC  Balanced Accuracy  \n",
              "0  0.535669           0.769913  \n",
              "1  0.424871           0.710317  \n",
              "2  0.623377           0.811688  \n",
              "3  0.645497           0.750000  \n",
              "4  1.000000           1.000000  "
            ]
          },
          "execution_count": 42,
          "metadata": {},
          "output_type": "execute_result"
        }
      ],
      "source": [
        "print(\"Métricas por Tamaño de Familia\")\n",
        "metrics_by_group(y_test_tree, y_pred, y_proba, X_test_tree['FamilySize'])"
      ]
    },
    {
      "cell_type": "markdown",
      "id": "23ded49d",
      "metadata": {},
      "source": [
        "### Análisis de calibración"
      ]
    },
    {
      "cell_type": "markdown",
      "id": "171b43fa",
      "metadata": {},
      "source": [
        "### Calibration plots (reliability diagrams)"
      ]
    },
    {
      "cell_type": "code",
      "execution_count": 43,
      "id": "0f5fed7d",
      "metadata": {},
      "outputs": [
        {
          "data": {
            "image/png": "[encoded data removed]",
            "text/plain": [
              "<Figure size 640x480 with 1 Axes>"
            ]
          },
          "metadata": {},
          "output_type": "display_data"
        }
      ],
      "source": [
        "prob_true, prob_pred = calibration_curve(y_test_tree, y_proba, n_bins=10)\n",
        "plt.plot(prob_pred, prob_true, marker='o')\n",
        "plt.plot([0,1],[0,1], linestyle='--')\n",
        "plt.show()"
      ]
    },
    {
      "cell_type": "markdown",
      "id": "4d736116",
      "metadata": {},
      "source": [
        "### Brier Score"
      ]
    },
    {
      "cell_type": "code",
      "execution_count": 44,
      "id": "37f7b088",
      "metadata": {},
      "outputs": [
        {
          "data": {
            "text/plain": [
              "0.1458116957564997"
            ]
          },
          "execution_count": 44,
          "metadata": {},
          "output_type": "execute_result"
        }
      ],
      "source": [
        "brier_score_loss(y_test_tree, y_proba)"
      ]
    },
    {
      "cell_type": "markdown",
      "id": "73503738",
      "metadata": {},
      "source": [
        "### Expected Calibration Error (ECE)"
      ]
    },
    {
      "cell_type": "code",
      "execution_count": 45,
      "id": "498c72a6",
      "metadata": {},
      "outputs": [
        {
          "name": "stdout",
          "output_type": "stream",
          "text": [
            "0.14730354682878913\n"
          ]
        }
      ],
      "source": [
        "print(np.abs(prob_true - prob_pred).mean())"
      ]
    },
    {
      "cell_type": "markdown",
      "id": "11d3c81c",
      "metadata": {
        "id": "11d3c81c"
      },
      "source": [
        "## SVM"
      ]
    },
    {
      "cell_type": "code",
      "execution_count": 46,
      "id": "0472dbdb",
      "metadata": {
        "id": "0472dbdb"
      },
      "outputs": [],
      "source": [
        "svm_exp = ModelExperiment(\n",
        "    model_name=\"SVM\",\n",
        "    model=SVC(probability=True, random_state=42),\n",
        "    param_grid={\n",
        "        'C': [0.1, 1, 10, 100],\n",
        "        'kernel': ['rbf','sigmoid','poly'],\n",
        "        'gamma': ['scale', 'auto', 0.001, 0.01, 0.1],\n",
        "        'degree': [2,3,4]\n",
        "    }\n",
        ")"
      ]
    },
    {
      "cell_type": "code",
      "execution_count": null,
      "id": "818bc8b6",
      "metadata": {
        "id": "818bc8b6"
      },
      "outputs": [],
      "source": [
        "svm_exp.run_experiment(X_train_svm, y_train_svm, X_test_svm, y_test_svm)"
      ]
    },
    {
      "cell_type": "markdown",
      "id": "9a2769a0",
      "metadata": {
        "id": "9a2769a0"
      },
      "source": [
        "### Mejores parámetros"
      ]
    },
    {
      "cell_type": "code",
      "execution_count": 48,
      "id": "6ad80cb2",
      "metadata": {
        "id": "6ad80cb2"
      },
      "outputs": [
        {
          "name": "stdout",
          "output_type": "stream",
          "text": [
            "SVC(C=10, degree=2, probability=True, random_state=42)\n"
          ]
        }
      ],
      "source": [
        "svmmodel = joblib.load('../models/SVM_final.pkl')\n",
        "print(svmmodel)"
      ]
    },
    {
      "cell_type": "markdown",
      "id": "44933210",
      "metadata": {},
      "source": [
        "### Evaluación"
      ]
    },
    {
      "cell_type": "markdown",
      "id": "a58b65a1",
      "metadata": {},
      "source": [
        "### Métricas básicas"
      ]
    },
    {
      "cell_type": "code",
      "execution_count": 49,
      "id": "02166a82",
      "metadata": {},
      "outputs": [
        {
          "data": {
            "application/vnd.microsoft.datawrangler.viewer.v0+json": {
              "columns": [
                {
                  "name": "index",
                  "rawType": "object",
                  "type": "string"
                },
                {
                  "name": "0",
                  "rawType": "float64",
                  "type": "float"
                }
              ],
              "ref": "edd27e19-dea6-4d54-9e51-73a4faa06bc6",
              "rows": [
                [
                  "Accuracy",
                  "0.6145251396648045"
                ],
                [
                  "Precision",
                  "0.0"
                ],
                [
                  "Recall",
                  "0.0"
                ],
                [
                  "F1-Score",
                  "0.0"
                ],
                [
                  "ROC-AUC",
                  "0.746179183135705"
                ],
                [
                  "PR-AUC",
                  "0.6577577429518551"
                ],
                [
                  "MCC",
                  "0.0"
                ],
                [
                  "Balanced Accuracy",
                  "0.5"
                ]
              ],
              "shape": {
                "columns": 1,
                "rows": 8
              }
            },
            "text/html": [
              "<div>\n",
              "<style scoped>\n",
              "    .dataframe tbody tr th:only-of-type {\n",
              "        vertical-align: middle;\n",
              "    }\n",
              "\n",
              "    .dataframe tbody tr th {\n",
              "        vertical-align: top;\n",
              "    }\n",
              "\n",
              "    .dataframe thead th {\n",
              "        text-align: right;\n",
              "    }\n",
              "</style>\n",
              "<table border=\"1\" class=\"dataframe\">\n",
              "  <thead>\n",
              "    <tr style=\"text-align: right;\">\n",
              "      <th></th>\n",
              "      <th>0</th>\n",
              "    </tr>\n",
              "  </thead>\n",
              "  <tbody>\n",
              "    <tr>\n",
              "      <th>Accuracy</th>\n",
              "      <td>0.614525</td>\n",
              "    </tr>\n",
              "    <tr>\n",
              "      <th>Precision</th>\n",
              "      <td>0.000000</td>\n",
              "    </tr>\n",
              "    <tr>\n",
              "      <th>Recall</th>\n",
              "      <td>0.000000</td>\n",
              "    </tr>\n",
              "    <tr>\n",
              "      <th>F1-Score</th>\n",
              "      <td>0.000000</td>\n",
              "    </tr>\n",
              "    <tr>\n",
              "      <th>ROC-AUC</th>\n",
              "      <td>0.746179</td>\n",
              "    </tr>\n",
              "    <tr>\n",
              "      <th>PR-AUC</th>\n",
              "      <td>0.657758</td>\n",
              "    </tr>\n",
              "    <tr>\n",
              "      <th>MCC</th>\n",
              "      <td>0.000000</td>\n",
              "    </tr>\n",
              "    <tr>\n",
              "      <th>Balanced Accuracy</th>\n",
              "      <td>0.500000</td>\n",
              "    </tr>\n",
              "  </tbody>\n",
              "</table>\n",
              "</div>"
            ],
            "text/plain": [
              "                          0\n",
              "Accuracy           0.614525\n",
              "Precision          0.000000\n",
              "Recall             0.000000\n",
              "F1-Score           0.000000\n",
              "ROC-AUC            0.746179\n",
              "PR-AUC             0.657758\n",
              "MCC                0.000000\n",
              "Balanced Accuracy  0.500000"
            ]
          },
          "execution_count": 49,
          "metadata": {},
          "output_type": "execute_result"
        }
      ],
      "source": [
        "svm_best = joblib.load('../models/SVM_final.pkl')\n",
        "\n",
        "metrics_svm, y_pred, y_proba, t_tr_svm, t_inf_svm = evaluate_model(svm_best, X_train_svm, y_train_svm, X_test_svm, y_test_svm)\n",
        "\n",
        "metrics_svm.T"
      ]
    },
    {
      "cell_type": "markdown",
      "id": "06c57481",
      "metadata": {},
      "source": [
        "### Métricas por Clase/Grupo"
      ]
    },
    {
      "cell_type": "markdown",
      "id": "aaccec7d",
      "metadata": {},
      "source": [
        "### Confusion Matrix"
      ]
    },
    {
      "cell_type": "code",
      "execution_count": 50,
      "id": "57e75142",
      "metadata": {},
      "outputs": [
        {
          "data": {
            "image/png": "[encoded data removed]",
            "text/plain": [
              "<Figure size 500x400 with 1 Axes>"
            ]
          },
          "metadata": {},
          "output_type": "display_data"
        }
      ],
      "source": [
        "cm = confusion_matrix(y_test_svm, y_pred)\n",
        "plt.figure(figsize=(5,4))\n",
        "sns.heatmap(cm, annot=True, fmt='d', cmap='Blues', cbar=False)\n",
        "plt.xlabel('Predicted')\n",
        "plt.ylabel('Actual')\n",
        "plt.title('Confusion Matrix (Survived)')\n",
        "plt.show()"
      ]
    },
    {
      "cell_type": "markdown",
      "id": "3ef28068",
      "metadata": {},
      "source": [
        "### Métricas desagregadas por: "
      ]
    },
    {
      "cell_type": "markdown",
      "id": "b8263ef8",
      "metadata": {},
      "source": [
        "Género"
      ]
    },
    {
      "cell_type": "code",
      "execution_count": 51,
      "id": "a0986b76",
      "metadata": {},
      "outputs": [
        {
          "name": "stdout",
          "output_type": "stream",
          "text": [
            "Métricas por Género\n",
            "(Hombre=0, Mujer=1)\n"
          ]
        },
        {
          "data": {
            "application/vnd.microsoft.datawrangler.viewer.v0+json": {
              "columns": [
                {
                  "name": "index",
                  "rawType": "int64",
                  "type": "integer"
                },
                {
                  "name": "Grupo",
                  "rawType": "int64",
                  "type": "integer"
                },
                {
                  "name": "Accuracy",
                  "rawType": "float64",
                  "type": "float"
                },
                {
                  "name": "Precision",
                  "rawType": "float64",
                  "type": "float"
                },
                {
                  "name": "Recall",
                  "rawType": "float64",
                  "type": "float"
                },
                {
                  "name": "F1-Score",
                  "rawType": "float64",
                  "type": "float"
                },
                {
                  "name": "ROC-AUC",
                  "rawType": "float64",
                  "type": "float"
                },
                {
                  "name": "PR-AUC",
                  "rawType": "float64",
                  "type": "float"
                },
                {
                  "name": "MCC",
                  "rawType": "float64",
                  "type": "float"
                },
                {
                  "name": "Balanced Accuracy",
                  "rawType": "float64",
                  "type": "float"
                }
              ],
              "ref": "0b1cda7b-f012-4d3e-ac10-311536890bcb",
              "rows": [
                [
                  "0",
                  "0",
                  "0.7966101694915254",
                  "0.0",
                  "0.0",
                  "0.0",
                  "0.6906028368794326",
                  "0.44727169716640164",
                  "0.0",
                  "0.5"
                ],
                [
                  "1",
                  "1",
                  "0.26229508196721313",
                  "0.0",
                  "0.0",
                  "0.0",
                  "0.6694444444444444",
                  "0.8477105740616344",
                  "0.0",
                  "0.5"
                ]
              ],
              "shape": {
                "columns": 9,
                "rows": 2
              }
            },
            "text/html": [
              "<div>\n",
              "<style scoped>\n",
              "    .dataframe tbody tr th:only-of-type {\n",
              "        vertical-align: middle;\n",
              "    }\n",
              "\n",
              "    .dataframe tbody tr th {\n",
              "        vertical-align: top;\n",
              "    }\n",
              "\n",
              "    .dataframe thead th {\n",
              "        text-align: right;\n",
              "    }\n",
              "</style>\n",
              "<table border=\"1\" class=\"dataframe\">\n",
              "  <thead>\n",
              "    <tr style=\"text-align: right;\">\n",
              "      <th></th>\n",
              "      <th>Grupo</th>\n",
              "      <th>Accuracy</th>\n",
              "      <th>Precision</th>\n",
              "      <th>Recall</th>\n",
              "      <th>F1-Score</th>\n",
              "      <th>ROC-AUC</th>\n",
              "      <th>PR-AUC</th>\n",
              "      <th>MCC</th>\n",
              "      <th>Balanced Accuracy</th>\n",
              "    </tr>\n",
              "  </thead>\n",
              "  <tbody>\n",
              "    <tr>\n",
              "      <th>0</th>\n",
              "      <td>0</td>\n",
              "      <td>0.796610</td>\n",
              "      <td>0.0</td>\n",
              "      <td>0.0</td>\n",
              "      <td>0.0</td>\n",
              "      <td>0.690603</td>\n",
              "      <td>0.447272</td>\n",
              "      <td>0.0</td>\n",
              "      <td>0.5</td>\n",
              "    </tr>\n",
              "    <tr>\n",
              "      <th>1</th>\n",
              "      <td>1</td>\n",
              "      <td>0.262295</td>\n",
              "      <td>0.0</td>\n",
              "      <td>0.0</td>\n",
              "      <td>0.0</td>\n",
              "      <td>0.669444</td>\n",
              "      <td>0.847711</td>\n",
              "      <td>0.0</td>\n",
              "      <td>0.5</td>\n",
              "    </tr>\n",
              "  </tbody>\n",
              "</table>\n",
              "</div>"
            ],
            "text/plain": [
              "   Grupo  Accuracy  Precision  Recall  F1-Score   ROC-AUC    PR-AUC  MCC  \\\n",
              "0      0  0.796610        0.0     0.0       0.0  0.690603  0.447272  0.0   \n",
              "1      1  0.262295        0.0     0.0       0.0  0.669444  0.847711  0.0   \n",
              "\n",
              "   Balanced Accuracy  \n",
              "0                0.5  \n",
              "1                0.5  "
            ]
          },
          "execution_count": 51,
          "metadata": {},
          "output_type": "execute_result"
        }
      ],
      "source": [
        "print(\"Métricas por Género\\n(Hombre=0, Mujer=1)\")\n",
        "metrics_by_group(y_test_svm, y_pred, y_proba, X_test_svm['Sex_female'])"
      ]
    },
    {
      "cell_type": "markdown",
      "id": "0bcecf3b",
      "metadata": {},
      "source": [
        "Clase socioeconómica"
      ]
    },
    {
      "cell_type": "code",
      "execution_count": 52,
      "id": "2699ef3d",
      "metadata": {},
      "outputs": [
        {
          "name": "stdout",
          "output_type": "stream",
          "text": [
            "Métricas por Clase Socioeconómica\n"
          ]
        },
        {
          "data": {
            "application/vnd.microsoft.datawrangler.viewer.v0+json": {
              "columns": [
                {
                  "name": "index",
                  "rawType": "int64",
                  "type": "integer"
                },
                {
                  "name": "Grupo",
                  "rawType": "int64",
                  "type": "integer"
                },
                {
                  "name": "Accuracy",
                  "rawType": "float64",
                  "type": "float"
                },
                {
                  "name": "Precision",
                  "rawType": "float64",
                  "type": "float"
                },
                {
                  "name": "Recall",
                  "rawType": "float64",
                  "type": "float"
                },
                {
                  "name": "F1-Score",
                  "rawType": "float64",
                  "type": "float"
                },
                {
                  "name": "ROC-AUC",
                  "rawType": "float64",
                  "type": "float"
                },
                {
                  "name": "PR-AUC",
                  "rawType": "float64",
                  "type": "float"
                },
                {
                  "name": "MCC",
                  "rawType": "float64",
                  "type": "float"
                },
                {
                  "name": "Balanced Accuracy",
                  "rawType": "float64",
                  "type": "float"
                }
              ],
              "ref": "8f0b5540-4674-4e65-82fb-adeabad9773d",
              "rows": [
                [
                  "0",
                  "1",
                  "0.4444444444444444",
                  "0.0",
                  "0.0",
                  "0.0",
                  "0.732",
                  "0.7994145724766029",
                  "0.0",
                  "0.5"
                ],
                [
                  "1",
                  "2",
                  "0.4117647058823529",
                  "0.0",
                  "0.0",
                  "0.0",
                  "0.7357142857142858",
                  "0.8224821587483202",
                  "0.0",
                  "0.5"
                ],
                [
                  "2",
                  "3",
                  "0.76",
                  "0.0",
                  "0.0",
                  "0.0",
                  "0.7020285087719299",
                  "0.3732895079543637",
                  "0.0",
                  "0.5"
                ]
              ],
              "shape": {
                "columns": 9,
                "rows": 3
              }
            },
            "text/html": [
              "<div>\n",
              "<style scoped>\n",
              "    .dataframe tbody tr th:only-of-type {\n",
              "        vertical-align: middle;\n",
              "    }\n",
              "\n",
              "    .dataframe tbody tr th {\n",
              "        vertical-align: top;\n",
              "    }\n",
              "\n",
              "    .dataframe thead th {\n",
              "        text-align: right;\n",
              "    }\n",
              "</style>\n",
              "<table border=\"1\" class=\"dataframe\">\n",
              "  <thead>\n",
              "    <tr style=\"text-align: right;\">\n",
              "      <th></th>\n",
              "      <th>Grupo</th>\n",
              "      <th>Accuracy</th>\n",
              "      <th>Precision</th>\n",
              "      <th>Recall</th>\n",
              "      <th>F1-Score</th>\n",
              "      <th>ROC-AUC</th>\n",
              "      <th>PR-AUC</th>\n",
              "      <th>MCC</th>\n",
              "      <th>Balanced Accuracy</th>\n",
              "    </tr>\n",
              "  </thead>\n",
              "  <tbody>\n",
              "    <tr>\n",
              "      <th>0</th>\n",
              "      <td>1</td>\n",
              "      <td>0.444444</td>\n",
              "      <td>0.0</td>\n",
              "      <td>0.0</td>\n",
              "      <td>0.0</td>\n",
              "      <td>0.732000</td>\n",
              "      <td>0.799415</td>\n",
              "      <td>0.0</td>\n",
              "      <td>0.5</td>\n",
              "    </tr>\n",
              "    <tr>\n",
              "      <th>1</th>\n",
              "      <td>2</td>\n",
              "      <td>0.411765</td>\n",
              "      <td>0.0</td>\n",
              "      <td>0.0</td>\n",
              "      <td>0.0</td>\n",
              "      <td>0.735714</td>\n",
              "      <td>0.822482</td>\n",
              "      <td>0.0</td>\n",
              "      <td>0.5</td>\n",
              "    </tr>\n",
              "    <tr>\n",
              "      <th>2</th>\n",
              "      <td>3</td>\n",
              "      <td>0.760000</td>\n",
              "      <td>0.0</td>\n",
              "      <td>0.0</td>\n",
              "      <td>0.0</td>\n",
              "      <td>0.702029</td>\n",
              "      <td>0.373290</td>\n",
              "      <td>0.0</td>\n",
              "      <td>0.5</td>\n",
              "    </tr>\n",
              "  </tbody>\n",
              "</table>\n",
              "</div>"
            ],
            "text/plain": [
              "   Grupo  Accuracy  Precision  Recall  F1-Score   ROC-AUC    PR-AUC  MCC  \\\n",
              "0      1  0.444444        0.0     0.0       0.0  0.732000  0.799415  0.0   \n",
              "1      2  0.411765        0.0     0.0       0.0  0.735714  0.822482  0.0   \n",
              "2      3  0.760000        0.0     0.0       0.0  0.702029  0.373290  0.0   \n",
              "\n",
              "   Balanced Accuracy  \n",
              "0                0.5  \n",
              "1                0.5  \n",
              "2                0.5  "
            ]
          },
          "execution_count": 52,
          "metadata": {},
          "output_type": "execute_result"
        }
      ],
      "source": [
        "print(\"Métricas por Clase Socioeconómica\")\n",
        "metrics_by_group(y_test_svm, y_pred, y_proba, X_test['Pclass'])"
      ]
    },
    {
      "cell_type": "markdown",
      "id": "275efc1f",
      "metadata": {},
      "source": [
        "Grupo de Edad"
      ]
    },
    {
      "cell_type": "code",
      "execution_count": 53,
      "id": "99da441b",
      "metadata": {},
      "outputs": [
        {
          "name": "stdout",
          "output_type": "stream",
          "text": [
            "Métricas por Grupo de Edad\n"
          ]
        },
        {
          "data": {
            "application/vnd.microsoft.datawrangler.viewer.v0+json": {
              "columns": [
                {
                  "name": "index",
                  "rawType": "int64",
                  "type": "integer"
                },
                {
                  "name": "Grupo",
                  "rawType": "int64",
                  "type": "integer"
                },
                {
                  "name": "Accuracy",
                  "rawType": "float64",
                  "type": "float"
                },
                {
                  "name": "Precision",
                  "rawType": "float64",
                  "type": "float"
                },
                {
                  "name": "Recall",
                  "rawType": "float64",
                  "type": "float"
                },
                {
                  "name": "F1-Score",
                  "rawType": "float64",
                  "type": "float"
                },
                {
                  "name": "ROC-AUC",
                  "rawType": "float64",
                  "type": "float"
                },
                {
                  "name": "PR-AUC",
                  "rawType": "float64",
                  "type": "float"
                },
                {
                  "name": "MCC",
                  "rawType": "float64",
                  "type": "float"
                },
                {
                  "name": "Balanced Accuracy",
                  "rawType": "float64",
                  "type": "float"
                }
              ],
              "ref": "aa82818d-a029-4440-8f56-24c9b7eac649",
              "rows": [
                [
                  "0",
                  "1",
                  "0.42857142857142855",
                  "0.0",
                  "0.0",
                  "0.0",
                  "0.5",
                  "0.6059794372294373",
                  "0.0",
                  "0.5"
                ],
                [
                  "1",
                  "2",
                  "0.5416666666666666",
                  "0.0",
                  "0.0",
                  "0.0",
                  "0.6713286713286714",
                  "0.6815812928042031",
                  "0.0",
                  "0.5"
                ],
                [
                  "2",
                  "3",
                  "0.6285714285714286",
                  "0.0",
                  "0.0",
                  "0.0",
                  "0.8006993006993006",
                  "0.7179977466514108",
                  "0.0",
                  "0.5"
                ],
                [
                  "3",
                  "4",
                  "0.6774193548387096",
                  "0.0",
                  "0.0",
                  "0.0",
                  "0.8238095238095239",
                  "0.7481240981240981",
                  "0.0",
                  "0.5"
                ],
                [
                  "4",
                  "5",
                  "0.8",
                  "0.0",
                  "0.0",
                  "0.0",
                  "1.0",
                  "1.0",
                  "0.0",
                  "0.5"
                ]
              ],
              "shape": {
                "columns": 9,
                "rows": 5
              }
            },
            "text/html": [
              "<div>\n",
              "<style scoped>\n",
              "    .dataframe tbody tr th:only-of-type {\n",
              "        vertical-align: middle;\n",
              "    }\n",
              "\n",
              "    .dataframe tbody tr th {\n",
              "        vertical-align: top;\n",
              "    }\n",
              "\n",
              "    .dataframe thead th {\n",
              "        text-align: right;\n",
              "    }\n",
              "</style>\n",
              "<table border=\"1\" class=\"dataframe\">\n",
              "  <thead>\n",
              "    <tr style=\"text-align: right;\">\n",
              "      <th></th>\n",
              "      <th>Grupo</th>\n",
              "      <th>Accuracy</th>\n",
              "      <th>Precision</th>\n",
              "      <th>Recall</th>\n",
              "      <th>F1-Score</th>\n",
              "      <th>ROC-AUC</th>\n",
              "      <th>PR-AUC</th>\n",
              "      <th>MCC</th>\n",
              "      <th>Balanced Accuracy</th>\n",
              "    </tr>\n",
              "  </thead>\n",
              "  <tbody>\n",
              "    <tr>\n",
              "      <th>0</th>\n",
              "      <td>1</td>\n",
              "      <td>0.428571</td>\n",
              "      <td>0.0</td>\n",
              "      <td>0.0</td>\n",
              "      <td>0.0</td>\n",
              "      <td>0.500000</td>\n",
              "      <td>0.605979</td>\n",
              "      <td>0.0</td>\n",
              "      <td>0.5</td>\n",
              "    </tr>\n",
              "    <tr>\n",
              "      <th>1</th>\n",
              "      <td>2</td>\n",
              "      <td>0.541667</td>\n",
              "      <td>0.0</td>\n",
              "      <td>0.0</td>\n",
              "      <td>0.0</td>\n",
              "      <td>0.671329</td>\n",
              "      <td>0.681581</td>\n",
              "      <td>0.0</td>\n",
              "      <td>0.5</td>\n",
              "    </tr>\n",
              "    <tr>\n",
              "      <th>2</th>\n",
              "      <td>3</td>\n",
              "      <td>0.628571</td>\n",
              "      <td>0.0</td>\n",
              "      <td>0.0</td>\n",
              "      <td>0.0</td>\n",
              "      <td>0.800699</td>\n",
              "      <td>0.717998</td>\n",
              "      <td>0.0</td>\n",
              "      <td>0.5</td>\n",
              "    </tr>\n",
              "    <tr>\n",
              "      <th>3</th>\n",
              "      <td>4</td>\n",
              "      <td>0.677419</td>\n",
              "      <td>0.0</td>\n",
              "      <td>0.0</td>\n",
              "      <td>0.0</td>\n",
              "      <td>0.823810</td>\n",
              "      <td>0.748124</td>\n",
              "      <td>0.0</td>\n",
              "      <td>0.5</td>\n",
              "    </tr>\n",
              "    <tr>\n",
              "      <th>4</th>\n",
              "      <td>5</td>\n",
              "      <td>0.800000</td>\n",
              "      <td>0.0</td>\n",
              "      <td>0.0</td>\n",
              "      <td>0.0</td>\n",
              "      <td>1.000000</td>\n",
              "      <td>1.000000</td>\n",
              "      <td>0.0</td>\n",
              "      <td>0.5</td>\n",
              "    </tr>\n",
              "  </tbody>\n",
              "</table>\n",
              "</div>"
            ],
            "text/plain": [
              "   Grupo  Accuracy  Precision  Recall  F1-Score   ROC-AUC    PR-AUC  MCC  \\\n",
              "0      1  0.428571        0.0     0.0       0.0  0.500000  0.605979  0.0   \n",
              "1      2  0.541667        0.0     0.0       0.0  0.671329  0.681581  0.0   \n",
              "2      3  0.628571        0.0     0.0       0.0  0.800699  0.717998  0.0   \n",
              "3      4  0.677419        0.0     0.0       0.0  0.823810  0.748124  0.0   \n",
              "4      5  0.800000        0.0     0.0       0.0  1.000000  1.000000  0.0   \n",
              "\n",
              "   Balanced Accuracy  \n",
              "0                0.5  \n",
              "1                0.5  \n",
              "2                0.5  \n",
              "3                0.5  \n",
              "4                0.5  "
            ]
          },
          "execution_count": 53,
          "metadata": {},
          "output_type": "execute_result"
        }
      ],
      "source": [
        "print(\"Métricas por Grupo de Edad\")\n",
        "metrics_by_group(y_test_svm, y_pred, y_proba, X_test['AgeGroup_ordinal'])"
      ]
    },
    {
      "cell_type": "markdown",
      "id": "14eb49bb",
      "metadata": {},
      "source": [
        "Tamaño de familia"
      ]
    },
    {
      "cell_type": "code",
      "execution_count": 54,
      "id": "c55886dd",
      "metadata": {},
      "outputs": [
        {
          "name": "stdout",
          "output_type": "stream",
          "text": [
            "Métricas por Tamaño de Familia\n",
            "\n"
          ]
        },
        {
          "data": {
            "application/vnd.microsoft.datawrangler.viewer.v0+json": {
              "columns": [
                {
                  "name": "index",
                  "rawType": "int64",
                  "type": "integer"
                },
                {
                  "name": "Grupo",
                  "rawType": "float64",
                  "type": "float"
                },
                {
                  "name": "Accuracy",
                  "rawType": "float64",
                  "type": "float"
                },
                {
                  "name": "Precision",
                  "rawType": "float64",
                  "type": "float"
                },
                {
                  "name": "Recall",
                  "rawType": "float64",
                  "type": "float"
                },
                {
                  "name": "F1-Score",
                  "rawType": "float64",
                  "type": "float"
                },
                {
                  "name": "ROC-AUC",
                  "rawType": "float64",
                  "type": "float"
                },
                {
                  "name": "PR-AUC",
                  "rawType": "float64",
                  "type": "float"
                },
                {
                  "name": "MCC",
                  "rawType": "float64",
                  "type": "float"
                },
                {
                  "name": "Balanced Accuracy",
                  "rawType": "float64",
                  "type": "float"
                }
              ],
              "ref": "feaa52dc-a9e8-4ddc-aa2e-592dfb7bbd35",
              "rows": [
                [
                  "0",
                  "-0.7910074553829461",
                  "0.6796116504854369",
                  "0.0",
                  "0.0",
                  "0.0",
                  "0.7549783549783549",
                  "0.6170290585511485",
                  "0.0",
                  "0.5"
                ],
                [
                  "1",
                  "0.8366964171969096",
                  "0.4375",
                  "0.0",
                  "0.0",
                  "0.0",
                  "0.8194444444444444",
                  "0.8649135156591299",
                  "0.0",
                  "0.5"
                ],
                [
                  "2",
                  "1.3430273068253449",
                  "0.56",
                  "0.0",
                  "0.0",
                  "0.0",
                  "0.6038961038961039",
                  "0.5084726278506183",
                  "0.0",
                  "0.5"
                ],
                [
                  "3",
                  "1.5582148359874182",
                  "0.2857142857142857",
                  "0.0",
                  "0.0",
                  "0.0",
                  "0.4",
                  "0.7595238095238095",
                  "0.0",
                  "0.5"
                ],
                [
                  "4",
                  "1.7298557257357403",
                  "0.6666666666666666",
                  "0.0",
                  "0.0",
                  "0.0",
                  "0.75",
                  "0.75",
                  "0.0",
                  "0.5"
                ]
              ],
              "shape": {
                "columns": 9,
                "rows": 5
              }
            },
            "text/html": [
              "<div>\n",
              "<style scoped>\n",
              "    .dataframe tbody tr th:only-of-type {\n",
              "        vertical-align: middle;\n",
              "    }\n",
              "\n",
              "    .dataframe tbody tr th {\n",
              "        vertical-align: top;\n",
              "    }\n",
              "\n",
              "    .dataframe thead th {\n",
              "        text-align: right;\n",
              "    }\n",
              "</style>\n",
              "<table border=\"1\" class=\"dataframe\">\n",
              "  <thead>\n",
              "    <tr style=\"text-align: right;\">\n",
              "      <th></th>\n",
              "      <th>Grupo</th>\n",
              "      <th>Accuracy</th>\n",
              "      <th>Precision</th>\n",
              "      <th>Recall</th>\n",
              "      <th>F1-Score</th>\n",
              "      <th>ROC-AUC</th>\n",
              "      <th>PR-AUC</th>\n",
              "      <th>MCC</th>\n",
              "      <th>Balanced Accuracy</th>\n",
              "    </tr>\n",
              "  </thead>\n",
              "  <tbody>\n",
              "    <tr>\n",
              "      <th>0</th>\n",
              "      <td>-0.791007</td>\n",
              "      <td>0.679612</td>\n",
              "      <td>0.0</td>\n",
              "      <td>0.0</td>\n",
              "      <td>0.0</td>\n",
              "      <td>0.754978</td>\n",
              "      <td>0.617029</td>\n",
              "      <td>0.0</td>\n",
              "      <td>0.5</td>\n",
              "    </tr>\n",
              "    <tr>\n",
              "      <th>1</th>\n",
              "      <td>0.836696</td>\n",
              "      <td>0.437500</td>\n",
              "      <td>0.0</td>\n",
              "      <td>0.0</td>\n",
              "      <td>0.0</td>\n",
              "      <td>0.819444</td>\n",
              "      <td>0.864914</td>\n",
              "      <td>0.0</td>\n",
              "      <td>0.5</td>\n",
              "    </tr>\n",
              "    <tr>\n",
              "      <th>2</th>\n",
              "      <td>1.343027</td>\n",
              "      <td>0.560000</td>\n",
              "      <td>0.0</td>\n",
              "      <td>0.0</td>\n",
              "      <td>0.0</td>\n",
              "      <td>0.603896</td>\n",
              "      <td>0.508473</td>\n",
              "      <td>0.0</td>\n",
              "      <td>0.5</td>\n",
              "    </tr>\n",
              "    <tr>\n",
              "      <th>3</th>\n",
              "      <td>1.558215</td>\n",
              "      <td>0.285714</td>\n",
              "      <td>0.0</td>\n",
              "      <td>0.0</td>\n",
              "      <td>0.0</td>\n",
              "      <td>0.400000</td>\n",
              "      <td>0.759524</td>\n",
              "      <td>0.0</td>\n",
              "      <td>0.5</td>\n",
              "    </tr>\n",
              "    <tr>\n",
              "      <th>4</th>\n",
              "      <td>1.729856</td>\n",
              "      <td>0.666667</td>\n",
              "      <td>0.0</td>\n",
              "      <td>0.0</td>\n",
              "      <td>0.0</td>\n",
              "      <td>0.750000</td>\n",
              "      <td>0.750000</td>\n",
              "      <td>0.0</td>\n",
              "      <td>0.5</td>\n",
              "    </tr>\n",
              "  </tbody>\n",
              "</table>\n",
              "</div>"
            ],
            "text/plain": [
              "      Grupo  Accuracy  Precision  Recall  F1-Score   ROC-AUC    PR-AUC  MCC  \\\n",
              "0 -0.791007  0.679612        0.0     0.0       0.0  0.754978  0.617029  0.0   \n",
              "1  0.836696  0.437500        0.0     0.0       0.0  0.819444  0.864914  0.0   \n",
              "2  1.343027  0.560000        0.0     0.0       0.0  0.603896  0.508473  0.0   \n",
              "3  1.558215  0.285714        0.0     0.0       0.0  0.400000  0.759524  0.0   \n",
              "4  1.729856  0.666667        0.0     0.0       0.0  0.750000  0.750000  0.0   \n",
              "\n",
              "   Balanced Accuracy  \n",
              "0                0.5  \n",
              "1                0.5  \n",
              "2                0.5  \n",
              "3                0.5  \n",
              "4                0.5  "
            ]
          },
          "execution_count": 54,
          "metadata": {},
          "output_type": "execute_result"
        }
      ],
      "source": [
        "print(\"Métricas por Tamaño de Familia\\n\")\n",
        "metrics_by_group(y_test_svm, y_pred, y_proba, X_test_svm['FamilySize'])"
      ]
    },
    {
      "cell_type": "markdown",
      "id": "e100b57d",
      "metadata": {},
      "source": [
        "### Análisis de Calibración"
      ]
    },
    {
      "cell_type": "markdown",
      "id": "de954c6a",
      "metadata": {},
      "source": [
        "### Calibration plots (reliability diagrams)"
      ]
    },
    {
      "cell_type": "code",
      "execution_count": 55,
      "id": "fee5c93d",
      "metadata": {},
      "outputs": [
        {
          "data": {
            "image/png": "[encoded data removed]",
            "text/plain": [
              "<Figure size 640x480 with 1 Axes>"
            ]
          },
          "metadata": {},
          "output_type": "display_data"
        }
      ],
      "source": [
        "prob_true, prob_pred = calibration_curve(y_test_svm, y_proba, n_bins=10)\n",
        "plt.plot(prob_pred, prob_true, marker='o')\n",
        "plt.plot([0,1],[0,1], linestyle='--')\n",
        "plt.show()"
      ]
    },
    {
      "cell_type": "markdown",
      "id": "6714c768",
      "metadata": {},
      "source": [
        "### Brier Score"
      ]
    },
    {
      "cell_type": "code",
      "execution_count": 56,
      "id": "635d2c1b",
      "metadata": {},
      "outputs": [
        {
          "data": {
            "text/plain": [
              "0.20491642059115597"
            ]
          },
          "execution_count": 56,
          "metadata": {},
          "output_type": "execute_result"
        }
      ],
      "source": [
        "brier_score_loss(y_test_svm, y_proba)"
      ]
    },
    {
      "cell_type": "markdown",
      "id": "969d385f",
      "metadata": {},
      "source": [
        "### Expected Calibration Error (ECE)"
      ]
    },
    {
      "cell_type": "code",
      "execution_count": 57,
      "id": "b2851d60",
      "metadata": {},
      "outputs": [
        {
          "name": "stdout",
          "output_type": "stream",
          "text": [
            "0.15000648041846323\n"
          ]
        }
      ],
      "source": [
        "print(np.abs(prob_true - prob_pred).mean())"
      ]
    },
    {
      "cell_type": "markdown",
      "id": "621d65ea",
      "metadata": {},
      "source": [
        "## Comparación de modelos"
      ]
    },
    {
      "cell_type": "markdown",
      "id": "8695e57f",
      "metadata": {},
      "source": [
        "### Tabla comparativa"
      ]
    },
    {
      "cell_type": "code",
      "execution_count": 58,
      "id": "ba0b813e",
      "metadata": {},
      "outputs": [],
      "source": [
        "comp_mods = pd.concat([metrics_log, metrics_rf, metrics_xgb, metrics_svm]).reset_index()\n",
        "comp_mods.drop(columns=['index'], inplace=True)\n",
        "comp_mods.insert(0, 'Modelo', ['Regresión Logística', 'Random Forest', 'XGBoost', 'SVM'])\n",
        "comp_mods.insert(9, 'Tiempo Training', [t_tr_log, t_tr_rf, t_tr_xgb, t_tr_svm])\n",
        "comp_mods.insert(10, 'Tiempo Inference', [t_inf_log, t_inf_rf, t_inf_xgb, t_inf_svm])"
      ]
    },
    {
      "cell_type": "code",
      "execution_count": 59,
      "id": "e296f513",
      "metadata": {},
      "outputs": [
        {
          "data": {
            "application/vnd.microsoft.datawrangler.viewer.v0+json": {
              "columns": [
                {
                  "name": "index",
                  "rawType": "int64",
                  "type": "integer"
                },
                {
                  "name": "Modelo",
                  "rawType": "object",
                  "type": "string"
                },
                {
                  "name": "Accuracy",
                  "rawType": "float64",
                  "type": "float"
                },
                {
                  "name": "Precision",
                  "rawType": "float64",
                  "type": "float"
                },
                {
                  "name": "Recall",
                  "rawType": "float64",
                  "type": "float"
                },
                {
                  "name": "F1-Score",
                  "rawType": "float64",
                  "type": "float"
                },
                {
                  "name": "ROC-AUC",
                  "rawType": "float64",
                  "type": "float"
                },
                {
                  "name": "PR-AUC",
                  "rawType": "float64",
                  "type": "float"
                },
                {
                  "name": "MCC",
                  "rawType": "float64",
                  "type": "float"
                },
                {
                  "name": "Balanced Accuracy",
                  "rawType": "float64",
                  "type": "float"
                },
                {
                  "name": "Tiempo Training",
                  "rawType": "float64",
                  "type": "float"
                },
                {
                  "name": "Tiempo Inference",
                  "rawType": "float64",
                  "type": "float"
                }
              ],
              "ref": "65e40cb7-5694-472b-9242-5bccc58b7a6a",
              "rows": [
                [
                  "0",
                  "Regresión Logística",
                  "0.7988826815642458",
                  "0.7088607594936709",
                  "0.8115942028985508",
                  "0.7567567567567568",
                  "0.8638998682476945",
                  "0.7904200797643491",
                  "0.5905637258170618",
                  "0.8012516469038209",
                  "0.07824301719665527",
                  "0.004628181457519531"
                ],
                [
                  "1",
                  "Random Forest",
                  "0.8100558659217877",
                  "0.7272727272727273",
                  "0.8115942028985508",
                  "0.7671232876712328",
                  "0.8621870882740449",
                  "0.8321374900832066",
                  "0.6101642632408754",
                  "0.8103425559947299",
                  "0.6481919288635254",
                  "0.04577779769897461"
                ],
                [
                  "2",
                  "XGBoost",
                  "0.7988826815642458",
                  "0.72",
                  "0.782608695652174",
                  "0.75",
                  "0.8581027667984191",
                  "0.8231837637415691",
                  "0.5836800718453413",
                  "0.7958498023715415",
                  "0.29357290267944336",
                  "0.014525890350341797"
                ],
                [
                  "3",
                  "SVM",
                  "0.6145251396648045",
                  "0.0",
                  "0.0",
                  "0.0",
                  "0.746179183135705",
                  "0.6577577429518551",
                  "0.0",
                  "0.5",
                  "0.2387995719909668",
                  "0.07228350639343262"
                ]
              ],
              "shape": {
                "columns": 11,
                "rows": 4
              }
            },
            "text/html": [
              "<div>\n",
              "<style scoped>\n",
              "    .dataframe tbody tr th:only-of-type {\n",
              "        vertical-align: middle;\n",
              "    }\n",
              "\n",
              "    .dataframe tbody tr th {\n",
              "        vertical-align: top;\n",
              "    }\n",
              "\n",
              "    .dataframe thead th {\n",
              "        text-align: right;\n",
              "    }\n",
              "</style>\n",
              "<table border=\"1\" class=\"dataframe\">\n",
              "  <thead>\n",
              "    <tr style=\"text-align: right;\">\n",
              "      <th></th>\n",
              "      <th>Modelo</th>\n",
              "      <th>Accuracy</th>\n",
              "      <th>Precision</th>\n",
              "      <th>Recall</th>\n",
              "      <th>F1-Score</th>\n",
              "      <th>ROC-AUC</th>\n",
              "      <th>PR-AUC</th>\n",
              "      <th>MCC</th>\n",
              "      <th>Balanced Accuracy</th>\n",
              "      <th>Tiempo Training</th>\n",
              "      <th>Tiempo Inference</th>\n",
              "    </tr>\n",
              "  </thead>\n",
              "  <tbody>\n",
              "    <tr>\n",
              "      <th>0</th>\n",
              "      <td>Regresión Logística</td>\n",
              "      <td>0.798883</td>\n",
              "      <td>0.708861</td>\n",
              "      <td>0.811594</td>\n",
              "      <td>0.756757</td>\n",
              "      <td>0.863900</td>\n",
              "      <td>0.790420</td>\n",
              "      <td>0.590564</td>\n",
              "      <td>0.801252</td>\n",
              "      <td>0.078243</td>\n",
              "      <td>0.004628</td>\n",
              "    </tr>\n",
              "    <tr>\n",
              "      <th>1</th>\n",
              "      <td>Random Forest</td>\n",
              "      <td>0.810056</td>\n",
              "      <td>0.727273</td>\n",
              "      <td>0.811594</td>\n",
              "      <td>0.767123</td>\n",
              "      <td>0.862187</td>\n",
              "      <td>0.832137</td>\n",
              "      <td>0.610164</td>\n",
              "      <td>0.810343</td>\n",
              "      <td>0.648192</td>\n",
              "      <td>0.045778</td>\n",
              "    </tr>\n",
              "    <tr>\n",
              "      <th>2</th>\n",
              "      <td>XGBoost</td>\n",
              "      <td>0.798883</td>\n",
              "      <td>0.720000</td>\n",
              "      <td>0.782609</td>\n",
              "      <td>0.750000</td>\n",
              "      <td>0.858103</td>\n",
              "      <td>0.823184</td>\n",
              "      <td>0.583680</td>\n",
              "      <td>0.795850</td>\n",
              "      <td>0.293573</td>\n",
              "      <td>0.014526</td>\n",
              "    </tr>\n",
              "    <tr>\n",
              "      <th>3</th>\n",
              "      <td>SVM</td>\n",
              "      <td>0.614525</td>\n",
              "      <td>0.000000</td>\n",
              "      <td>0.000000</td>\n",
              "      <td>0.000000</td>\n",
              "      <td>0.746179</td>\n",
              "      <td>0.657758</td>\n",
              "      <td>0.000000</td>\n",
              "      <td>0.500000</td>\n",
              "      <td>0.238800</td>\n",
              "      <td>0.072284</td>\n",
              "    </tr>\n",
              "  </tbody>\n",
              "</table>\n",
              "</div>"
            ],
            "text/plain": [
              "                Modelo  Accuracy  Precision    Recall  F1-Score   ROC-AUC  \\\n",
              "0  Regresión Logística  0.798883   0.708861  0.811594  0.756757  0.863900   \n",
              "1        Random Forest  0.810056   0.727273  0.811594  0.767123  0.862187   \n",
              "2              XGBoost  0.798883   0.720000  0.782609  0.750000  0.858103   \n",
              "3                  SVM  0.614525   0.000000  0.000000  0.000000  0.746179   \n",
              "\n",
              "     PR-AUC       MCC  Balanced Accuracy  Tiempo Training  Tiempo Inference  \n",
              "0  0.790420  0.590564           0.801252         0.078243          0.004628  \n",
              "1  0.832137  0.610164           0.810343         0.648192          0.045778  \n",
              "2  0.823184  0.583680           0.795850         0.293573          0.014526  \n",
              "3  0.657758  0.000000           0.500000         0.238800          0.072284  "
            ]
          },
          "execution_count": 59,
          "metadata": {},
          "output_type": "execute_result"
        }
      ],
      "source": [
        "comp_mods"
      ]
    },
    {
      "cell_type": "markdown",
      "id": "f660e03e",
      "metadata": {},
      "source": [
        "### Análisis estadístico"
      ]
    },
    {
      "cell_type": "markdown",
      "id": "41ae3366",
      "metadata": {},
      "source": [
        "### Test de significancia entre modelos (McNemar's test)\n",
        "\n",
        "Como los modelos Logistic Regression y SVM fueron evaluados sobre un mismo set de test mientras que Random Forest y XGBoost sobre otro, se realizarán unicamente dos tests de significancia entre modelos que comparen entre aquellos que coinciden en el set con el que fueron evaluados porque McNemar requiere comparar errores sobre los mismos ejemplos.\n",
        "\n",
        "Lo que se busca obtener mediante el McNemar's test en este caso es evidencia estadística que permita determinar si existe una diferencia estadísticamente significativa en el rendimeinto de los dos modelos, siendo el criterio basado en el valor p\n",
        "\n",
        "p < 0.05 : existe una diferencia significativa en el rendimiento de los dos modelos\n",
        "\n",
        "p > 0.05 : no hay evidencia estadística suficiente de que exista una diferencia"
      ]
    },
    {
      "cell_type": "code",
      "execution_count": 60,
      "id": "6826ca74",
      "metadata": {},
      "outputs": [],
      "source": [
        "def run_mcnemar(y_true, pred1, pred2, name1, name2):\n",
        "    both_correct = ((pred1 == y_true) & (pred2 == y_true)).sum()\n",
        "    model1_correct_only = ((pred1 == y_true) & (pred2 != y_true)).sum()\n",
        "    model2_correct_only = ((pred1 != y_true) & (pred2 == y_true)).sum()\n",
        "    both_wrong = ((pred1 != y_true) & (pred2 != y_true)).sum()\n",
        "\n",
        "    contingency = [[both_correct, model1_correct_only],\n",
        "                   [model2_correct_only, both_wrong]]\n",
        "\n",
        "    result = mcnemar(contingency, exact=False, correction=True)\n",
        "\n",
        "    return {\n",
        "        'Modelo A': name1,\n",
        "        'Modelo B': name2,\n",
        "        'Chi2': result.statistic,\n",
        "        'p-value': result.pvalue\n",
        "    }"
      ]
    },
    {
      "cell_type": "code",
      "execution_count": 61,
      "id": "97cc8707",
      "metadata": {},
      "outputs": [
        {
          "data": {
            "application/vnd.microsoft.datawrangler.viewer.v0+json": {
              "columns": [
                {
                  "name": "index",
                  "rawType": "int64",
                  "type": "integer"
                },
                {
                  "name": "Modelo A",
                  "rawType": "object",
                  "type": "string"
                },
                {
                  "name": "Modelo B",
                  "rawType": "object",
                  "type": "string"
                },
                {
                  "name": "Chi2",
                  "rawType": "float64",
                  "type": "float"
                },
                {
                  "name": "p-value",
                  "rawType": "float64",
                  "type": "float"
                }
              ],
              "ref": "683584c5-588b-42fb-ba2b-3fef115c27fc",
              "rows": [
                [
                  "0",
                  "LogisticRegresssion",
                  "SVM",
                  "12.962025316455696",
                  "0.0003178731193739975"
                ],
                [
                  "1",
                  "RandomForest",
                  "XGBoost",
                  "0.07142857142857142",
                  "0.7892680261342813"
                ]
              ],
              "shape": {
                "columns": 4,
                "rows": 2
              }
            },
            "text/html": [
              "<div>\n",
              "<style scoped>\n",
              "    .dataframe tbody tr th:only-of-type {\n",
              "        vertical-align: middle;\n",
              "    }\n",
              "\n",
              "    .dataframe tbody tr th {\n",
              "        vertical-align: top;\n",
              "    }\n",
              "\n",
              "    .dataframe thead th {\n",
              "        text-align: right;\n",
              "    }\n",
              "</style>\n",
              "<table border=\"1\" class=\"dataframe\">\n",
              "  <thead>\n",
              "    <tr style=\"text-align: right;\">\n",
              "      <th></th>\n",
              "      <th>Modelo A</th>\n",
              "      <th>Modelo B</th>\n",
              "      <th>Chi2</th>\n",
              "      <th>p-value</th>\n",
              "    </tr>\n",
              "  </thead>\n",
              "  <tbody>\n",
              "    <tr>\n",
              "      <th>0</th>\n",
              "      <td>LogisticRegresssion</td>\n",
              "      <td>SVM</td>\n",
              "      <td>12.962025</td>\n",
              "      <td>0.000318</td>\n",
              "    </tr>\n",
              "    <tr>\n",
              "      <th>1</th>\n",
              "      <td>RandomForest</td>\n",
              "      <td>XGBoost</td>\n",
              "      <td>0.071429</td>\n",
              "      <td>0.789268</td>\n",
              "    </tr>\n",
              "  </tbody>\n",
              "</table>\n",
              "</div>"
            ],
            "text/plain": [
              "              Modelo A Modelo B       Chi2   p-value\n",
              "0  LogisticRegresssion      SVM  12.962025  0.000318\n",
              "1         RandomForest  XGBoost   0.071429  0.789268"
            ]
          },
          "execution_count": 61,
          "metadata": {},
          "output_type": "execute_result"
        }
      ],
      "source": [
        "log_pred = log_best.predict(X_test_svm)\n",
        "svm_pred = svm_best.predict(X_test_svm)\n",
        "\n",
        "rf_pred = rf_best.predict(X_test_tree)\n",
        "xgb_pred = xgb_best.predict(X_test_tree)\n",
        "\n",
        "#McNemar tests\n",
        "results = []\n",
        "\n",
        "#Logistic vs SVM (mismo dataset: test_svm)\n",
        "results.append(run_mcnemar(y_test_svm, log_pred, svm_pred, 'LogisticRegresssion', 'SVM'))\n",
        "\n",
        "#RandomForest vs XGBoost (mismo dataset: test_tree)\n",
        "results.append(run_mcnemar(y_test_tree, rf_pred, xgb_pred, 'RandomForest', 'XGBoost'))\n",
        "\n",
        "df_results = pd.DataFrame(results)\n",
        "df_results"
      ]
    },
    {
      "cell_type": "markdown",
      "id": "fd9a1408",
      "metadata": {},
      "source": [
        "Se concluye que sí hay evidencia estadística suficiente que muestra diferencias significativas en el rendimiento entre LogisticRegression y SVM, mientras que el caso contrario se presenta entre RandomForest y XGBoost donde no hay evidencia de que un modelo sea significativamente mejor que el otro."
      ]
    },
    {
      "cell_type": "markdown",
      "id": "3eab80c4",
      "metadata": {},
      "source": [
        "### Intervalos de confianza para métricas\n",
        "\n",
        "Con nivel de confianza de 95%"
      ]
    },
    {
      "cell_type": "code",
      "execution_count": 62,
      "id": "0c834513",
      "metadata": {},
      "outputs": [],
      "source": [
        "log_proba = log_best.predict_proba(X_test_svm)[:, 1]\n",
        "svm_proba = svm_best.predict_proba(X_test_svm)[:, 1]\n",
        "\n",
        "rf_proba = rf_best.predict_proba(X_test_tree)[:, 1]\n",
        "xgb_proba = xgb_best.predict_proba(X_test_tree)[:, 1]"
      ]
    },
    {
      "cell_type": "code",
      "execution_count": 63,
      "id": "d6d4cde1",
      "metadata": {},
      "outputs": [],
      "source": [
        "#Intervalos de confianza para métricas\n",
        "def metr_ic(y_test, y_pred, y_proba, n_bootstrap=1000, alpha=0.05):\n",
        "    \"\"\"\n",
        "    Calcula intervalos de confianza para métricas de clasificación.\n",
        "    \"\"\"\n",
        "    y_test = np.array(y_test)\n",
        "    y_pred = np.array(y_pred)\n",
        "    y_proba = np.array(y_proba)\n",
        "\n",
        "    rng = np.random.default_rng(42)  # reproducibilidad\n",
        "    metricsic = {\n",
        "        \"Accuracy\": [],\n",
        "        \"Precision\": [],\n",
        "        \"Recall\": [],\n",
        "        \"F1-Score\": [],\n",
        "        \"ROC-AUC\": [],\n",
        "        \"PR-AUC\": [],\n",
        "        \"MCC\": [],\n",
        "        \"Balanced Accuracy\": []\n",
        "    }\n",
        "\n",
        "    n = len(y_test)\n",
        "    for _ in range(n_bootstrap):\n",
        "        idx = rng.choice(n, size=n, replace=True)\n",
        "        y_res = y_test[idx]\n",
        "        p_res = y_pred[idx]\n",
        "        prob_res = y_proba[idx]\n",
        "\n",
        "        metricsic[\"Accuracy\"].append(accuracy_score(y_res, p_res))\n",
        "        metricsic[\"Precision\"].append(precision_score(y_res, p_res, zero_division=0))\n",
        "        metricsic[\"Recall\"].append(recall_score(y_res, p_res, zero_division=0))\n",
        "        metricsic[\"F1-Score\"].append(f1_score(y_res, p_res, zero_division=0))\n",
        "        metricsic[\"ROC-AUC\"].append(roc_auc_score(y_res, prob_res))\n",
        "        metricsic[\"PR-AUC\"].append(average_precision_score(y_res, prob_res))\n",
        "        metricsic[\"MCC\"].append(matthews_corrcoef(y_res, p_res))\n",
        "        metricsic[\"Balanced Accuracy\"].append(balanced_accuracy_score(y_res, p_res))\n",
        "\n",
        "    #percentiles para IC\n",
        "    metrics_ci = {}\n",
        "    for metric, values in metricsic.items():\n",
        "        lower = np.percentile(values, 100 * alpha/2)\n",
        "        upper = np.percentile(values, 100 * (1 - alpha/2))\n",
        "        metrics_ci[metric] = (lower, upper)\n",
        "\n",
        "    return metrics_ci"
      ]
    },
    {
      "cell_type": "code",
      "execution_count": 64,
      "id": "41f5f3f3",
      "metadata": {},
      "outputs": [],
      "source": [
        "#aplicando a cada modelo \n",
        "ci_log = metr_ic(y_test_svm, log_pred, log_proba)\n",
        "ci_rf = metr_ic(y_test_tree, rf_pred, rf_proba)\n",
        "ci_xgb = metr_ic(y_test_tree, xgb_pred, xgb_proba)\n",
        "ci_svm = metr_ic(y_test_svm, svm_pred, svm_proba)"
      ]
    },
    {
      "cell_type": "code",
      "execution_count": 65,
      "id": "841797f3",
      "metadata": {},
      "outputs": [],
      "source": [
        "#Convertir a DataFrame\n",
        "def ci_to_df(ci_dict):\n",
        "    filas = [\n",
        "        {\"Métrica\": met, \"Lim Inf\": low, \"Lim Sup\": high}\n",
        "        for met, (low, high) in ci_dict.items()\n",
        "    ]\n",
        "    return pd.DataFrame(filas)"
      ]
    },
    {
      "cell_type": "code",
      "execution_count": 66,
      "id": "f7096a8d",
      "metadata": {},
      "outputs": [
        {
          "name": "stdout",
          "output_type": "stream",
          "text": [
            "Intervalos de confianza para métricas - LogisticRegression\n"
          ]
        },
        {
          "data": {
            "application/vnd.microsoft.datawrangler.viewer.v0+json": {
              "columns": [
                {
                  "name": "index",
                  "rawType": "int64",
                  "type": "integer"
                },
                {
                  "name": "Métrica",
                  "rawType": "object",
                  "type": "string"
                },
                {
                  "name": "Lim Inf",
                  "rawType": "float64",
                  "type": "float"
                },
                {
                  "name": "Lim Sup",
                  "rawType": "float64",
                  "type": "float"
                }
              ],
              "ref": "3a66eb8c-47c4-4bb1-938f-0d0e0612fc0a",
              "rows": [
                [
                  "0",
                  "Accuracy",
                  "0.7374301675977654",
                  "0.8547486033519553"
                ],
                [
                  "1",
                  "Precision",
                  "0.6029411764705882",
                  "0.8125171703296703"
                ],
                [
                  "2",
                  "Recall",
                  "0.7142857142857143",
                  "0.8961371961371961"
                ],
                [
                  "3",
                  "F1-Score",
                  "0.6713286713286714",
                  "0.8271711366538953"
                ],
                [
                  "4",
                  "ROC-AUC",
                  "0.8008654791835201",
                  "0.9178090230883014"
                ],
                [
                  "5",
                  "PR-AUC",
                  "0.681795179133595",
                  "0.8928164023667658"
                ],
                [
                  "6",
                  "MCC",
                  "0.46096957229867375",
                  "0.7036224337433701"
                ],
                [
                  "7",
                  "Balanced Accuracy",
                  "0.7350526524210734",
                  "0.8572003985028022"
                ]
              ],
              "shape": {
                "columns": 3,
                "rows": 8
              }
            },
            "text/html": [
              "<div>\n",
              "<style scoped>\n",
              "    .dataframe tbody tr th:only-of-type {\n",
              "        vertical-align: middle;\n",
              "    }\n",
              "\n",
              "    .dataframe tbody tr th {\n",
              "        vertical-align: top;\n",
              "    }\n",
              "\n",
              "    .dataframe thead th {\n",
              "        text-align: right;\n",
              "    }\n",
              "</style>\n",
              "<table border=\"1\" class=\"dataframe\">\n",
              "  <thead>\n",
              "    <tr style=\"text-align: right;\">\n",
              "      <th></th>\n",
              "      <th>Métrica</th>\n",
              "      <th>Lim Inf</th>\n",
              "      <th>Lim Sup</th>\n",
              "    </tr>\n",
              "  </thead>\n",
              "  <tbody>\n",
              "    <tr>\n",
              "      <th>0</th>\n",
              "      <td>Accuracy</td>\n",
              "      <td>0.737430</td>\n",
              "      <td>0.854749</td>\n",
              "    </tr>\n",
              "    <tr>\n",
              "      <th>1</th>\n",
              "      <td>Precision</td>\n",
              "      <td>0.602941</td>\n",
              "      <td>0.812517</td>\n",
              "    </tr>\n",
              "    <tr>\n",
              "      <th>2</th>\n",
              "      <td>Recall</td>\n",
              "      <td>0.714286</td>\n",
              "      <td>0.896137</td>\n",
              "    </tr>\n",
              "    <tr>\n",
              "      <th>3</th>\n",
              "      <td>F1-Score</td>\n",
              "      <td>0.671329</td>\n",
              "      <td>0.827171</td>\n",
              "    </tr>\n",
              "    <tr>\n",
              "      <th>4</th>\n",
              "      <td>ROC-AUC</td>\n",
              "      <td>0.800865</td>\n",
              "      <td>0.917809</td>\n",
              "    </tr>\n",
              "    <tr>\n",
              "      <th>5</th>\n",
              "      <td>PR-AUC</td>\n",
              "      <td>0.681795</td>\n",
              "      <td>0.892816</td>\n",
              "    </tr>\n",
              "    <tr>\n",
              "      <th>6</th>\n",
              "      <td>MCC</td>\n",
              "      <td>0.460970</td>\n",
              "      <td>0.703622</td>\n",
              "    </tr>\n",
              "    <tr>\n",
              "      <th>7</th>\n",
              "      <td>Balanced Accuracy</td>\n",
              "      <td>0.735053</td>\n",
              "      <td>0.857200</td>\n",
              "    </tr>\n",
              "  </tbody>\n",
              "</table>\n",
              "</div>"
            ],
            "text/plain": [
              "             Métrica   Lim Inf   Lim Sup\n",
              "0           Accuracy  0.737430  0.854749\n",
              "1          Precision  0.602941  0.812517\n",
              "2             Recall  0.714286  0.896137\n",
              "3           F1-Score  0.671329  0.827171\n",
              "4            ROC-AUC  0.800865  0.917809\n",
              "5             PR-AUC  0.681795  0.892816\n",
              "6                MCC  0.460970  0.703622\n",
              "7  Balanced Accuracy  0.735053  0.857200"
            ]
          },
          "execution_count": 66,
          "metadata": {},
          "output_type": "execute_result"
        }
      ],
      "source": [
        "print('Intervalos de confianza para métricas - LogisticRegression')\n",
        "ci_to_df(ci_log)"
      ]
    },
    {
      "cell_type": "code",
      "execution_count": 67,
      "id": "d6c3886e",
      "metadata": {},
      "outputs": [
        {
          "name": "stdout",
          "output_type": "stream",
          "text": [
            "Intervalos de confianza para métricas - Random Forest\n"
          ]
        },
        {
          "data": {
            "application/vnd.microsoft.datawrangler.viewer.v0+json": {
              "columns": [
                {
                  "name": "index",
                  "rawType": "int64",
                  "type": "integer"
                },
                {
                  "name": "Métrica",
                  "rawType": "object",
                  "type": "string"
                },
                {
                  "name": "Lim Inf",
                  "rawType": "float64",
                  "type": "float"
                },
                {
                  "name": "Lim Sup",
                  "rawType": "float64",
                  "type": "float"
                }
              ],
              "ref": "60312a0a-19ac-4143-80d4-7714b23fb5cf",
              "rows": [
                [
                  "0",
                  "Accuracy",
                  "0.748463687150838",
                  "0.8659217877094972"
                ],
                [
                  "1",
                  "Precision",
                  "0.6124816176470589",
                  "0.8289983320978502"
                ],
                [
                  "2",
                  "Recall",
                  "0.7105167810831426",
                  "0.9041419844502036"
                ],
                [
                  "3",
                  "F1-Score",
                  "0.6805416666666667",
                  "0.8383330113965617"
                ],
                [
                  "4",
                  "ROC-AUC",
                  "0.7942277459450134",
                  "0.9197031189083821"
                ],
                [
                  "5",
                  "PR-AUC",
                  "0.7390628610149342",
                  "0.906837357800429"
                ],
                [
                  "6",
                  "MCC",
                  "0.4785268054392736",
                  "0.7258646474102471"
                ],
                [
                  "7",
                  "Balanced Accuracy",
                  "0.7448560731139671",
                  "0.866923995928284"
                ]
              ],
              "shape": {
                "columns": 3,
                "rows": 8
              }
            },
            "text/html": [
              "<div>\n",
              "<style scoped>\n",
              "    .dataframe tbody tr th:only-of-type {\n",
              "        vertical-align: middle;\n",
              "    }\n",
              "\n",
              "    .dataframe tbody tr th {\n",
              "        vertical-align: top;\n",
              "    }\n",
              "\n",
              "    .dataframe thead th {\n",
              "        text-align: right;\n",
              "    }\n",
              "</style>\n",
              "<table border=\"1\" class=\"dataframe\">\n",
              "  <thead>\n",
              "    <tr style=\"text-align: right;\">\n",
              "      <th></th>\n",
              "      <th>Métrica</th>\n",
              "      <th>Lim Inf</th>\n",
              "      <th>Lim Sup</th>\n",
              "    </tr>\n",
              "  </thead>\n",
              "  <tbody>\n",
              "    <tr>\n",
              "      <th>0</th>\n",
              "      <td>Accuracy</td>\n",
              "      <td>0.748464</td>\n",
              "      <td>0.865922</td>\n",
              "    </tr>\n",
              "    <tr>\n",
              "      <th>1</th>\n",
              "      <td>Precision</td>\n",
              "      <td>0.612482</td>\n",
              "      <td>0.828998</td>\n",
              "    </tr>\n",
              "    <tr>\n",
              "      <th>2</th>\n",
              "      <td>Recall</td>\n",
              "      <td>0.710517</td>\n",
              "      <td>0.904142</td>\n",
              "    </tr>\n",
              "    <tr>\n",
              "      <th>3</th>\n",
              "      <td>F1-Score</td>\n",
              "      <td>0.680542</td>\n",
              "      <td>0.838333</td>\n",
              "    </tr>\n",
              "    <tr>\n",
              "      <th>4</th>\n",
              "      <td>ROC-AUC</td>\n",
              "      <td>0.794228</td>\n",
              "      <td>0.919703</td>\n",
              "    </tr>\n",
              "    <tr>\n",
              "      <th>5</th>\n",
              "      <td>PR-AUC</td>\n",
              "      <td>0.739063</td>\n",
              "      <td>0.906837</td>\n",
              "    </tr>\n",
              "    <tr>\n",
              "      <th>6</th>\n",
              "      <td>MCC</td>\n",
              "      <td>0.478527</td>\n",
              "      <td>0.725865</td>\n",
              "    </tr>\n",
              "    <tr>\n",
              "      <th>7</th>\n",
              "      <td>Balanced Accuracy</td>\n",
              "      <td>0.744856</td>\n",
              "      <td>0.866924</td>\n",
              "    </tr>\n",
              "  </tbody>\n",
              "</table>\n",
              "</div>"
            ],
            "text/plain": [
              "             Métrica   Lim Inf   Lim Sup\n",
              "0           Accuracy  0.748464  0.865922\n",
              "1          Precision  0.612482  0.828998\n",
              "2             Recall  0.710517  0.904142\n",
              "3           F1-Score  0.680542  0.838333\n",
              "4            ROC-AUC  0.794228  0.919703\n",
              "5             PR-AUC  0.739063  0.906837\n",
              "6                MCC  0.478527  0.725865\n",
              "7  Balanced Accuracy  0.744856  0.866924"
            ]
          },
          "execution_count": 67,
          "metadata": {},
          "output_type": "execute_result"
        }
      ],
      "source": [
        "print('Intervalos de confianza para métricas - Random Forest')\n",
        "ci_to_df(ci_rf)"
      ]
    },
    {
      "cell_type": "code",
      "execution_count": 68,
      "id": "c70f6666",
      "metadata": {},
      "outputs": [
        {
          "name": "stdout",
          "output_type": "stream",
          "text": [
            "Intervalos de confianza para métricas - XGBoost\n"
          ]
        },
        {
          "data": {
            "application/vnd.microsoft.datawrangler.viewer.v0+json": {
              "columns": [
                {
                  "name": "index",
                  "rawType": "int64",
                  "type": "integer"
                },
                {
                  "name": "Métrica",
                  "rawType": "object",
                  "type": "string"
                },
                {
                  "name": "Lim Inf",
                  "rawType": "float64",
                  "type": "float"
                },
                {
                  "name": "Lim Sup",
                  "rawType": "float64",
                  "type": "float"
                }
              ],
              "ref": "015ae6e6-bca2-40bf-83b8-37a14a8e43d8",
              "rows": [
                [
                  "0",
                  "Accuracy",
                  "0.7374301675977654",
                  "0.8547486033519553"
                ],
                [
                  "1",
                  "Precision",
                  "0.609729586426299",
                  "0.8115942028985508"
                ],
                [
                  "2",
                  "Recall",
                  "0.6865262727458598",
                  "0.8769230769230769"
                ],
                [
                  "3",
                  "F1-Score",
                  "0.6622516556291391",
                  "0.8182092004381162"
                ],
                [
                  "4",
                  "ROC-AUC",
                  "0.7921371207327326",
                  "0.9140744029075805"
                ],
                [
                  "5",
                  "PR-AUC",
                  "0.7319331091520858",
                  "0.8963843947245534"
                ],
                [
                  "6",
                  "MCC",
                  "0.45761566079682264",
                  "0.6950407815235513"
                ],
                [
                  "7",
                  "Balanced Accuracy",
                  "0.7318358150558817",
                  "0.8518701968188461"
                ]
              ],
              "shape": {
                "columns": 3,
                "rows": 8
              }
            },
            "text/html": [
              "<div>\n",
              "<style scoped>\n",
              "    .dataframe tbody tr th:only-of-type {\n",
              "        vertical-align: middle;\n",
              "    }\n",
              "\n",
              "    .dataframe tbody tr th {\n",
              "        vertical-align: top;\n",
              "    }\n",
              "\n",
              "    .dataframe thead th {\n",
              "        text-align: right;\n",
              "    }\n",
              "</style>\n",
              "<table border=\"1\" class=\"dataframe\">\n",
              "  <thead>\n",
              "    <tr style=\"text-align: right;\">\n",
              "      <th></th>\n",
              "      <th>Métrica</th>\n",
              "      <th>Lim Inf</th>\n",
              "      <th>Lim Sup</th>\n",
              "    </tr>\n",
              "  </thead>\n",
              "  <tbody>\n",
              "    <tr>\n",
              "      <th>0</th>\n",
              "      <td>Accuracy</td>\n",
              "      <td>0.737430</td>\n",
              "      <td>0.854749</td>\n",
              "    </tr>\n",
              "    <tr>\n",
              "      <th>1</th>\n",
              "      <td>Precision</td>\n",
              "      <td>0.609730</td>\n",
              "      <td>0.811594</td>\n",
              "    </tr>\n",
              "    <tr>\n",
              "      <th>2</th>\n",
              "      <td>Recall</td>\n",
              "      <td>0.686526</td>\n",
              "      <td>0.876923</td>\n",
              "    </tr>\n",
              "    <tr>\n",
              "      <th>3</th>\n",
              "      <td>F1-Score</td>\n",
              "      <td>0.662252</td>\n",
              "      <td>0.818209</td>\n",
              "    </tr>\n",
              "    <tr>\n",
              "      <th>4</th>\n",
              "      <td>ROC-AUC</td>\n",
              "      <td>0.792137</td>\n",
              "      <td>0.914074</td>\n",
              "    </tr>\n",
              "    <tr>\n",
              "      <th>5</th>\n",
              "      <td>PR-AUC</td>\n",
              "      <td>0.731933</td>\n",
              "      <td>0.896384</td>\n",
              "    </tr>\n",
              "    <tr>\n",
              "      <th>6</th>\n",
              "      <td>MCC</td>\n",
              "      <td>0.457616</td>\n",
              "      <td>0.695041</td>\n",
              "    </tr>\n",
              "    <tr>\n",
              "      <th>7</th>\n",
              "      <td>Balanced Accuracy</td>\n",
              "      <td>0.731836</td>\n",
              "      <td>0.851870</td>\n",
              "    </tr>\n",
              "  </tbody>\n",
              "</table>\n",
              "</div>"
            ],
            "text/plain": [
              "             Métrica   Lim Inf   Lim Sup\n",
              "0           Accuracy  0.737430  0.854749\n",
              "1          Precision  0.609730  0.811594\n",
              "2             Recall  0.686526  0.876923\n",
              "3           F1-Score  0.662252  0.818209\n",
              "4            ROC-AUC  0.792137  0.914074\n",
              "5             PR-AUC  0.731933  0.896384\n",
              "6                MCC  0.457616  0.695041\n",
              "7  Balanced Accuracy  0.731836  0.851870"
            ]
          },
          "execution_count": 68,
          "metadata": {},
          "output_type": "execute_result"
        }
      ],
      "source": [
        "print('Intervalos de confianza para métricas - XGBoost')\n",
        "ci_to_df(ci_xgb)"
      ]
    },
    {
      "cell_type": "code",
      "execution_count": 69,
      "id": "60c2b097",
      "metadata": {},
      "outputs": [
        {
          "name": "stdout",
          "output_type": "stream",
          "text": [
            "Intervalos de confianza para métricas - SVM\n"
          ]
        },
        {
          "data": {
            "application/vnd.microsoft.datawrangler.viewer.v0+json": {
              "columns": [
                {
                  "name": "index",
                  "rawType": "int64",
                  "type": "integer"
                },
                {
                  "name": "Métrica",
                  "rawType": "object",
                  "type": "string"
                },
                {
                  "name": "Lim Inf",
                  "rawType": "float64",
                  "type": "float"
                },
                {
                  "name": "Lim Sup",
                  "rawType": "float64",
                  "type": "float"
                }
              ],
              "ref": "7b5cb51f-5094-4213-a70d-106cafba432f",
              "rows": [
                [
                  "0",
                  "Accuracy",
                  "0.5418994413407822",
                  "0.6871508379888268"
                ],
                [
                  "1",
                  "Precision",
                  "0.0",
                  "0.0"
                ],
                [
                  "2",
                  "Recall",
                  "0.0",
                  "0.0"
                ],
                [
                  "3",
                  "F1-Score",
                  "0.0",
                  "0.0"
                ],
                [
                  "4",
                  "ROC-AUC",
                  "0.6680474890144383",
                  "0.8155762711864407"
                ],
                [
                  "5",
                  "PR-AUC",
                  "0.5389317324373304",
                  "0.7650838723679131"
                ],
                [
                  "6",
                  "MCC",
                  "0.0",
                  "0.0"
                ],
                [
                  "7",
                  "Balanced Accuracy",
                  "0.5",
                  "0.5"
                ]
              ],
              "shape": {
                "columns": 3,
                "rows": 8
              }
            },
            "text/html": [
              "<div>\n",
              "<style scoped>\n",
              "    .dataframe tbody tr th:only-of-type {\n",
              "        vertical-align: middle;\n",
              "    }\n",
              "\n",
              "    .dataframe tbody tr th {\n",
              "        vertical-align: top;\n",
              "    }\n",
              "\n",
              "    .dataframe thead th {\n",
              "        text-align: right;\n",
              "    }\n",
              "</style>\n",
              "<table border=\"1\" class=\"dataframe\">\n",
              "  <thead>\n",
              "    <tr style=\"text-align: right;\">\n",
              "      <th></th>\n",
              "      <th>Métrica</th>\n",
              "      <th>Lim Inf</th>\n",
              "      <th>Lim Sup</th>\n",
              "    </tr>\n",
              "  </thead>\n",
              "  <tbody>\n",
              "    <tr>\n",
              "      <th>0</th>\n",
              "      <td>Accuracy</td>\n",
              "      <td>0.541899</td>\n",
              "      <td>0.687151</td>\n",
              "    </tr>\n",
              "    <tr>\n",
              "      <th>1</th>\n",
              "      <td>Precision</td>\n",
              "      <td>0.000000</td>\n",
              "      <td>0.000000</td>\n",
              "    </tr>\n",
              "    <tr>\n",
              "      <th>2</th>\n",
              "      <td>Recall</td>\n",
              "      <td>0.000000</td>\n",
              "      <td>0.000000</td>\n",
              "    </tr>\n",
              "    <tr>\n",
              "      <th>3</th>\n",
              "      <td>F1-Score</td>\n",
              "      <td>0.000000</td>\n",
              "      <td>0.000000</td>\n",
              "    </tr>\n",
              "    <tr>\n",
              "      <th>4</th>\n",
              "      <td>ROC-AUC</td>\n",
              "      <td>0.668047</td>\n",
              "      <td>0.815576</td>\n",
              "    </tr>\n",
              "    <tr>\n",
              "      <th>5</th>\n",
              "      <td>PR-AUC</td>\n",
              "      <td>0.538932</td>\n",
              "      <td>0.765084</td>\n",
              "    </tr>\n",
              "    <tr>\n",
              "      <th>6</th>\n",
              "      <td>MCC</td>\n",
              "      <td>0.000000</td>\n",
              "      <td>0.000000</td>\n",
              "    </tr>\n",
              "    <tr>\n",
              "      <th>7</th>\n",
              "      <td>Balanced Accuracy</td>\n",
              "      <td>0.500000</td>\n",
              "      <td>0.500000</td>\n",
              "    </tr>\n",
              "  </tbody>\n",
              "</table>\n",
              "</div>"
            ],
            "text/plain": [
              "             Métrica   Lim Inf   Lim Sup\n",
              "0           Accuracy  0.541899  0.687151\n",
              "1          Precision  0.000000  0.000000\n",
              "2             Recall  0.000000  0.000000\n",
              "3           F1-Score  0.000000  0.000000\n",
              "4            ROC-AUC  0.668047  0.815576\n",
              "5             PR-AUC  0.538932  0.765084\n",
              "6                MCC  0.000000  0.000000\n",
              "7  Balanced Accuracy  0.500000  0.500000"
            ]
          },
          "execution_count": 69,
          "metadata": {},
          "output_type": "execute_result"
        }
      ],
      "source": [
        "print('Intervalos de confianza para métricas - SVM')\n",
        "ci_to_df(ci_svm)"
      ]
    },
    {
      "cell_type": "markdown",
      "id": "f0271f22",
      "metadata": {},
      "source": [
        "### Análisis de varianzas entre folds de CV"
      ]
    },
    {
      "cell_type": "code",
      "execution_count": 70,
      "id": "ec9f5b2b",
      "metadata": {},
      "outputs": [],
      "source": [
        "X_svm = df_num.drop(columns=drop_svm + ['Survived'])\n",
        "y_svm = df['Survived']\n",
        "X_tree = df_num.drop(columns=drop_tree + ['Survived'])\n",
        "y_tree = df['Survived']"
      ]
    },
    {
      "cell_type": "code",
      "execution_count": 71,
      "id": "06c7c03e",
      "metadata": {},
      "outputs": [
        {
          "name": "stdout",
          "output_type": "stream",
          "text": [
            "Logistic Regression: [0.75177305 0.78873239 0.74820144 0.75177305 0.78571429] -> mean=0.765\n",
            "SVM: [0. 0. 0. 0. 0.] -> mean=0.000\n",
            "\n",
            "ANOVA results\n",
            "F-statistic: 7211.176969129804\n",
            "p-value: 4.1253411407743384e-13\n",
            "\n",
            "Scores por fold:\n"
          ]
        },
        {
          "data": {
            "application/vnd.microsoft.datawrangler.viewer.v0+json": {
              "columns": [
                {
                  "name": "index",
                  "rawType": "int64",
                  "type": "integer"
                },
                {
                  "name": "Logistic Regression",
                  "rawType": "float64",
                  "type": "float"
                },
                {
                  "name": "SVM",
                  "rawType": "float64",
                  "type": "float"
                }
              ],
              "ref": "56c9adb7-7a66-4f16-b615-9a867ba44580",
              "rows": [
                [
                  "0",
                  "0.75177304964539",
                  "0.0"
                ],
                [
                  "1",
                  "0.7887323943661971",
                  "0.0"
                ],
                [
                  "2",
                  "0.7482014388489209",
                  "0.0"
                ],
                [
                  "3",
                  "0.75177304964539",
                  "0.0"
                ],
                [
                  "4",
                  "0.7857142857142857",
                  "0.0"
                ]
              ],
              "shape": {
                "columns": 2,
                "rows": 5
              }
            },
            "text/html": [
              "<div>\n",
              "<style scoped>\n",
              "    .dataframe tbody tr th:only-of-type {\n",
              "        vertical-align: middle;\n",
              "    }\n",
              "\n",
              "    .dataframe tbody tr th {\n",
              "        vertical-align: top;\n",
              "    }\n",
              "\n",
              "    .dataframe thead th {\n",
              "        text-align: right;\n",
              "    }\n",
              "</style>\n",
              "<table border=\"1\" class=\"dataframe\">\n",
              "  <thead>\n",
              "    <tr style=\"text-align: right;\">\n",
              "      <th></th>\n",
              "      <th>Logistic Regression</th>\n",
              "      <th>SVM</th>\n",
              "    </tr>\n",
              "  </thead>\n",
              "  <tbody>\n",
              "    <tr>\n",
              "      <th>0</th>\n",
              "      <td>0.751773</td>\n",
              "      <td>0.0</td>\n",
              "    </tr>\n",
              "    <tr>\n",
              "      <th>1</th>\n",
              "      <td>0.788732</td>\n",
              "      <td>0.0</td>\n",
              "    </tr>\n",
              "    <tr>\n",
              "      <th>2</th>\n",
              "      <td>0.748201</td>\n",
              "      <td>0.0</td>\n",
              "    </tr>\n",
              "    <tr>\n",
              "      <th>3</th>\n",
              "      <td>0.751773</td>\n",
              "      <td>0.0</td>\n",
              "    </tr>\n",
              "    <tr>\n",
              "      <th>4</th>\n",
              "      <td>0.785714</td>\n",
              "      <td>0.0</td>\n",
              "    </tr>\n",
              "  </tbody>\n",
              "</table>\n",
              "</div>"
            ],
            "text/plain": [
              "   Logistic Regression  SVM\n",
              "0             0.751773  0.0\n",
              "1             0.788732  0.0\n",
              "2             0.748201  0.0\n",
              "3             0.751773  0.0\n",
              "4             0.785714  0.0"
            ]
          },
          "execution_count": 71,
          "metadata": {},
          "output_type": "execute_result"
        }
      ],
      "source": [
        "cv = StratifiedKFold(n_splits=5, shuffle=True, random_state=42)\n",
        "\n",
        "models1 = {\n",
        "    'Logistic Regression': log_best,\n",
        "    'SVM': svm_best\n",
        "}\n",
        "\n",
        "scores = {}\n",
        "for name, model in models1.items():\n",
        "    cv_scores = cross_val_score(model, X_svm, y_svm, cv=cv, scoring=make_scorer(f1_score))\n",
        "    scores[name] = cv_scores\n",
        "    print(f'{name}: {cv_scores} -> mean={cv_scores.mean():.3f}')\n",
        "\n",
        "#ANOVA \n",
        "f_stat, p_value = f_oneway(*scores.values())\n",
        "print('\\nANOVA results')\n",
        "print('F-statistic:', f_stat)\n",
        "print('p-value:', p_value)\n",
        "\n",
        "df_scores = pd.DataFrame(scores)\n",
        "print('\\nScores por fold:')\n",
        "df_scores"
      ]
    },
    {
      "cell_type": "code",
      "execution_count": 72,
      "id": "c1170f8c",
      "metadata": {},
      "outputs": [
        {
          "name": "stdout",
          "output_type": "stream",
          "text": [
            "Random Forest: [0.8057554  0.79166667 0.77372263 0.74452555 0.80851064] -> mean=0.785\n",
            "XGBoost: [0.79411765 0.79166667 0.71111111 0.7761194  0.78518519] -> mean=0.772\n",
            "\n",
            "ANOVA results\n",
            "F-statistic: 0.4602709403948138\n",
            "p-value: 0.5166377491816205\n",
            "\n",
            "Scores por fold:\n"
          ]
        },
        {
          "data": {
            "application/vnd.microsoft.datawrangler.viewer.v0+json": {
              "columns": [
                {
                  "name": "index",
                  "rawType": "int64",
                  "type": "integer"
                },
                {
                  "name": "Random Forest",
                  "rawType": "float64",
                  "type": "float"
                },
                {
                  "name": "XGBoost",
                  "rawType": "float64",
                  "type": "float"
                }
              ],
              "ref": "067f383a-4f4a-4125-8d80-e8c1a4a81608",
              "rows": [
                [
                  "0",
                  "0.8057553956834532",
                  "0.7941176470588235"
                ],
                [
                  "1",
                  "0.7916666666666666",
                  "0.7916666666666666"
                ],
                [
                  "2",
                  "0.7737226277372263",
                  "0.7111111111111111"
                ],
                [
                  "3",
                  "0.7445255474452555",
                  "0.7761194029850746"
                ],
                [
                  "4",
                  "0.8085106382978723",
                  "0.7851851851851852"
                ]
              ],
              "shape": {
                "columns": 2,
                "rows": 5
              }
            },
            "text/html": [
              "<div>\n",
              "<style scoped>\n",
              "    .dataframe tbody tr th:only-of-type {\n",
              "        vertical-align: middle;\n",
              "    }\n",
              "\n",
              "    .dataframe tbody tr th {\n",
              "        vertical-align: top;\n",
              "    }\n",
              "\n",
              "    .dataframe thead th {\n",
              "        text-align: right;\n",
              "    }\n",
              "</style>\n",
              "<table border=\"1\" class=\"dataframe\">\n",
              "  <thead>\n",
              "    <tr style=\"text-align: right;\">\n",
              "      <th></th>\n",
              "      <th>Random Forest</th>\n",
              "      <th>XGBoost</th>\n",
              "    </tr>\n",
              "  </thead>\n",
              "  <tbody>\n",
              "    <tr>\n",
              "      <th>0</th>\n",
              "      <td>0.805755</td>\n",
              "      <td>0.794118</td>\n",
              "    </tr>\n",
              "    <tr>\n",
              "      <th>1</th>\n",
              "      <td>0.791667</td>\n",
              "      <td>0.791667</td>\n",
              "    </tr>\n",
              "    <tr>\n",
              "      <th>2</th>\n",
              "      <td>0.773723</td>\n",
              "      <td>0.711111</td>\n",
              "    </tr>\n",
              "    <tr>\n",
              "      <th>3</th>\n",
              "      <td>0.744526</td>\n",
              "      <td>0.776119</td>\n",
              "    </tr>\n",
              "    <tr>\n",
              "      <th>4</th>\n",
              "      <td>0.808511</td>\n",
              "      <td>0.785185</td>\n",
              "    </tr>\n",
              "  </tbody>\n",
              "</table>\n",
              "</div>"
            ],
            "text/plain": [
              "   Random Forest   XGBoost\n",
              "0       0.805755  0.794118\n",
              "1       0.791667  0.791667\n",
              "2       0.773723  0.711111\n",
              "3       0.744526  0.776119\n",
              "4       0.808511  0.785185"
            ]
          },
          "execution_count": 72,
          "metadata": {},
          "output_type": "execute_result"
        }
      ],
      "source": [
        "models2 = {\n",
        "    'Random Forest': rf_best,\n",
        "    'XGBoost': xgb_best,\n",
        "}\n",
        "\n",
        "scores = {}\n",
        "for name, model in models2.items():\n",
        "    cv_scores = cross_val_score(model, X_tree, y_tree, cv=cv, scoring=make_scorer(f1_score))\n",
        "    scores[name] = cv_scores\n",
        "    print(f'{name}: {cv_scores} -> mean={cv_scores.mean():.3f}')\n",
        "\n",
        "#ANOVA \n",
        "f_stat, p_value = f_oneway(*scores.values())\n",
        "print('\\nANOVA results')\n",
        "print('F-statistic:', f_stat)\n",
        "print('p-value:', p_value)\n",
        "\n",
        "df_scores = pd.DataFrame(scores)\n",
        "print('\\nScores por fold:')\n",
        "df_scores"
      ]
    },
    {
      "cell_type": "markdown",
      "id": "76388faa",
      "metadata": {},
      "source": [
        "Al igual que el test de significancia entre modelos, el análisis de varianzas entre el cross validation score de los folds también indica que hay una diferencia significativa entre los modelos Logistic Regression y SVM en cuanto a desempeño (pvalue < 0.05), mientras que ocurre el caso contrario entre Random Forest y XGBosst (pvalue > 0.05). "
      ]
    },
    {
      "cell_type": "markdown",
      "id": "80c9033e",
      "metadata": {},
      "source": [
        "### Visualizaciones comparativas"
      ]
    },
    {
      "cell_type": "markdown",
      "id": "0070627c",
      "metadata": {},
      "source": [
        "Curvas ROC superpuestas"
      ]
    },
    {
      "cell_type": "code",
      "execution_count": 73,
      "id": "5a6ec87b",
      "metadata": {},
      "outputs": [
        {
          "data": {
            "image/png": "[encoded data removed]",
            "text/plain": [
              "<Figure size 800x600 with 1 Axes>"
            ]
          },
          "metadata": {},
          "output_type": "display_data"
        }
      ],
      "source": [
        "plt.figure(figsize=(8,6))\n",
        "\n",
        "for nombre, (y_test, y_proba) in {\n",
        "    \"Logistic Regression\": (y_test_svm, log_proba),\n",
        "    \"SVM\": (y_test_svm, svm_proba),\n",
        "    \"Random Forest\": (y_test_tree, rf_proba),\n",
        "    \"XGBoost\": (y_test_tree, xgb_proba)\n",
        "}.items():\n",
        "    fpr, tpr, _ = roc_curve(y_test, y_proba)\n",
        "    roc_auc = auc(fpr, tpr)\n",
        "    plt.plot(fpr, tpr, label=f\"{nombre} (AUC={roc_auc:.2f})\")\n",
        "\n",
        "plt.plot([0,1], [0,1], 'k--')\n",
        "plt.xlabel(\"False Positive Rate\")\n",
        "plt.ylabel(\"True Positive Rate\")\n",
        "plt.title(\"Curvas ROC superpuestas\")\n",
        "plt.legend()\n",
        "plt.show()"
      ]
    },
    {
      "cell_type": "markdown",
      "id": "717131f3",
      "metadata": {},
      "source": [
        "Curvas Precision-Recall"
      ]
    },
    {
      "cell_type": "code",
      "execution_count": 74,
      "id": "0d4315a1",
      "metadata": {},
      "outputs": [
        {
          "data": {
            "image/png": "[encoded data removed]",
            "text/plain": [
              "<Figure size 800x600 with 1 Axes>"
            ]
          },
          "metadata": {},
          "output_type": "display_data"
        }
      ],
      "source": [
        "plt.figure(figsize=(8,6))\n",
        "\n",
        "for nombre, (y_test, y_proba) in {\n",
        "    \"Logistic Regression\": (y_test_svm, log_proba),\n",
        "    \"SVM\": (y_test_svm, svm_proba),\n",
        "    \"Random Forest\": (y_test_tree, rf_proba),\n",
        "    \"XGBoost\": (y_test_tree, xgb_proba)\n",
        "}.items():\n",
        "    precision, recall, _ = precision_recall_curve(y_test, y_proba)\n",
        "    ap = average_precision_score(y_test, y_proba)\n",
        "    plt.plot(recall, precision, label=f\"{nombre} (AvgP={ap:.2f})\")\n",
        "\n",
        "plt.xlabel(\"Recall\")\n",
        "plt.ylabel(\"Precision\")\n",
        "plt.title(\"Curvas Precision-Recall superpuestas\")\n",
        "plt.legend()\n",
        "plt.show()"
      ]
    },
    {
      "cell_type": "markdown",
      "id": "cb00ee66",
      "metadata": {},
      "source": [
        "Box plots de métricas por fold"
      ]
    },
    {
      "cell_type": "code",
      "execution_count": 75,
      "id": "0ff8c58e",
      "metadata": {},
      "outputs": [],
      "source": [
        "scoring = {\n",
        "    'accuracy': make_scorer(accuracy_score),\n",
        "    'precision': make_scorer(precision_score, zero_division=0),\n",
        "    'recall': make_scorer(recall_score, zero_division=0),\n",
        "    'f1': make_scorer(f1_score, zero_division=0),\n",
        "    'roc_auc': 'roc_auc',\n",
        "    #'pr_auc': make_scorer(average_precision_score, needs_threshold=True),\n",
        "    'mcc': make_scorer(matthews_corrcoef),\n",
        "    'balanced_accuracy': make_scorer(balanced_accuracy_score)\n",
        "}\n",
        "\n",
        "cv = StratifiedKFold(n_splits=5, shuffle=True, random_state=42)\n",
        "\n",
        "def cv_results(model, X, y, model_name):\n",
        "    results = cross_validate(\n",
        "        model,\n",
        "        X, y,\n",
        "        cv=cv,\n",
        "        scoring=scoring,\n",
        "        return_train_score=False\n",
        "    )\n",
        "    df_folds = pd.DataFrame(results)\n",
        "    df_folds[\"Fold\"] = range(1, len(df_folds)+1)\n",
        "    df_folds[\"Modelo\"] = model_name\n",
        "    return df_folds\n",
        "\n",
        "cv_log = cv_results(log_best, X_svm, y_svm, \"Logistic Regression\")\n",
        "cv_rf  = cv_results(rf_best, X_tree, y_tree, \"Random Forest\")\n",
        "cv_xgb = cv_results(svm_best, X_tree, y_tree, \"XGBoost\")\n",
        "cv_svm = cv_results(svm_best, X_svm, y_svm, \"SVM\")\n",
        "\n",
        "df_cv = pd.concat([cv_log, cv_rf, cv_xgb, cv_svm], ignore_index=True)"
      ]
    },
    {
      "cell_type": "code",
      "execution_count": 76,
      "id": "24d11fc9",
      "metadata": {},
      "outputs": [
        {
          "data": {
            "application/vnd.microsoft.datawrangler.viewer.v0+json": {
              "columns": [
                {
                  "name": "index",
                  "rawType": "int64",
                  "type": "integer"
                },
                {
                  "name": "fit_time",
                  "rawType": "float64",
                  "type": "float"
                },
                {
                  "name": "score_time",
                  "rawType": "float64",
                  "type": "float"
                },
                {
                  "name": "test_accuracy",
                  "rawType": "float64",
                  "type": "float"
                },
                {
                  "name": "test_precision",
                  "rawType": "float64",
                  "type": "float"
                },
                {
                  "name": "test_recall",
                  "rawType": "float64",
                  "type": "float"
                },
                {
                  "name": "test_f1",
                  "rawType": "float64",
                  "type": "float"
                },
                {
                  "name": "test_roc_auc",
                  "rawType": "float64",
                  "type": "float"
                },
                {
                  "name": "test_mcc",
                  "rawType": "float64",
                  "type": "float"
                },
                {
                  "name": "test_balanced_accuracy",
                  "rawType": "float64",
                  "type": "float"
                },
                {
                  "name": "Fold",
                  "rawType": "int64",
                  "type": "integer"
                },
                {
                  "name": "Modelo",
                  "rawType": "object",
                  "type": "string"
                }
              ],
              "ref": "3a7bbb89-dd5e-4a8d-b9e9-5f052b27033b",
              "rows": [
                [
                  "0",
                  "0.06888580322265625",
                  "0.02537679672241211",
                  "0.8044692737430168",
                  "0.7361111111111112",
                  "0.7681159420289855",
                  "0.75177304964539",
                  "0.852042160737813",
                  "0.5909671171154444",
                  "0.7976943346508564",
                  "1",
                  "Logistic Regression"
                ],
                [
                  "1",
                  "0.1012120246887207",
                  "0.054906368255615234",
                  "0.8314606741573034",
                  "0.7567567567567568",
                  "0.8235294117647058",
                  "0.7887323943661971",
                  "0.8584224598930482",
                  "0.6505666893983002",
                  "0.829946524064171",
                  "2",
                  "Logistic Regression"
                ],
                [
                  "2",
                  "0.06955361366271973",
                  "0.01219797134399414",
                  "0.8033707865168539",
                  "0.7323943661971831",
                  "0.7647058823529411",
                  "0.7482014388489209",
                  "0.8401069518716578",
                  "0.5874024452398436",
                  "0.7959893048128341",
                  "3",
                  "Logistic Regression"
                ],
                [
                  "3",
                  "0.03279304504394531",
                  "0.013115882873535156",
                  "0.8033707865168539",
                  "0.726027397260274",
                  "0.7794117647058824",
                  "0.75177304964539",
                  "0.8434491978609626",
                  "0.5903378708521917",
                  "0.7987967914438503",
                  "4",
                  "Logistic Regression"
                ],
                [
                  "4",
                  "0.06717419624328613",
                  "0.010602235794067383",
                  "0.8314606741573034",
                  "0.7746478873239436",
                  "0.7971014492753623",
                  "0.7857142857142857",
                  "0.8685015290519877",
                  "0.6470514358631324",
                  "0.8251562292248371",
                  "5",
                  "Logistic Regression"
                ],
                [
                  "5",
                  "0.33359384536743164",
                  "0.0320894718170166",
                  "0.8491620111731844",
                  "0.8",
                  "0.8115942028985508",
                  "0.8057553956834532",
                  "0.9113965744400527",
                  "0.6825253531698271",
                  "0.8421607378129117",
                  "1",
                  "Random Forest"
                ],
                [
                  "6",
                  "0.333620548248291",
                  "0.03162956237792969",
                  "0.8314606741573034",
                  "0.75",
                  "0.8382352941176471",
                  "0.7916666666666666",
                  "0.8887032085561497",
                  "0.653728187512012",
                  "0.8327540106951872",
                  "2",
                  "Random Forest"
                ],
                [
                  "7",
                  "0.3202519416809082",
                  "0.033269405364990234",
                  "0.8258426966292135",
                  "0.7681159420289855",
                  "0.7794117647058824",
                  "0.7737226277372263",
                  "0.8635026737967915",
                  "0.6322268797736211",
                  "0.8169786096256684",
                  "3",
                  "Random Forest"
                ],
                [
                  "8",
                  "0.3551187515258789",
                  "0.04061770439147949",
                  "0.8033707865168539",
                  "0.7391304347826086",
                  "0.75",
                  "0.7445255474452555",
                  "0.8669786096256685",
                  "0.5847632000605445",
                  "0.7931818181818182",
                  "4",
                  "Random Forest"
                ],
                [
                  "9",
                  "0.34767699241638184",
                  "0.03327775001525879",
                  "0.848314606741573",
                  "0.7916666666666666",
                  "0.8260869565217391",
                  "0.8085106382978723",
                  "0.8972211142135353",
                  "0.6834473610117038",
                  "0.8442361388113283",
                  "5",
                  "Random Forest"
                ],
                [
                  "10",
                  "0.08976316452026367",
                  "0.038544416427612305",
                  "0.8324022346368715",
                  "0.8095238095238095",
                  "0.7391304347826086",
                  "0.7727272727272727",
                  "0.8714756258234518",
                  "0.6420804022876541",
                  "0.8150197628458498",
                  "1",
                  "XGBoost"
                ],
                [
                  "11",
                  "0.12208390235900879",
                  "0.031010150909423828",
                  "0.8258426966292135",
                  "0.7761194029850746",
                  "0.7647058823529411",
                  "0.7703703703703704",
                  "0.8747994652406419",
                  "0.6301561342633923",
                  "0.8141711229946524",
                  "2",
                  "XGBoost"
                ],
                [
                  "12",
                  "0.14028525352478027",
                  "0.030347108840942383",
                  "0.8089887640449438",
                  "0.7833333333333333",
                  "0.6911764705882353",
                  "0.734375",
                  "0.8421122994652407",
                  "0.5889585609114536",
                  "0.7864973262032086",
                  "3",
                  "XGBoost"
                ],
                [
                  "13",
                  "0.13556623458862305",
                  "0.039588212966918945",
                  "0.8314606741573034",
                  "0.796875",
                  "0.75",
                  "0.7727272727272727",
                  "0.8561497326203209",
                  "0.6397355804071831",
                  "0.8159090909090909",
                  "4",
                  "XGBoost"
                ],
                [
                  "14",
                  "0.092620849609375",
                  "0.027086257934570312",
                  "0.8539325842696629",
                  "0.8524590163934426",
                  "0.7536231884057971",
                  "0.8",
                  "0.9037362052918496",
                  "0.6888706189206663",
                  "0.8355271905331738",
                  "5",
                  "XGBoost"
                ],
                [
                  "15",
                  "0.11190581321716309",
                  "0.030253171920776367",
                  "0.6145251396648045",
                  "0.0",
                  "0.0",
                  "0.0",
                  "0.8420289855072464",
                  "0.0",
                  "0.5",
                  "1",
                  "SVM"
                ],
                [
                  "16",
                  "0.11983919143676758",
                  "0.026094913482666016",
                  "0.6179775280898876",
                  "0.0",
                  "0.0",
                  "0.0",
                  "0.7919786096256685",
                  "0.0",
                  "0.5",
                  "2",
                  "SVM"
                ],
                [
                  "17",
                  "0.11298394203186035",
                  "0.03095269203186035",
                  "0.6179775280898876",
                  "0.0",
                  "0.0",
                  "0.0",
                  "0.7252673796791443",
                  "0.0",
                  "0.5",
                  "3",
                  "SVM"
                ],
                [
                  "18",
                  "0.1173713207244873",
                  "0.0321962833404541",
                  "0.6179775280898876",
                  "0.0",
                  "0.0",
                  "0.0",
                  "0.7397058823529411",
                  "0.0",
                  "0.5",
                  "4",
                  "SVM"
                ],
                [
                  "19",
                  "0.1289050579071045",
                  "0.032885074615478516",
                  "0.6123595505617978",
                  "0.0",
                  "0.0",
                  "0.0",
                  "0.789123786730488",
                  "0.0",
                  "0.5",
                  "5",
                  "SVM"
                ]
              ],
              "shape": {
                "columns": 11,
                "rows": 20
              }
            },
            "text/html": [
              "<div>\n",
              "<style scoped>\n",
              "    .dataframe tbody tr th:only-of-type {\n",
              "        vertical-align: middle;\n",
              "    }\n",
              "\n",
              "    .dataframe tbody tr th {\n",
              "        vertical-align: top;\n",
              "    }\n",
              "\n",
              "    .dataframe thead th {\n",
              "        text-align: right;\n",
              "    }\n",
              "</style>\n",
              "<table border=\"1\" class=\"dataframe\">\n",
              "  <thead>\n",
              "    <tr style=\"text-align: right;\">\n",
              "      <th></th>\n",
              "      <th>fit_time</th>\n",
              "      <th>score_time</th>\n",
              "      <th>test_accuracy</th>\n",
              "      <th>test_precision</th>\n",
              "      <th>test_recall</th>\n",
              "      <th>test_f1</th>\n",
              "      <th>test_roc_auc</th>\n",
              "      <th>test_mcc</th>\n",
              "      <th>test_balanced_accuracy</th>\n",
              "      <th>Fold</th>\n",
              "      <th>Modelo</th>\n",
              "    </tr>\n",
              "  </thead>\n",
              "  <tbody>\n",
              "    <tr>\n",
              "      <th>0</th>\n",
              "      <td>0.068886</td>\n",
              "      <td>0.025377</td>\n",
              "      <td>0.804469</td>\n",
              "      <td>0.736111</td>\n",
              "      <td>0.768116</td>\n",
              "      <td>0.751773</td>\n",
              "      <td>0.852042</td>\n",
              "      <td>0.590967</td>\n",
              "      <td>0.797694</td>\n",
              "      <td>1</td>\n",
              "      <td>Logistic Regression</td>\n",
              "    </tr>\n",
              "    <tr>\n",
              "      <th>1</th>\n",
              "      <td>0.101212</td>\n",
              "      <td>0.054906</td>\n",
              "      <td>0.831461</td>\n",
              "      <td>0.756757</td>\n",
              "      <td>0.823529</td>\n",
              "      <td>0.788732</td>\n",
              "      <td>0.858422</td>\n",
              "      <td>0.650567</td>\n",
              "      <td>0.829947</td>\n",
              "      <td>2</td>\n",
              "      <td>Logistic Regression</td>\n",
              "    </tr>\n",
              "    <tr>\n",
              "      <th>2</th>\n",
              "      <td>0.069554</td>\n",
              "      <td>0.012198</td>\n",
              "      <td>0.803371</td>\n",
              "      <td>0.732394</td>\n",
              "      <td>0.764706</td>\n",
              "      <td>0.748201</td>\n",
              "      <td>0.840107</td>\n",
              "      <td>0.587402</td>\n",
              "      <td>0.795989</td>\n",
              "      <td>3</td>\n",
              "      <td>Logistic Regression</td>\n",
              "    </tr>\n",
              "    <tr>\n",
              "      <th>3</th>\n",
              "      <td>0.032793</td>\n",
              "      <td>0.013116</td>\n",
              "      <td>0.803371</td>\n",
              "      <td>0.726027</td>\n",
              "      <td>0.779412</td>\n",
              "      <td>0.751773</td>\n",
              "      <td>0.843449</td>\n",
              "      <td>0.590338</td>\n",
              "      <td>0.798797</td>\n",
              "      <td>4</td>\n",
              "      <td>Logistic Regression</td>\n",
              "    </tr>\n",
              "    <tr>\n",
              "      <th>4</th>\n",
              "      <td>0.067174</td>\n",
              "      <td>0.010602</td>\n",
              "      <td>0.831461</td>\n",
              "      <td>0.774648</td>\n",
              "      <td>0.797101</td>\n",
              "      <td>0.785714</td>\n",
              "      <td>0.868502</td>\n",
              "      <td>0.647051</td>\n",
              "      <td>0.825156</td>\n",
              "      <td>5</td>\n",
              "      <td>Logistic Regression</td>\n",
              "    </tr>\n",
              "    <tr>\n",
              "      <th>5</th>\n",
              "      <td>0.333594</td>\n",
              "      <td>0.032089</td>\n",
              "      <td>0.849162</td>\n",
              "      <td>0.800000</td>\n",
              "      <td>0.811594</td>\n",
              "      <td>0.805755</td>\n",
              "      <td>0.911397</td>\n",
              "      <td>0.682525</td>\n",
              "      <td>0.842161</td>\n",
              "      <td>1</td>\n",
              "      <td>Random Forest</td>\n",
              "    </tr>\n",
              "    <tr>\n",
              "      <th>6</th>\n",
              "      <td>0.333621</td>\n",
              "      <td>0.031630</td>\n",
              "      <td>0.831461</td>\n",
              "      <td>0.750000</td>\n",
              "      <td>0.838235</td>\n",
              "      <td>0.791667</td>\n",
              "      <td>0.888703</td>\n",
              "      <td>0.653728</td>\n",
              "      <td>0.832754</td>\n",
              "      <td>2</td>\n",
              "      <td>Random Forest</td>\n",
              "    </tr>\n",
              "    <tr>\n",
              "      <th>7</th>\n",
              "      <td>0.320252</td>\n",
              "      <td>0.033269</td>\n",
              "      <td>0.825843</td>\n",
              "      <td>0.768116</td>\n",
              "      <td>0.779412</td>\n",
              "      <td>0.773723</td>\n",
              "      <td>0.863503</td>\n",
              "      <td>0.632227</td>\n",
              "      <td>0.816979</td>\n",
              "      <td>3</td>\n",
              "      <td>Random Forest</td>\n",
              "    </tr>\n",
              "    <tr>\n",
              "      <th>8</th>\n",
              "      <td>0.355119</td>\n",
              "      <td>0.040618</td>\n",
              "      <td>0.803371</td>\n",
              "      <td>0.739130</td>\n",
              "      <td>0.750000</td>\n",
              "      <td>0.744526</td>\n",
              "      <td>0.866979</td>\n",
              "      <td>0.584763</td>\n",
              "      <td>0.793182</td>\n",
              "      <td>4</td>\n",
              "      <td>Random Forest</td>\n",
              "    </tr>\n",
              "    <tr>\n",
              "      <th>9</th>\n",
              "      <td>0.347677</td>\n",
              "      <td>0.033278</td>\n",
              "      <td>0.848315</td>\n",
              "      <td>0.791667</td>\n",
              "      <td>0.826087</td>\n",
              "      <td>0.808511</td>\n",
              "      <td>0.897221</td>\n",
              "      <td>0.683447</td>\n",
              "      <td>0.844236</td>\n",
              "      <td>5</td>\n",
              "      <td>Random Forest</td>\n",
              "    </tr>\n",
              "    <tr>\n",
              "      <th>10</th>\n",
              "      <td>0.089763</td>\n",
              "      <td>0.038544</td>\n",
              "      <td>0.832402</td>\n",
              "      <td>0.809524</td>\n",
              "      <td>0.739130</td>\n",
              "      <td>0.772727</td>\n",
              "      <td>0.871476</td>\n",
              "      <td>0.642080</td>\n",
              "      <td>0.815020</td>\n",
              "      <td>1</td>\n",
              "      <td>XGBoost</td>\n",
              "    </tr>\n",
              "    <tr>\n",
              "      <th>11</th>\n",
              "      <td>0.122084</td>\n",
              "      <td>0.031010</td>\n",
              "      <td>0.825843</td>\n",
              "      <td>0.776119</td>\n",
              "      <td>0.764706</td>\n",
              "      <td>0.770370</td>\n",
              "      <td>0.874799</td>\n",
              "      <td>0.630156</td>\n",
              "      <td>0.814171</td>\n",
              "      <td>2</td>\n",
              "      <td>XGBoost</td>\n",
              "    </tr>\n",
              "    <tr>\n",
              "      <th>12</th>\n",
              "      <td>0.140285</td>\n",
              "      <td>0.030347</td>\n",
              "      <td>0.808989</td>\n",
              "      <td>0.783333</td>\n",
              "      <td>0.691176</td>\n",
              "      <td>0.734375</td>\n",
              "      <td>0.842112</td>\n",
              "      <td>0.588959</td>\n",
              "      <td>0.786497</td>\n",
              "      <td>3</td>\n",
              "      <td>XGBoost</td>\n",
              "    </tr>\n",
              "    <tr>\n",
              "      <th>13</th>\n",
              "      <td>0.135566</td>\n",
              "      <td>0.039588</td>\n",
              "      <td>0.831461</td>\n",
              "      <td>0.796875</td>\n",
              "      <td>0.750000</td>\n",
              "      <td>0.772727</td>\n",
              "      <td>0.856150</td>\n",
              "      <td>0.639736</td>\n",
              "      <td>0.815909</td>\n",
              "      <td>4</td>\n",
              "      <td>XGBoost</td>\n",
              "    </tr>\n",
              "    <tr>\n",
              "      <th>14</th>\n",
              "      <td>0.092621</td>\n",
              "      <td>0.027086</td>\n",
              "      <td>0.853933</td>\n",
              "      <td>0.852459</td>\n",
              "      <td>0.753623</td>\n",
              "      <td>0.800000</td>\n",
              "      <td>0.903736</td>\n",
              "      <td>0.688871</td>\n",
              "      <td>0.835527</td>\n",
              "      <td>5</td>\n",
              "      <td>XGBoost</td>\n",
              "    </tr>\n",
              "    <tr>\n",
              "      <th>15</th>\n",
              "      <td>0.111906</td>\n",
              "      <td>0.030253</td>\n",
              "      <td>0.614525</td>\n",
              "      <td>0.000000</td>\n",
              "      <td>0.000000</td>\n",
              "      <td>0.000000</td>\n",
              "      <td>0.842029</td>\n",
              "      <td>0.000000</td>\n",
              "      <td>0.500000</td>\n",
              "      <td>1</td>\n",
              "      <td>SVM</td>\n",
              "    </tr>\n",
              "    <tr>\n",
              "      <th>16</th>\n",
              "      <td>0.119839</td>\n",
              "      <td>0.026095</td>\n",
              "      <td>0.617978</td>\n",
              "      <td>0.000000</td>\n",
              "      <td>0.000000</td>\n",
              "      <td>0.000000</td>\n",
              "      <td>0.791979</td>\n",
              "      <td>0.000000</td>\n",
              "      <td>0.500000</td>\n",
              "      <td>2</td>\n",
              "      <td>SVM</td>\n",
              "    </tr>\n",
              "    <tr>\n",
              "      <th>17</th>\n",
              "      <td>0.112984</td>\n",
              "      <td>0.030953</td>\n",
              "      <td>0.617978</td>\n",
              "      <td>0.000000</td>\n",
              "      <td>0.000000</td>\n",
              "      <td>0.000000</td>\n",
              "      <td>0.725267</td>\n",
              "      <td>0.000000</td>\n",
              "      <td>0.500000</td>\n",
              "      <td>3</td>\n",
              "      <td>SVM</td>\n",
              "    </tr>\n",
              "    <tr>\n",
              "      <th>18</th>\n",
              "      <td>0.117371</td>\n",
              "      <td>0.032196</td>\n",
              "      <td>0.617978</td>\n",
              "      <td>0.000000</td>\n",
              "      <td>0.000000</td>\n",
              "      <td>0.000000</td>\n",
              "      <td>0.739706</td>\n",
              "      <td>0.000000</td>\n",
              "      <td>0.500000</td>\n",
              "      <td>4</td>\n",
              "      <td>SVM</td>\n",
              "    </tr>\n",
              "    <tr>\n",
              "      <th>19</th>\n",
              "      <td>0.128905</td>\n",
              "      <td>0.032885</td>\n",
              "      <td>0.612360</td>\n",
              "      <td>0.000000</td>\n",
              "      <td>0.000000</td>\n",
              "      <td>0.000000</td>\n",
              "      <td>0.789124</td>\n",
              "      <td>0.000000</td>\n",
              "      <td>0.500000</td>\n",
              "      <td>5</td>\n",
              "      <td>SVM</td>\n",
              "    </tr>\n",
              "  </tbody>\n",
              "</table>\n",
              "</div>"
            ],
            "text/plain": [
              "    fit_time  score_time  test_accuracy  test_precision  test_recall  \\\n",
              "0   0.068886    0.025377       0.804469        0.736111     0.768116   \n",
              "1   0.101212    0.054906       0.831461        0.756757     0.823529   \n",
              "2   0.069554    0.012198       0.803371        0.732394     0.764706   \n",
              "3   0.032793    0.013116       0.803371        0.726027     0.779412   \n",
              "4   0.067174    0.010602       0.831461        0.774648     0.797101   \n",
              "5   0.333594    0.032089       0.849162        0.800000     0.811594   \n",
              "6   0.333621    0.031630       0.831461        0.750000     0.838235   \n",
              "7   0.320252    0.033269       0.825843        0.768116     0.779412   \n",
              "8   0.355119    0.040618       0.803371        0.739130     0.750000   \n",
              "9   0.347677    0.033278       0.848315        0.791667     0.826087   \n",
              "10  0.089763    0.038544       0.832402        0.809524     0.739130   \n",
              "11  0.122084    0.031010       0.825843        0.776119     0.764706   \n",
              "12  0.140285    0.030347       0.808989        0.783333     0.691176   \n",
              "13  0.135566    0.039588       0.831461        0.796875     0.750000   \n",
              "14  0.092621    0.027086       0.853933        0.852459     0.753623   \n",
              "15  0.111906    0.030253       0.614525        0.000000     0.000000   \n",
              "16  0.119839    0.026095       0.617978        0.000000     0.000000   \n",
              "17  0.112984    0.030953       0.617978        0.000000     0.000000   \n",
              "18  0.117371    0.032196       0.617978        0.000000     0.000000   \n",
              "19  0.128905    0.032885       0.612360        0.000000     0.000000   \n",
              "\n",
              "     test_f1  test_roc_auc  test_mcc  test_balanced_accuracy  Fold  \\\n",
              "0   0.751773      0.852042  0.590967                0.797694     1   \n",
              "1   0.788732      0.858422  0.650567                0.829947     2   \n",
              "2   0.748201      0.840107  0.587402                0.795989     3   \n",
              "3   0.751773      0.843449  0.590338                0.798797     4   \n",
              "4   0.785714      0.868502  0.647051                0.825156     5   \n",
              "5   0.805755      0.911397  0.682525                0.842161     1   \n",
              "6   0.791667      0.888703  0.653728                0.832754     2   \n",
              "7   0.773723      0.863503  0.632227                0.816979     3   \n",
              "8   0.744526      0.866979  0.584763                0.793182     4   \n",
              "9   0.808511      0.897221  0.683447                0.844236     5   \n",
              "10  0.772727      0.871476  0.642080                0.815020     1   \n",
              "11  0.770370      0.874799  0.630156                0.814171     2   \n",
              "12  0.734375      0.842112  0.588959                0.786497     3   \n",
              "13  0.772727      0.856150  0.639736                0.815909     4   \n",
              "14  0.800000      0.903736  0.688871                0.835527     5   \n",
              "15  0.000000      0.842029  0.000000                0.500000     1   \n",
              "16  0.000000      0.791979  0.000000                0.500000     2   \n",
              "17  0.000000      0.725267  0.000000                0.500000     3   \n",
              "18  0.000000      0.739706  0.000000                0.500000     4   \n",
              "19  0.000000      0.789124  0.000000                0.500000     5   \n",
              "\n",
              "                 Modelo  \n",
              "0   Logistic Regression  \n",
              "1   Logistic Regression  \n",
              "2   Logistic Regression  \n",
              "3   Logistic Regression  \n",
              "4   Logistic Regression  \n",
              "5         Random Forest  \n",
              "6         Random Forest  \n",
              "7         Random Forest  \n",
              "8         Random Forest  \n",
              "9         Random Forest  \n",
              "10              XGBoost  \n",
              "11              XGBoost  \n",
              "12              XGBoost  \n",
              "13              XGBoost  \n",
              "14              XGBoost  \n",
              "15                  SVM  \n",
              "16                  SVM  \n",
              "17                  SVM  \n",
              "18                  SVM  \n",
              "19                  SVM  "
            ]
          },
          "execution_count": 76,
          "metadata": {},
          "output_type": "execute_result"
        }
      ],
      "source": [
        "df_cv"
      ]
    },
    {
      "cell_type": "code",
      "execution_count": 77,
      "id": "6d28147b",
      "metadata": {},
      "outputs": [
        {
          "data": {
            "image/png": "[encoded data removed]",
            "text/plain": [
              "<Figure size 1200x600 with 1 Axes>"
            ]
          },
          "metadata": {},
          "output_type": "display_data"
        }
      ],
      "source": [
        "df_long = df_cv.melt(\n",
        "    id_vars=[\"Modelo\",\"Fold\"], \n",
        "    value_vars=[\"test_accuracy\", \"test_precision\", \"test_recall\", \"test_f1\", \"test_roc_auc\", \"test_mcc\", \"test_balanced_accuracy\"],\n",
        "    var_name=\"Métrica\", \n",
        "    value_name=\"Valor\"\n",
        ")\n",
        "\n",
        "plt.figure(figsize=(12,6))\n",
        "sns.boxplot(\n",
        "    data=df_long,\n",
        "    x=\"Métrica\", y=\"Valor\", hue=\"Modelo\"\n",
        ")\n",
        "\n",
        "plt.title(\"Distribución de métricas por Fold\")\n",
        "plt.xticks(rotation=45)\n",
        "plt.legend(loc=\"lower left\")\n",
        "plt.show()"
      ]
    },
    {
      "cell_type": "markdown",
      "id": "82eeaee4",
      "metadata": {},
      "source": [
        "Sin Métricas = 0 para todos los folds de SVM"
      ]
    },
    {
      "cell_type": "code",
      "execution_count": 78,
      "id": "2a4abee7",
      "metadata": {},
      "outputs": [
        {
          "data": {
            "image/png": "[encoded data removed]",
            "text/plain": [
              "<Figure size 1200x600 with 1 Axes>"
            ]
          },
          "metadata": {},
          "output_type": "display_data"
        }
      ],
      "source": [
        "#quitar métricas cuyo valor es 0 en todos los folds\n",
        "df_long2 = df_long.dropna(subset=[\"Valor\"]).copy()\n",
        "\n",
        "mask = df_long2.groupby([\"Métrica\",\"Modelo\"])[\"Valor\"].transform(lambda x: (x != 0).any())\n",
        "df_plot = df_long2[mask]\n",
        "\n",
        "plt.figure(figsize=(12,6))\n",
        "sns.boxplot(\n",
        "    data=df_plot,\n",
        "    x=\"Métrica\", y=\"Valor\", hue=\"Modelo\"\n",
        ")\n",
        "plt.title(\"Distribución de métricas por Fold (sin métricas = 0)\")\n",
        "plt.xticks(rotation=45)\n",
        "plt.legend(loc=\"lower center\")\n",
        "plt.show()"
      ]
    },
    {
      "cell_type": "markdown",
      "id": "ad8755fd",
      "metadata": {},
      "source": [
        "Radar charts de múltiples métricas"
      ]
    },
    {
      "cell_type": "code",
      "execution_count": 79,
      "id": "83d61ae5",
      "metadata": {},
      "outputs": [
        {
          "data": {
            "image/png": "[encoded data removed]",
            "text/plain": [
              "<Figure size 800x800 with 1 Axes>"
            ]
          },
          "metadata": {},
          "output_type": "display_data"
        }
      ],
      "source": [
        "#radar chart\n",
        "metrics = list(comp_mods.columns[1:-2])\n",
        "N = len(metrics)\n",
        "\n",
        "angles = [n / float(N) * 2 * pi for n in range(N)]\n",
        "angles += angles[:1]\n",
        "\n",
        "plt.figure(figsize=(8,8))\n",
        "\n",
        "for i, row in comp_mods.iterrows():\n",
        "    values = row[1:-2].tolist()\n",
        "    values += values[:1]\n",
        "    plt.polar(angles, values, label=row[\"Modelo\"])\n",
        "    plt.fill(angles, values, alpha=0.1)\n",
        "\n",
        "plt.xticks(angles[:-1], metrics)\n",
        "plt.title(\"Radar chart de métricas\")\n",
        "plt.legend(loc=\"upper right\", bbox_to_anchor=(1.1, 1.1))\n",
        "plt.show()"
      ]
    }
  ],
  "metadata": {
    "colab": {
      "provenance": [],
      "toc_visible": true
    },
    "kernelspec": {
      "display_name": "Python (.dataFootiL)",
      "language": "python",
      "name": "datafootil_env"
    },
    "language_info": {
      "codemirror_mode": {
        "name": "ipython",
        "version": 3
      },
      "file_extension": ".py",
      "mimetype": "text/x-python",
      "name": "python",
      "nbconvert_exporter": "python",
      "pygments_lexer": "ipython3",
      "version": "3.11.13"
    }
  },
  "nbformat": 4,
  "nbformat_minor": 5
}
